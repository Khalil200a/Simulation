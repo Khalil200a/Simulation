{
 "cells": [
  {
   "cell_type": "code",
   "execution_count": 1,
   "outputs": [],
   "source": [
    "import pandas as pd\n",
    "import random"
   ],
   "metadata": {
    "collapsed": false
   }
  },
  {
   "cell_type": "code",
   "execution_count": 2,
   "outputs": [],
   "source": [
    "# Veut dire que c’est un passage par adresse des 3 variables IX, IY et IZ.\n",
    "# 3 variables entières qu’il faut initialiser avant le 1er appel de la fonction.\n",
    "# Veut dire que la fonction est typée, elle retourne un nombre réel.\n",
    "def alea(IX, IY, IZ):\n",
    "    # Déclaration d’une variable inter de type réel\n",
    "    inter = 0.0\n",
    "    # A chaque exécution de la fonction, les valeurs des 3 variables sont recalculées, d’où un passage par adresse.\n",
    "    # % : division entière\n",
    "    # // : reste de la division entière\n",
    "    IX = 171 * (IX % 177) - 2 * (IX // 177)\n",
    "    IY = 172 * (IY % 176) - 35 * (IY // 176)\n",
    "    IZ = 170 * (IZ % 178) - 63 * (IZ // 178)\n",
    "    # S’il y a un dépassement de capacité sur une variable, on ajoute un nombre très grand, pour la machine 16 bits,\n",
    "    # pour ramener à une valeur positive. Ce qui marche sur une machine 16 bits marche sur une 32 ou 64 bits.\n",
    "    if IX < 0:\n",
    "        IX = IX + 30269\n",
    "    if IY < 0:\n",
    "        IY = IY + 30307\n",
    "    if IZ < 0:\n",
    "        IZ = IZ + 30323\n",
    "    inter = ((IX / 30269) + (IY / 30307) + (IZ / 30323))\n",
    "    return [round(inter - int(inter), 4),IX, IY, IZ]"
   ],
   "metadata": {
    "collapsed": false
   }
  },
  {
   "cell_type": "code",
   "execution_count": 3,
   "outputs": [],
   "source": [
    "IX = 100\n",
    "IY = 100\n",
    "IZ = 100"
   ],
   "metadata": {
    "collapsed": false
   }
  },
  {
   "cell_type": "code",
   "execution_count": 4,
   "outputs": [],
   "source": [
    "salaire = [(40000, 30000), (30000, 20000), (20000, 15000), (15000, 10000), (10000, 7500), (7500, 5000), (5000, 3000)]\n",
    "frequenceSalaire = [5, 10, 10, 15, 20, 20, 20]\n",
    "age = [(61, 53), (52, 41), (40, 31), (30, 21)]\n",
    "frequenceAge = [30, 30, 20, 20]\n",
    "ageEmbauche = [(21, 22), (23, 24), (25, 28), (29, 32), (33, 35), (36, 40)]\n",
    "frequenceAgeEmbauche = [5, 20, 25, 25, 20, 5]\n",
    "salaire_embauche=[(32000,24000),(24000,16000),(16000,12000),(12000,8000),(8000,6000),(6000,4000),(4000,3000)]\n",
    "frequenceSalaireEmbauche=[5,5,10,20,20,20,20]\n",
    "years = [24, 25, 26, 27, 28, 29, 30, 31, 32, 33]"
   ],
   "metadata": {
    "collapsed": false
   }
  },
  {
   "cell_type": "code",
   "execution_count": 5,
   "outputs": [],
   "source": [
    "ensemble_data_frames = {}\n",
    "for j in range(1, 41):\n",
    "    data_frames = {}\n",
    "    for i in range(23, 34) :\n",
    "        data_frames['Employe_20'+str(i)] = pd.DataFrame(columns=[\"id\", \"age\", \"salaire\", \"cotisation\"])\n",
    "        data_frames['Retraite_20'+str(i)] = pd.DataFrame(columns=[\"id\", \"age\", \"salaire\"])\n",
    "        data_frames['newRecru_20'+str(i)] = pd.DataFrame(columns=[\"id\", \"age\", \"salaire\", \"cotisation\"])\n",
    "    ensemble_data_frames['Simulation_'+str(j)] = data_frames"
   ],
   "metadata": {
    "collapsed": false
   }
  },
  {
   "cell_type": "code",
   "execution_count": 6,
   "outputs": [],
   "source": [
    "data_indices = {}\n",
    "for j in range(1, 41):\n",
    "    data_indices['Simulation_'+str(j)] = pd.DataFrame(columns=[\"year\", \"TotEmp\", \"TotRet\", \"TotCotis\", \"TotPens\", \"Reserve\", \"NouvRet\", \"NouvRec\"])"
   ],
   "metadata": {
    "collapsed": false
   }
  },
  {
   "cell_type": "code",
   "execution_count": 28,
   "outputs": [],
   "source": [
    "def cumuleFrequenceIntervale(frequences):\n",
    "    cumules = []\n",
    "    indexisation = 0\n",
    "    for i in frequences:\n",
    "        cumules.append([indexisation, i+indexisation])\n",
    "        indexisation += i\n",
    "    return cumules"
   ],
   "metadata": {
    "collapsed": false
   }
  },
  {
   "cell_type": "code",
   "execution_count": 27,
   "outputs": [],
   "source": [
    "def indexFromTable(cumules, aleaNumber):\n",
    "    i = 0\n",
    "    for intervale in cumules :\n",
    "        if intervale[1] > aleaNumber*100 :\n",
    "            return i\n",
    "        i+=1\n",
    "    return i-1"
   ],
   "metadata": {
    "collapsed": false
   }
  },
  {
   "cell_type": "code",
   "execution_count": 9,
   "outputs": [],
   "source": [
    "def cotisation(salaire):\n",
    "    if salaire < 5000:\n",
    "        return salaire*0.05\n",
    "    elif salaire < 7000 :\n",
    "        return salaire*0.06\n",
    "    elif salaire < 100000 :\n",
    "        return salaire*0.07\n",
    "    else:\n",
    "        return salaire*0.1"
   ],
   "metadata": {
    "collapsed": false
   }
  },
  {
   "cell_type": "code",
   "execution_count": 10,
   "outputs": [],
   "source": [
    "def createEmployeRetraite(simulation, year, IX, IY, IZ):\n",
    "    dfEmploye = ensemble_data_frames[\"Simulation_\"+str(simulation)][\"Employe_20\"+str(year)]\n",
    "    dfRetraite = ensemble_data_frames[\"Simulation_\"+str(simulation)][\"Retraite_20\"+str(year)]\n",
    "    for index in range(11000):\n",
    "        if index >=1:\n",
    "            IX = alea(IX, IY, IZ)[1]\n",
    "            IY = alea(IX, IY, IZ)[2]\n",
    "            IZ = alea(IX, IY, IZ)[3]\n",
    "        salaireIndex = indexFromTable(cumuleFrequenceIntervale(frequenceSalaire), alea(IX, IY, IZ)[0])\n",
    "        ageIndex = indexFromTable(cumuleFrequenceIntervale(frequenceAge), alea(IX, IY, IZ)[0])\n",
    "        i = index+1\n",
    "        s = random.randrange(salaire[salaireIndex][1], salaire[salaireIndex][0], 100)\n",
    "        if index <10000:\n",
    "            a = random.randrange(age[ageIndex][1], age[ageIndex][0], 1)\n",
    "\n",
    "            new_row = pd.DataFrame( {\"id\" : [i], \"age\": [a], \"salaire\": [s], \"cotisation\" : [cotisation(s)]})\n",
    "            dfEmploye = pd.concat([dfEmploye, new_row], ignore_index=True)\n",
    "        else:\n",
    "            a = random.randint(65, 85)\n",
    "            new_row = pd.DataFrame( {\"id\" : [i], \"age\": [a], \"salaire\": [s]})\n",
    "            dfRetraite = pd.concat([dfRetraite, new_row], ignore_index=True)\n",
    "    ensemble_data_frames[\"Simulation_\"+str(simulation)][\"Employe_20\"+str(year)] = dfEmploye\n",
    "    ensemble_data_frames[\"Simulation_\"+str(simulation)][\"Retraite_20\"+str(year)] = dfRetraite"
   ],
   "metadata": {
    "collapsed": false
   }
  },
  {
   "cell_type": "code",
   "execution_count": 11,
   "outputs": [],
   "source": [
    "def pensionnaireFive(dfRetrait) :\n",
    "    pensionnaire65 = pd.DataFrame(columns=[\"id\", \"age\", \"salaire\", \"pension\"])\n",
    "    for index, row in dfRetrait.iterrows():\n",
    "        a = row[\"age\"]\n",
    "        s = row[\"salaire\"]\n",
    "        p = ((25*2)/100)*row[\"salaire\"]\n",
    "        new_row = pd.DataFrame( {\"id\" : row[\"id\"], \"age\": [a], \"salaire\": [s], \"pension\": [p]})\n",
    "        pensionnaire65 = pd.concat([pensionnaire65, new_row], ignore_index=True)\n",
    "    return pensionnaire65"
   ],
   "metadata": {
    "collapsed": false
   }
  },
  {
   "cell_type": "code",
   "execution_count": 12,
   "outputs": [],
   "source": [
    "def pensionnaireTwo(dfEmploye, dfRetraite):\n",
    "    pensionnaire62 = pd.DataFrame(columns=[\"id\", \"age\", \"salaire\", \"pension\"])\n",
    "    pensionnaire65 = pensionnaireFive(dfRetraite)\n",
    "    pensionnaire62 = pd.concat([pensionnaire62, pensionnaire65], ignore_index=True)\n",
    "    for index, row in dfEmploye.iterrows():\n",
    "        if row[\"age\"]>=62:\n",
    "            a = row[\"age\"]\n",
    "            s = row[\"salaire\"]\n",
    "            p = ((25*2)/100)*row[\"salaire\"]\n",
    "            new_row = pd.DataFrame( {\"id\" : row[\"id\"], \"age\": [a], \"salaire\": [s], \"pension\": [p]})\n",
    "            pensionnaire62 = pd.concat([pensionnaire62, new_row], ignore_index=True)\n",
    "    return pensionnaire62"
   ],
   "metadata": {
    "collapsed": false
   }
  },
  {
   "cell_type": "code",
   "execution_count": 13,
   "outputs": [],
   "source": [
    "def newRecrutement(IX, IY, IZ):\n",
    "    Nouveux_Recrus = pd.DataFrame(columns=[\"id\", \"age\", \"salaire\"])\n",
    "    a=alea(IX, IY, IZ)[0]\n",
    "    n = ((400 - 250) * a) + 250\n",
    "    for index in range(int(n)):\n",
    "        if index >= 0 :\n",
    "            IX = alea(IX, IY, IZ)[1]\n",
    "            IY = alea(IX, IY, IZ)[2]\n",
    "            IZ = alea(IX, IY, IZ)[3]\n",
    "        salaireIndex = indexFromTable(cumuleFrequenceIntervale(frequenceSalaireEmbauche), alea(IX, IY, IZ)[0])\n",
    "        ageIndex = indexFromTable(cumuleFrequenceIntervale(frequenceAgeEmbauche), alea(IX, IY, IZ)[0])\n",
    "        i = index+1\n",
    "        s = random.randrange(salaire_embauche[salaireIndex][1], salaire_embauche[salaireIndex][0], 100)\n",
    "        a = random.randrange(ageEmbauche[ageIndex][0], ageEmbauche[ageIndex][1], 1)\n",
    "        new_row = pd.DataFrame( {\"id\" : [i], \"age\": [a], \"salaire\": [s], \"cotisation\" : [cotisation(s)]})\n",
    "        Nouveux_Recrus = pd.concat([Nouveux_Recrus, new_row], ignore_index=True)\n",
    "    return Nouveux_Recrus"
   ],
   "metadata": {
    "collapsed": false
   }
  },
  {
   "cell_type": "code",
   "execution_count": 14,
   "outputs": [],
   "source": [
    "def calculEmployeRetraite(simulation, i, IX, IY, IZ):\n",
    "    EmployeBeta = ensemble_data_frames[\"Simulation_\"+str(simulation)]['Employe_20'+str(i-1)]\n",
    "    RetraiteBeta = ensemble_data_frames[\"Simulation_\"+str(simulation)]['Retraite_20'+str(i-1)]\n",
    "    EmployeAlpha = ensemble_data_frames[\"Simulation_\"+str(simulation)]['Employe_20'+str(i)]\n",
    "    RetraiteAlpha = ensemble_data_frames[\"Simulation_\"+str(simulation)]['Retraite_20'+str(i)]\n",
    "    for index, row in EmployeBeta.iterrows():\n",
    "        if row[\"age\"] < 64:\n",
    "            if i == 25 or i == 30:\n",
    "                s = row[\"salaire\"]*1.05\n",
    "            else :\n",
    "                s = row[\"salaire\"]\n",
    "            a = row[\"age\"]+1\n",
    "            new_row = pd.DataFrame({\"id\" : row[\"id\"], \"age\": [a], \"salaire\": [s], \"cotisation\" : [cotisation(s)]})\n",
    "            EmployeAlpha = pd.concat([EmployeAlpha, new_row], ignore_index=True)\n",
    "        else :\n",
    "            if i == 25 or i == 30:\n",
    "                s = row[\"salaire\"]*1.05\n",
    "            else :\n",
    "                s = row[\"salaire\"]\n",
    "            a = row[\"age\"]+1\n",
    "            new_row = pd.DataFrame({\"id\" : row[\"id\"], \"age\": [a], \"salaire\": [s]})\n",
    "            RetraiteAlpha = pd.concat([RetraiteAlpha, new_row], ignore_index=True)\n",
    "    for index, row in RetraiteBeta.iterrows():\n",
    "        new_row = pd.DataFrame({\"id\" : [row[\"id\"]], \"age\": [row[\"age\"]+1], \"salaire\": [row[\"salaire\"]]})\n",
    "        RetraiteAlpha = pd.concat([RetraiteAlpha, new_row], ignore_index=True)\n",
    "    newRecru = newRecrutement(IX, IY, IZ)\n",
    "    for index, row in newRecru.iterrows():\n",
    "        new_row = pd.DataFrame({\"id\" : [row[\"id\"]], \"age\": [row[\"age\"]], \"salaire\": [row[\"salaire\"]],\"cotisation\" : [row[\"cotisation\"]]})\n",
    "        EmployeAlpha = pd.concat([EmployeAlpha, new_row], ignore_index=True)\n",
    "    ensemble_data_frames[\"Simulation_\"+str(simulation)]['Employe_20'+str(i)] = EmployeAlpha\n",
    "    ensemble_data_frames[\"Simulation_\"+str(simulation)]['Retraite_20'+str(i)] = RetraiteAlpha\n",
    "    ensemble_data_frames[\"Simulation_\"+str(simulation)]['newRecru_20'+str(i)] = newRecru"
   ],
   "metadata": {
    "collapsed": false
   }
  },
  {
   "cell_type": "code",
   "execution_count": 15,
   "outputs": [],
   "source": [
    "def calculIndice(simulation, ageRetrait):\n",
    "    dfIndice = data_indices[\"Simulation_\"+str(simulation)]\n",
    "    dfEmploye =  ensemble_data_frames[\"Simulation_\"+str(simulation)]['Employe_20'+str(23)]\n",
    "    dfRetraite = ensemble_data_frames[\"Simulation_\"+str(simulation)]['Retraite_20'+str(23)]\n",
    "    TotEmp = dfEmploye.shape[0]\n",
    "    if ageRetrait == 62:\n",
    "        TotCotis = dfEmploye[dfEmploye[\"age\"]<=61][\"cotisation\"].sum()*12\n",
    "        pensionnaire = pensionnaireTwo(dfEmploye, dfRetraite)\n",
    "    else:\n",
    "         TotCotis = dfEmploye[\"cotisation\"].sum()*12\n",
    "         pensionnaire = pensionnaireFive(dfRetraite)\n",
    "    TotRet = pensionnaire.shape[0]\n",
    "    TotPens = pensionnaire[\"pension\"].sum()*12\n",
    "    Reserve = 200000000 + TotCotis - TotPens\n",
    "    NouvRet = 0\n",
    "    NouvRec = 0\n",
    "    new_row = pd.DataFrame({\"year\" : [2023], \"TotEmp\" : [TotEmp], \"TotRet\" : [TotRet], \"TotCotis\" : [TotCotis], \"TotPens\" : [TotPens], \"Reserve\" : [Reserve], \"NouvRet\" : [NouvRet], \"NouvRec\" : [NouvRec]})\n",
    "    dfIndice = pd.concat([dfIndice, new_row], ignore_index=True)\n",
    "    for year in years :\n",
    "        dfEmploye =  ensemble_data_frames[\"Simulation_\"+str(simulation)]['Employe_20'+str(year)]\n",
    "        dfRetraite = ensemble_data_frames[\"Simulation_\"+str(simulation)]['Retraite_20'+str(year)]\n",
    "        dfRecrutement = ensemble_data_frames[\"Simulation_\"+str(simulation)]['newRecru_20'+str(year)]\n",
    "        TotEmp = dfEmploye.shape[0]\n",
    "        if ageRetrait == 62:\n",
    "            TotCotis = dfEmploye[dfEmploye[\"age\"]<=61][\"cotisation\"].sum()*12\n",
    "            pensionnaire = pensionnaireTwo(dfEmploye, dfRetraite)\n",
    "        else:\n",
    "            pensionnaire = pensionnaireFive(dfRetraite)\n",
    "            TotCotis = dfEmploye[\"cotisation\"].sum()*12\n",
    "        TotPens = pensionnaire[\"pension\"].sum()*12\n",
    "        TotRet = pensionnaire.shape[0]\n",
    "        Reserve = dfIndice.iloc[year-24]['Reserve'] + TotCotis -TotPens\n",
    "        NouvRet = TotRet - dfIndice.iloc[year-24]['TotRet']\n",
    "        NouvRec =  dfRecrutement.shape[0]\n",
    "        new_row = pd.DataFrame({\"year\" : [2000+year], \"TotEmp\" : [TotEmp], \"TotRet\" : [TotRet], \"TotCotis\" : [TotCotis], \"TotPens\" : [TotPens], \"Reserve\" : [Reserve], \"NouvRet\" : [NouvRet], \"NouvRec\" : [NouvRec]})\n",
    "        dfIndice = pd.concat([dfIndice, new_row], ignore_index=True)\n",
    "    return dfIndice"
   ],
   "metadata": {
    "collapsed": false
   }
  },
  {
   "cell_type": "code",
   "execution_count": 16,
   "outputs": [],
   "source": [
    "createEmployeRetraite(1, 23, IX, IY, IZ)\n",
    "for year in years:\n",
    "    calculEmployeRetraite(1, year, IX, IY, IZ)"
   ],
   "metadata": {
    "collapsed": false
   }
  },
  {
   "cell_type": "code",
   "execution_count": 17,
   "outputs": [
    {
     "data": {
      "text/plain": "        id age   salaire  cotisation\n0        1  47   8048.25    563.3775\n1        2  56  10253.25    717.7275\n2        4  32   4520.25    226.0125\n3        5  35   3969.00    198.4500\n4        6  39   3528.00    176.4000\n...    ...  ..       ...         ...\n11289  349  30   7900.00    553.0000\n11290  350  30   4900.00    245.0000\n11291  351  34   5500.00    330.0000\n11292  352  23  19200.00   1344.0000\n11293  353  23  10300.00    721.0000\n\n[11294 rows x 4 columns]",
      "text/html": "<div>\n<style scoped>\n    .dataframe tbody tr th:only-of-type {\n        vertical-align: middle;\n    }\n\n    .dataframe tbody tr th {\n        vertical-align: top;\n    }\n\n    .dataframe thead th {\n        text-align: right;\n    }\n</style>\n<table border=\"1\" class=\"dataframe\">\n  <thead>\n    <tr style=\"text-align: right;\">\n      <th></th>\n      <th>id</th>\n      <th>age</th>\n      <th>salaire</th>\n      <th>cotisation</th>\n    </tr>\n  </thead>\n  <tbody>\n    <tr>\n      <th>0</th>\n      <td>1</td>\n      <td>47</td>\n      <td>8048.25</td>\n      <td>563.3775</td>\n    </tr>\n    <tr>\n      <th>1</th>\n      <td>2</td>\n      <td>56</td>\n      <td>10253.25</td>\n      <td>717.7275</td>\n    </tr>\n    <tr>\n      <th>2</th>\n      <td>4</td>\n      <td>32</td>\n      <td>4520.25</td>\n      <td>226.0125</td>\n    </tr>\n    <tr>\n      <th>3</th>\n      <td>5</td>\n      <td>35</td>\n      <td>3969.00</td>\n      <td>198.4500</td>\n    </tr>\n    <tr>\n      <th>4</th>\n      <td>6</td>\n      <td>39</td>\n      <td>3528.00</td>\n      <td>176.4000</td>\n    </tr>\n    <tr>\n      <th>...</th>\n      <td>...</td>\n      <td>...</td>\n      <td>...</td>\n      <td>...</td>\n    </tr>\n    <tr>\n      <th>11289</th>\n      <td>349</td>\n      <td>30</td>\n      <td>7900.00</td>\n      <td>553.0000</td>\n    </tr>\n    <tr>\n      <th>11290</th>\n      <td>350</td>\n      <td>30</td>\n      <td>4900.00</td>\n      <td>245.0000</td>\n    </tr>\n    <tr>\n      <th>11291</th>\n      <td>351</td>\n      <td>34</td>\n      <td>5500.00</td>\n      <td>330.0000</td>\n    </tr>\n    <tr>\n      <th>11292</th>\n      <td>352</td>\n      <td>23</td>\n      <td>19200.00</td>\n      <td>1344.0000</td>\n    </tr>\n    <tr>\n      <th>11293</th>\n      <td>353</td>\n      <td>23</td>\n      <td>10300.00</td>\n      <td>721.0000</td>\n    </tr>\n  </tbody>\n</table>\n<p>11294 rows × 4 columns</p>\n</div>"
     },
     "execution_count": 17,
     "metadata": {},
     "output_type": "execute_result"
    }
   ],
   "source": [
    "simulation = 1\n",
    "year = 33\n",
    "ensemble_data_frames[\"Simulation_\"+str(simulation)]['Employe_20'+str(year)]"
   ],
   "metadata": {
    "collapsed": false
   }
  },
  {
   "cell_type": "code",
   "execution_count": 18,
   "outputs": [
    {
     "data": {
      "text/plain": "         id age   salaire\n0        24  65  19734.75\n1        47  65  41454.00\n2        56  65  20065.50\n3        68  65  23703.75\n4        86  65  41013.00\n...     ...  ..       ...\n3231  10996  94   7700.00\n3232  10997  77  37600.00\n3233  10998  75   3300.00\n3234  10999  94   9900.00\n3235  11000  82  25500.00\n\n[3236 rows x 3 columns]",
      "text/html": "<div>\n<style scoped>\n    .dataframe tbody tr th:only-of-type {\n        vertical-align: middle;\n    }\n\n    .dataframe tbody tr th {\n        vertical-align: top;\n    }\n\n    .dataframe thead th {\n        text-align: right;\n    }\n</style>\n<table border=\"1\" class=\"dataframe\">\n  <thead>\n    <tr style=\"text-align: right;\">\n      <th></th>\n      <th>id</th>\n      <th>age</th>\n      <th>salaire</th>\n    </tr>\n  </thead>\n  <tbody>\n    <tr>\n      <th>0</th>\n      <td>24</td>\n      <td>65</td>\n      <td>19734.75</td>\n    </tr>\n    <tr>\n      <th>1</th>\n      <td>47</td>\n      <td>65</td>\n      <td>41454.00</td>\n    </tr>\n    <tr>\n      <th>2</th>\n      <td>56</td>\n      <td>65</td>\n      <td>20065.50</td>\n    </tr>\n    <tr>\n      <th>3</th>\n      <td>68</td>\n      <td>65</td>\n      <td>23703.75</td>\n    </tr>\n    <tr>\n      <th>4</th>\n      <td>86</td>\n      <td>65</td>\n      <td>41013.00</td>\n    </tr>\n    <tr>\n      <th>...</th>\n      <td>...</td>\n      <td>...</td>\n      <td>...</td>\n    </tr>\n    <tr>\n      <th>3231</th>\n      <td>10996</td>\n      <td>94</td>\n      <td>7700.00</td>\n    </tr>\n    <tr>\n      <th>3232</th>\n      <td>10997</td>\n      <td>77</td>\n      <td>37600.00</td>\n    </tr>\n    <tr>\n      <th>3233</th>\n      <td>10998</td>\n      <td>75</td>\n      <td>3300.00</td>\n    </tr>\n    <tr>\n      <th>3234</th>\n      <td>10999</td>\n      <td>94</td>\n      <td>9900.00</td>\n    </tr>\n    <tr>\n      <th>3235</th>\n      <td>11000</td>\n      <td>82</td>\n      <td>25500.00</td>\n    </tr>\n  </tbody>\n</table>\n<p>3236 rows × 3 columns</p>\n</div>"
     },
     "execution_count": 18,
     "metadata": {},
     "output_type": "execute_result"
    }
   ],
   "source": [
    "ensemble_data_frames[\"Simulation_\"+str(simulation)]['Retraite_20'+str(year)]"
   ],
   "metadata": {
    "collapsed": false
   }
  },
  {
   "cell_type": "code",
   "execution_count": 19,
   "outputs": [
    {
     "data": {
      "text/plain": "        id age   salaire    pension\n0       24  65  19734.75   9867.375\n1       47  65  41454.00  20727.000\n2       56  65  20065.50  10032.750\n3       68  65  23703.75  11851.875\n4       86  65  41013.00  20506.500\n...    ...  ..       ...        ...\n3979  9905  64  20947.50  10473.750\n3980  9931  63  33516.00  16758.000\n3981  9943  63  38256.75  19128.375\n3982  9983  64  16206.75   8103.375\n3983  9995  64  39028.50  19514.250\n\n[3984 rows x 4 columns]",
      "text/html": "<div>\n<style scoped>\n    .dataframe tbody tr th:only-of-type {\n        vertical-align: middle;\n    }\n\n    .dataframe tbody tr th {\n        vertical-align: top;\n    }\n\n    .dataframe thead th {\n        text-align: right;\n    }\n</style>\n<table border=\"1\" class=\"dataframe\">\n  <thead>\n    <tr style=\"text-align: right;\">\n      <th></th>\n      <th>id</th>\n      <th>age</th>\n      <th>salaire</th>\n      <th>pension</th>\n    </tr>\n  </thead>\n  <tbody>\n    <tr>\n      <th>0</th>\n      <td>24</td>\n      <td>65</td>\n      <td>19734.75</td>\n      <td>9867.375</td>\n    </tr>\n    <tr>\n      <th>1</th>\n      <td>47</td>\n      <td>65</td>\n      <td>41454.00</td>\n      <td>20727.000</td>\n    </tr>\n    <tr>\n      <th>2</th>\n      <td>56</td>\n      <td>65</td>\n      <td>20065.50</td>\n      <td>10032.750</td>\n    </tr>\n    <tr>\n      <th>3</th>\n      <td>68</td>\n      <td>65</td>\n      <td>23703.75</td>\n      <td>11851.875</td>\n    </tr>\n    <tr>\n      <th>4</th>\n      <td>86</td>\n      <td>65</td>\n      <td>41013.00</td>\n      <td>20506.500</td>\n    </tr>\n    <tr>\n      <th>...</th>\n      <td>...</td>\n      <td>...</td>\n      <td>...</td>\n      <td>...</td>\n    </tr>\n    <tr>\n      <th>3979</th>\n      <td>9905</td>\n      <td>64</td>\n      <td>20947.50</td>\n      <td>10473.750</td>\n    </tr>\n    <tr>\n      <th>3980</th>\n      <td>9931</td>\n      <td>63</td>\n      <td>33516.00</td>\n      <td>16758.000</td>\n    </tr>\n    <tr>\n      <th>3981</th>\n      <td>9943</td>\n      <td>63</td>\n      <td>38256.75</td>\n      <td>19128.375</td>\n    </tr>\n    <tr>\n      <th>3982</th>\n      <td>9983</td>\n      <td>64</td>\n      <td>16206.75</td>\n      <td>8103.375</td>\n    </tr>\n    <tr>\n      <th>3983</th>\n      <td>9995</td>\n      <td>64</td>\n      <td>39028.50</td>\n      <td>19514.250</td>\n    </tr>\n  </tbody>\n</table>\n<p>3984 rows × 4 columns</p>\n</div>"
     },
     "execution_count": 19,
     "metadata": {},
     "output_type": "execute_result"
    }
   ],
   "source": [
    "pensionnaireTwo(ensemble_data_frames[\"Simulation_\"+str(simulation)]['Employe_20'+str(year)], ensemble_data_frames[\"Simulation_\"+str(simulation)]['Retraite_20'+str(year)])"
   ],
   "metadata": {
    "collapsed": false
   }
  },
  {
   "cell_type": "code",
   "execution_count": 20,
   "outputs": [
    {
     "data": {
      "text/plain": "         id age   salaire    pension\n0        24  65  19734.75   9867.375\n1        47  65  41454.00  20727.000\n2        56  65  20065.50  10032.750\n3        68  65  23703.75  11851.875\n4        86  65  41013.00  20506.500\n...     ...  ..       ...        ...\n3231  10996  94   7700.00   3850.000\n3232  10997  77  37600.00  18800.000\n3233  10998  75   3300.00   1650.000\n3234  10999  94   9900.00   4950.000\n3235  11000  82  25500.00  12750.000\n\n[3236 rows x 4 columns]",
      "text/html": "<div>\n<style scoped>\n    .dataframe tbody tr th:only-of-type {\n        vertical-align: middle;\n    }\n\n    .dataframe tbody tr th {\n        vertical-align: top;\n    }\n\n    .dataframe thead th {\n        text-align: right;\n    }\n</style>\n<table border=\"1\" class=\"dataframe\">\n  <thead>\n    <tr style=\"text-align: right;\">\n      <th></th>\n      <th>id</th>\n      <th>age</th>\n      <th>salaire</th>\n      <th>pension</th>\n    </tr>\n  </thead>\n  <tbody>\n    <tr>\n      <th>0</th>\n      <td>24</td>\n      <td>65</td>\n      <td>19734.75</td>\n      <td>9867.375</td>\n    </tr>\n    <tr>\n      <th>1</th>\n      <td>47</td>\n      <td>65</td>\n      <td>41454.00</td>\n      <td>20727.000</td>\n    </tr>\n    <tr>\n      <th>2</th>\n      <td>56</td>\n      <td>65</td>\n      <td>20065.50</td>\n      <td>10032.750</td>\n    </tr>\n    <tr>\n      <th>3</th>\n      <td>68</td>\n      <td>65</td>\n      <td>23703.75</td>\n      <td>11851.875</td>\n    </tr>\n    <tr>\n      <th>4</th>\n      <td>86</td>\n      <td>65</td>\n      <td>41013.00</td>\n      <td>20506.500</td>\n    </tr>\n    <tr>\n      <th>...</th>\n      <td>...</td>\n      <td>...</td>\n      <td>...</td>\n      <td>...</td>\n    </tr>\n    <tr>\n      <th>3231</th>\n      <td>10996</td>\n      <td>94</td>\n      <td>7700.00</td>\n      <td>3850.000</td>\n    </tr>\n    <tr>\n      <th>3232</th>\n      <td>10997</td>\n      <td>77</td>\n      <td>37600.00</td>\n      <td>18800.000</td>\n    </tr>\n    <tr>\n      <th>3233</th>\n      <td>10998</td>\n      <td>75</td>\n      <td>3300.00</td>\n      <td>1650.000</td>\n    </tr>\n    <tr>\n      <th>3234</th>\n      <td>10999</td>\n      <td>94</td>\n      <td>9900.00</td>\n      <td>4950.000</td>\n    </tr>\n    <tr>\n      <th>3235</th>\n      <td>11000</td>\n      <td>82</td>\n      <td>25500.00</td>\n      <td>12750.000</td>\n    </tr>\n  </tbody>\n</table>\n<p>3236 rows × 4 columns</p>\n</div>"
     },
     "execution_count": 20,
     "metadata": {},
     "output_type": "execute_result"
    }
   ],
   "source": [
    "pensionnaireFive(ensemble_data_frames[\"Simulation_\"+str(simulation)]['Retraite_20'+str(year)])"
   ],
   "metadata": {
    "collapsed": false
   }
  },
  {
   "cell_type": "code",
   "execution_count": 21,
   "outputs": [
    {
     "data": {
      "text/plain": "      id age salaire  cotisation\n0      1  29    7500       525.0\n1      2  23   15500      1085.0\n2      3  36    3500       175.0\n3      4  33    3300       165.0\n4      5  34    3900       195.0\n..   ...  ..     ...         ...\n348  349  30    7900       553.0\n349  350  30    4900       245.0\n350  351  34    5500       330.0\n351  352  23   19200      1344.0\n352  353  23   10300       721.0\n\n[353 rows x 4 columns]",
      "text/html": "<div>\n<style scoped>\n    .dataframe tbody tr th:only-of-type {\n        vertical-align: middle;\n    }\n\n    .dataframe tbody tr th {\n        vertical-align: top;\n    }\n\n    .dataframe thead th {\n        text-align: right;\n    }\n</style>\n<table border=\"1\" class=\"dataframe\">\n  <thead>\n    <tr style=\"text-align: right;\">\n      <th></th>\n      <th>id</th>\n      <th>age</th>\n      <th>salaire</th>\n      <th>cotisation</th>\n    </tr>\n  </thead>\n  <tbody>\n    <tr>\n      <th>0</th>\n      <td>1</td>\n      <td>29</td>\n      <td>7500</td>\n      <td>525.0</td>\n    </tr>\n    <tr>\n      <th>1</th>\n      <td>2</td>\n      <td>23</td>\n      <td>15500</td>\n      <td>1085.0</td>\n    </tr>\n    <tr>\n      <th>2</th>\n      <td>3</td>\n      <td>36</td>\n      <td>3500</td>\n      <td>175.0</td>\n    </tr>\n    <tr>\n      <th>3</th>\n      <td>4</td>\n      <td>33</td>\n      <td>3300</td>\n      <td>165.0</td>\n    </tr>\n    <tr>\n      <th>4</th>\n      <td>5</td>\n      <td>34</td>\n      <td>3900</td>\n      <td>195.0</td>\n    </tr>\n    <tr>\n      <th>...</th>\n      <td>...</td>\n      <td>...</td>\n      <td>...</td>\n      <td>...</td>\n    </tr>\n    <tr>\n      <th>348</th>\n      <td>349</td>\n      <td>30</td>\n      <td>7900</td>\n      <td>553.0</td>\n    </tr>\n    <tr>\n      <th>349</th>\n      <td>350</td>\n      <td>30</td>\n      <td>4900</td>\n      <td>245.0</td>\n    </tr>\n    <tr>\n      <th>350</th>\n      <td>351</td>\n      <td>34</td>\n      <td>5500</td>\n      <td>330.0</td>\n    </tr>\n    <tr>\n      <th>351</th>\n      <td>352</td>\n      <td>23</td>\n      <td>19200</td>\n      <td>1344.0</td>\n    </tr>\n    <tr>\n      <th>352</th>\n      <td>353</td>\n      <td>23</td>\n      <td>10300</td>\n      <td>721.0</td>\n    </tr>\n  </tbody>\n</table>\n<p>353 rows × 4 columns</p>\n</div>"
     },
     "execution_count": 21,
     "metadata": {},
     "output_type": "execute_result"
    }
   ],
   "source": [
    "ensemble_data_frames[\"Simulation_\"+str(simulation)]['newRecru_20'+str(year)]"
   ],
   "metadata": {
    "collapsed": false
   }
  },
  {
   "cell_type": "code",
   "execution_count": 22,
   "outputs": [
    {
     "data": {
      "text/plain": "    year TotEmp TotRet     TotCotis      TotPens       Reserve NouvRet NouvRec\n0   2023  10000   1000  94668876.00   68010600.0  2.266583e+08       0       0\n1   2024  10353   1000  97078932.00   68010600.0  2.557266e+08       0     353\n2   2025  10706   1373  97588797.60  118457220.0  2.348582e+08     373     353\n3   2026  11059   1751  92657740.20  170739030.0  1.567769e+08     378     353\n4   2027  11412   2118  87839047.20  222074580.0  2.254136e+07     367     353\n5   2028  11392   2502  82687836.00  276000060.0 -1.707709e+08     384     353\n6   2029  11367   2877  77889035.40  327409950.0 -4.202918e+08     375     353\n7   2030  11353   3236  77156801.25  388473078.0 -7.316081e+08     359     353\n8   2031  11322   3621  71775540.27  443918685.0 -1.103751e+09     385     353\n9   2032  11300   3984  66507657.99  498788787.0 -1.536032e+09     363     353\n10  2033  11294   3984  68903997.99  498788787.0 -1.965917e+09       0     353",
      "text/html": "<div>\n<style scoped>\n    .dataframe tbody tr th:only-of-type {\n        vertical-align: middle;\n    }\n\n    .dataframe tbody tr th {\n        vertical-align: top;\n    }\n\n    .dataframe thead th {\n        text-align: right;\n    }\n</style>\n<table border=\"1\" class=\"dataframe\">\n  <thead>\n    <tr style=\"text-align: right;\">\n      <th></th>\n      <th>year</th>\n      <th>TotEmp</th>\n      <th>TotRet</th>\n      <th>TotCotis</th>\n      <th>TotPens</th>\n      <th>Reserve</th>\n      <th>NouvRet</th>\n      <th>NouvRec</th>\n    </tr>\n  </thead>\n  <tbody>\n    <tr>\n      <th>0</th>\n      <td>2023</td>\n      <td>10000</td>\n      <td>1000</td>\n      <td>94668876.00</td>\n      <td>68010600.0</td>\n      <td>2.266583e+08</td>\n      <td>0</td>\n      <td>0</td>\n    </tr>\n    <tr>\n      <th>1</th>\n      <td>2024</td>\n      <td>10353</td>\n      <td>1000</td>\n      <td>97078932.00</td>\n      <td>68010600.0</td>\n      <td>2.557266e+08</td>\n      <td>0</td>\n      <td>353</td>\n    </tr>\n    <tr>\n      <th>2</th>\n      <td>2025</td>\n      <td>10706</td>\n      <td>1373</td>\n      <td>97588797.60</td>\n      <td>118457220.0</td>\n      <td>2.348582e+08</td>\n      <td>373</td>\n      <td>353</td>\n    </tr>\n    <tr>\n      <th>3</th>\n      <td>2026</td>\n      <td>11059</td>\n      <td>1751</td>\n      <td>92657740.20</td>\n      <td>170739030.0</td>\n      <td>1.567769e+08</td>\n      <td>378</td>\n      <td>353</td>\n    </tr>\n    <tr>\n      <th>4</th>\n      <td>2027</td>\n      <td>11412</td>\n      <td>2118</td>\n      <td>87839047.20</td>\n      <td>222074580.0</td>\n      <td>2.254136e+07</td>\n      <td>367</td>\n      <td>353</td>\n    </tr>\n    <tr>\n      <th>5</th>\n      <td>2028</td>\n      <td>11392</td>\n      <td>2502</td>\n      <td>82687836.00</td>\n      <td>276000060.0</td>\n      <td>-1.707709e+08</td>\n      <td>384</td>\n      <td>353</td>\n    </tr>\n    <tr>\n      <th>6</th>\n      <td>2029</td>\n      <td>11367</td>\n      <td>2877</td>\n      <td>77889035.40</td>\n      <td>327409950.0</td>\n      <td>-4.202918e+08</td>\n      <td>375</td>\n      <td>353</td>\n    </tr>\n    <tr>\n      <th>7</th>\n      <td>2030</td>\n      <td>11353</td>\n      <td>3236</td>\n      <td>77156801.25</td>\n      <td>388473078.0</td>\n      <td>-7.316081e+08</td>\n      <td>359</td>\n      <td>353</td>\n    </tr>\n    <tr>\n      <th>8</th>\n      <td>2031</td>\n      <td>11322</td>\n      <td>3621</td>\n      <td>71775540.27</td>\n      <td>443918685.0</td>\n      <td>-1.103751e+09</td>\n      <td>385</td>\n      <td>353</td>\n    </tr>\n    <tr>\n      <th>9</th>\n      <td>2032</td>\n      <td>11300</td>\n      <td>3984</td>\n      <td>66507657.99</td>\n      <td>498788787.0</td>\n      <td>-1.536032e+09</td>\n      <td>363</td>\n      <td>353</td>\n    </tr>\n    <tr>\n      <th>10</th>\n      <td>2033</td>\n      <td>11294</td>\n      <td>3984</td>\n      <td>68903997.99</td>\n      <td>498788787.0</td>\n      <td>-1.965917e+09</td>\n      <td>0</td>\n      <td>353</td>\n    </tr>\n  </tbody>\n</table>\n</div>"
     },
     "execution_count": 22,
     "metadata": {},
     "output_type": "execute_result"
    }
   ],
   "source": [
    "calculIndice(1, 62)"
   ],
   "metadata": {
    "collapsed": false
   }
  },
  {
   "cell_type": "code",
   "execution_count": 23,
   "outputs": [
    {
     "data": {
      "text/plain": "    year TotEmp TotRet      TotCotis      TotPens       Reserve NouvRet  \\\n0   2023  10000   1000  9.466888e+07   68010600.0  2.266583e+08       0   \n1   2024  10353   1000  9.707893e+07   68010600.0  2.557266e+08       0   \n2   2025  10706   1000  1.046513e+08   68010600.0  2.923673e+08       0   \n3   2026  11059   1000  1.070397e+08   68010600.0  3.313965e+08       0   \n4   2027  11412   1000  1.094080e+08   68010600.0  3.727939e+08       0   \n5   2028  11392   1373  1.047438e+08  118457220.0  3.590805e+08     373   \n6   2029  11367   1751  9.982296e+07  170739030.0  2.881644e+08     378   \n7   2030  11353   2118  1.000932e+08  224641357.5  1.636163e+08     367   \n8   2031  11322   2502  9.454732e+07  281263111.5 -2.309950e+07     384   \n9   2032  11300   2877  8.940400e+07  335243496.0 -2.689390e+08     375   \n10  2033  11294   3236  8.434820e+07  388473078.0 -5.730639e+08     359   \n\n   NouvRec  \n0        0  \n1      353  \n2      353  \n3      353  \n4      353  \n5      353  \n6      353  \n7      353  \n8      353  \n9      353  \n10     353  ",
      "text/html": "<div>\n<style scoped>\n    .dataframe tbody tr th:only-of-type {\n        vertical-align: middle;\n    }\n\n    .dataframe tbody tr th {\n        vertical-align: top;\n    }\n\n    .dataframe thead th {\n        text-align: right;\n    }\n</style>\n<table border=\"1\" class=\"dataframe\">\n  <thead>\n    <tr style=\"text-align: right;\">\n      <th></th>\n      <th>year</th>\n      <th>TotEmp</th>\n      <th>TotRet</th>\n      <th>TotCotis</th>\n      <th>TotPens</th>\n      <th>Reserve</th>\n      <th>NouvRet</th>\n      <th>NouvRec</th>\n    </tr>\n  </thead>\n  <tbody>\n    <tr>\n      <th>0</th>\n      <td>2023</td>\n      <td>10000</td>\n      <td>1000</td>\n      <td>9.466888e+07</td>\n      <td>68010600.0</td>\n      <td>2.266583e+08</td>\n      <td>0</td>\n      <td>0</td>\n    </tr>\n    <tr>\n      <th>1</th>\n      <td>2024</td>\n      <td>10353</td>\n      <td>1000</td>\n      <td>9.707893e+07</td>\n      <td>68010600.0</td>\n      <td>2.557266e+08</td>\n      <td>0</td>\n      <td>353</td>\n    </tr>\n    <tr>\n      <th>2</th>\n      <td>2025</td>\n      <td>10706</td>\n      <td>1000</td>\n      <td>1.046513e+08</td>\n      <td>68010600.0</td>\n      <td>2.923673e+08</td>\n      <td>0</td>\n      <td>353</td>\n    </tr>\n    <tr>\n      <th>3</th>\n      <td>2026</td>\n      <td>11059</td>\n      <td>1000</td>\n      <td>1.070397e+08</td>\n      <td>68010600.0</td>\n      <td>3.313965e+08</td>\n      <td>0</td>\n      <td>353</td>\n    </tr>\n    <tr>\n      <th>4</th>\n      <td>2027</td>\n      <td>11412</td>\n      <td>1000</td>\n      <td>1.094080e+08</td>\n      <td>68010600.0</td>\n      <td>3.727939e+08</td>\n      <td>0</td>\n      <td>353</td>\n    </tr>\n    <tr>\n      <th>5</th>\n      <td>2028</td>\n      <td>11392</td>\n      <td>1373</td>\n      <td>1.047438e+08</td>\n      <td>118457220.0</td>\n      <td>3.590805e+08</td>\n      <td>373</td>\n      <td>353</td>\n    </tr>\n    <tr>\n      <th>6</th>\n      <td>2029</td>\n      <td>11367</td>\n      <td>1751</td>\n      <td>9.982296e+07</td>\n      <td>170739030.0</td>\n      <td>2.881644e+08</td>\n      <td>378</td>\n      <td>353</td>\n    </tr>\n    <tr>\n      <th>7</th>\n      <td>2030</td>\n      <td>11353</td>\n      <td>2118</td>\n      <td>1.000932e+08</td>\n      <td>224641357.5</td>\n      <td>1.636163e+08</td>\n      <td>367</td>\n      <td>353</td>\n    </tr>\n    <tr>\n      <th>8</th>\n      <td>2031</td>\n      <td>11322</td>\n      <td>2502</td>\n      <td>9.454732e+07</td>\n      <td>281263111.5</td>\n      <td>-2.309950e+07</td>\n      <td>384</td>\n      <td>353</td>\n    </tr>\n    <tr>\n      <th>9</th>\n      <td>2032</td>\n      <td>11300</td>\n      <td>2877</td>\n      <td>8.940400e+07</td>\n      <td>335243496.0</td>\n      <td>-2.689390e+08</td>\n      <td>375</td>\n      <td>353</td>\n    </tr>\n    <tr>\n      <th>10</th>\n      <td>2033</td>\n      <td>11294</td>\n      <td>3236</td>\n      <td>8.434820e+07</td>\n      <td>388473078.0</td>\n      <td>-5.730639e+08</td>\n      <td>359</td>\n      <td>353</td>\n    </tr>\n  </tbody>\n</table>\n</div>"
     },
     "execution_count": 23,
     "metadata": {},
     "output_type": "execute_result"
    }
   ],
   "source": [
    "calculIndice(1, 65)"
   ],
   "metadata": {
    "collapsed": false
   }
  },
  {
   "cell_type": "code",
   "execution_count": 24,
   "outputs": [],
   "source": [
    "ListSimulation = []\n",
    "for i in range (40):\n",
    "    if i == 0 :\n",
    "        ListSimulation.append({\"IX\": 100, \"IY\" : 100, \"IZ\": 100})\n",
    "    else :\n",
    "        ListSimulation.append({\"IX\": ListSimulation[i-1][\"IX\"] + 10, \"IY\": ListSimulation[i-1][\"IY\"] + 20, \"IZ\": ListSimulation[i-1][\"IZ\"] + 30})"
   ],
   "metadata": {
    "collapsed": false
   }
  },
  {
   "cell_type": "code",
   "execution_count": 25,
   "outputs": [],
   "source": [
    "def createSimulation(Simulation, X, Y, Z) :\n",
    "    createEmployeRetraite(Simulation, 23, X, Y, Z)\n",
    "    for year in years:\n",
    "        calculEmployeRetraite(Simulation, year, X, Y, Z)"
   ],
   "metadata": {
    "collapsed": false
   }
  },
  {
   "cell_type": "code",
   "execution_count": 29,
   "outputs": [],
   "source": [
    "createSimulation(2, ListSimulation[1][\"IX\"], ListSimulation[1][\"IY\"], ListSimulation[1][\"IZ\"])"
   ],
   "metadata": {
    "collapsed": false
   }
  },
  {
   "cell_type": "code",
   "execution_count": 30,
   "outputs": [
    {
     "ename": "KeyboardInterrupt",
     "evalue": "",
     "output_type": "error",
     "traceback": [
      "\u001B[1;31m---------------------------------------------------------------------------\u001B[0m",
      "\u001B[1;31mKeyboardInterrupt\u001B[0m                         Traceback (most recent call last)",
      "Cell \u001B[1;32mIn[30], line 2\u001B[0m\n\u001B[0;32m      1\u001B[0m \u001B[38;5;28;01mfor\u001B[39;00m i \u001B[38;5;129;01min\u001B[39;00m \u001B[38;5;28mrange\u001B[39m(\u001B[38;5;241m3\u001B[39m, \u001B[38;5;241m41\u001B[39m): \n\u001B[1;32m----> 2\u001B[0m     \u001B[43mcreateSimulation\u001B[49m\u001B[43m(\u001B[49m\u001B[43mi\u001B[49m\u001B[43m,\u001B[49m\u001B[43m \u001B[49m\u001B[43mListSimulation\u001B[49m\u001B[43m[\u001B[49m\u001B[43mi\u001B[49m\u001B[38;5;241;43m-\u001B[39;49m\u001B[38;5;241;43m1\u001B[39;49m\u001B[43m]\u001B[49m\u001B[43m[\u001B[49m\u001B[38;5;124;43m\"\u001B[39;49m\u001B[38;5;124;43mIX\u001B[39;49m\u001B[38;5;124;43m\"\u001B[39;49m\u001B[43m]\u001B[49m\u001B[43m,\u001B[49m\u001B[43m \u001B[49m\u001B[43mListSimulation\u001B[49m\u001B[43m[\u001B[49m\u001B[43mi\u001B[49m\u001B[38;5;241;43m-\u001B[39;49m\u001B[38;5;241;43m1\u001B[39;49m\u001B[43m]\u001B[49m\u001B[43m[\u001B[49m\u001B[38;5;124;43m\"\u001B[39;49m\u001B[38;5;124;43mIY\u001B[39;49m\u001B[38;5;124;43m\"\u001B[39;49m\u001B[43m]\u001B[49m\u001B[43m,\u001B[49m\u001B[43m \u001B[49m\u001B[43mListSimulation\u001B[49m\u001B[43m[\u001B[49m\u001B[43mi\u001B[49m\u001B[38;5;241;43m-\u001B[39;49m\u001B[38;5;241;43m1\u001B[39;49m\u001B[43m]\u001B[49m\u001B[43m[\u001B[49m\u001B[38;5;124;43m\"\u001B[39;49m\u001B[38;5;124;43mIZ\u001B[39;49m\u001B[38;5;124;43m\"\u001B[39;49m\u001B[43m]\u001B[49m\u001B[43m)\u001B[49m\n",
      "Cell \u001B[1;32mIn[25], line 4\u001B[0m, in \u001B[0;36mcreateSimulation\u001B[1;34m(Simulation, X, Y, Z)\u001B[0m\n\u001B[0;32m      2\u001B[0m createEmployeRetraite(Simulation, \u001B[38;5;241m23\u001B[39m, X, Y, Z)\n\u001B[0;32m      3\u001B[0m \u001B[38;5;28;01mfor\u001B[39;00m year \u001B[38;5;129;01min\u001B[39;00m years:\n\u001B[1;32m----> 4\u001B[0m     \u001B[43mcalculEmployeRetraite\u001B[49m\u001B[43m(\u001B[49m\u001B[43mSimulation\u001B[49m\u001B[43m,\u001B[49m\u001B[43m \u001B[49m\u001B[43myear\u001B[49m\u001B[43m,\u001B[49m\u001B[43m \u001B[49m\u001B[43mX\u001B[49m\u001B[43m,\u001B[49m\u001B[43m \u001B[49m\u001B[43mY\u001B[49m\u001B[43m,\u001B[49m\u001B[43m \u001B[49m\u001B[43mZ\u001B[49m\u001B[43m)\u001B[49m\n",
      "Cell \u001B[1;32mIn[14], line 14\u001B[0m, in \u001B[0;36mcalculEmployeRetraite\u001B[1;34m(simulation, i, IX, IY, IZ)\u001B[0m\n\u001B[0;32m     12\u001B[0m     a \u001B[38;5;241m=\u001B[39m row[\u001B[38;5;124m\"\u001B[39m\u001B[38;5;124mage\u001B[39m\u001B[38;5;124m\"\u001B[39m]\u001B[38;5;241m+\u001B[39m\u001B[38;5;241m1\u001B[39m\n\u001B[0;32m     13\u001B[0m     new_row \u001B[38;5;241m=\u001B[39m pd\u001B[38;5;241m.\u001B[39mDataFrame({\u001B[38;5;124m\"\u001B[39m\u001B[38;5;124mid\u001B[39m\u001B[38;5;124m\"\u001B[39m : row[\u001B[38;5;124m\"\u001B[39m\u001B[38;5;124mid\u001B[39m\u001B[38;5;124m\"\u001B[39m], \u001B[38;5;124m\"\u001B[39m\u001B[38;5;124mage\u001B[39m\u001B[38;5;124m\"\u001B[39m: [a], \u001B[38;5;124m\"\u001B[39m\u001B[38;5;124msalaire\u001B[39m\u001B[38;5;124m\"\u001B[39m: [s], \u001B[38;5;124m\"\u001B[39m\u001B[38;5;124mcotisation\u001B[39m\u001B[38;5;124m\"\u001B[39m : [cotisation(s)]})\n\u001B[1;32m---> 14\u001B[0m     EmployeAlpha \u001B[38;5;241m=\u001B[39m \u001B[43mpd\u001B[49m\u001B[38;5;241;43m.\u001B[39;49m\u001B[43mconcat\u001B[49m\u001B[43m(\u001B[49m\u001B[43m[\u001B[49m\u001B[43mEmployeAlpha\u001B[49m\u001B[43m,\u001B[49m\u001B[43m \u001B[49m\u001B[43mnew_row\u001B[49m\u001B[43m]\u001B[49m\u001B[43m,\u001B[49m\u001B[43m \u001B[49m\u001B[43mignore_index\u001B[49m\u001B[38;5;241;43m=\u001B[39;49m\u001B[38;5;28;43;01mTrue\u001B[39;49;00m\u001B[43m)\u001B[49m\n\u001B[0;32m     15\u001B[0m \u001B[38;5;28;01melse\u001B[39;00m :\n\u001B[0;32m     16\u001B[0m     \u001B[38;5;28;01mif\u001B[39;00m i \u001B[38;5;241m==\u001B[39m \u001B[38;5;241m25\u001B[39m \u001B[38;5;129;01mor\u001B[39;00m i \u001B[38;5;241m==\u001B[39m \u001B[38;5;241m30\u001B[39m:\n",
      "File \u001B[1;32m~\\AppData\\Local\\Programs\\Python\\Python310\\lib\\site-packages\\pandas\\util\\_decorators.py:331\u001B[0m, in \u001B[0;36mdeprecate_nonkeyword_arguments.<locals>.decorate.<locals>.wrapper\u001B[1;34m(*args, **kwargs)\u001B[0m\n\u001B[0;32m    325\u001B[0m \u001B[38;5;28;01mif\u001B[39;00m \u001B[38;5;28mlen\u001B[39m(args) \u001B[38;5;241m>\u001B[39m num_allow_args:\n\u001B[0;32m    326\u001B[0m     warnings\u001B[38;5;241m.\u001B[39mwarn(\n\u001B[0;32m    327\u001B[0m         msg\u001B[38;5;241m.\u001B[39mformat(arguments\u001B[38;5;241m=\u001B[39m_format_argument_list(allow_args)),\n\u001B[0;32m    328\u001B[0m         \u001B[38;5;167;01mFutureWarning\u001B[39;00m,\n\u001B[0;32m    329\u001B[0m         stacklevel\u001B[38;5;241m=\u001B[39mfind_stack_level(),\n\u001B[0;32m    330\u001B[0m     )\n\u001B[1;32m--> 331\u001B[0m \u001B[38;5;28;01mreturn\u001B[39;00m func(\u001B[38;5;241m*\u001B[39margs, \u001B[38;5;241m*\u001B[39m\u001B[38;5;241m*\u001B[39mkwargs)\n",
      "File \u001B[1;32m~\\AppData\\Local\\Programs\\Python\\Python310\\lib\\site-packages\\pandas\\core\\reshape\\concat.py:381\u001B[0m, in \u001B[0;36mconcat\u001B[1;34m(objs, axis, join, ignore_index, keys, levels, names, verify_integrity, sort, copy)\u001B[0m\n\u001B[0;32m    159\u001B[0m \u001B[38;5;124;03m\"\"\"\u001B[39;00m\n\u001B[0;32m    160\u001B[0m \u001B[38;5;124;03mConcatenate pandas objects along a particular axis.\u001B[39;00m\n\u001B[0;32m    161\u001B[0m \n\u001B[1;32m   (...)\u001B[0m\n\u001B[0;32m    366\u001B[0m \u001B[38;5;124;03m1   3   4\u001B[39;00m\n\u001B[0;32m    367\u001B[0m \u001B[38;5;124;03m\"\"\"\u001B[39;00m\n\u001B[0;32m    368\u001B[0m op \u001B[38;5;241m=\u001B[39m _Concatenator(\n\u001B[0;32m    369\u001B[0m     objs,\n\u001B[0;32m    370\u001B[0m     axis\u001B[38;5;241m=\u001B[39maxis,\n\u001B[1;32m   (...)\u001B[0m\n\u001B[0;32m    378\u001B[0m     sort\u001B[38;5;241m=\u001B[39msort,\n\u001B[0;32m    379\u001B[0m )\n\u001B[1;32m--> 381\u001B[0m \u001B[38;5;28;01mreturn\u001B[39;00m \u001B[43mop\u001B[49m\u001B[38;5;241;43m.\u001B[39;49m\u001B[43mget_result\u001B[49m\u001B[43m(\u001B[49m\u001B[43m)\u001B[49m\n",
      "File \u001B[1;32m~\\AppData\\Local\\Programs\\Python\\Python310\\lib\\site-packages\\pandas\\core\\reshape\\concat.py:616\u001B[0m, in \u001B[0;36m_Concatenator.get_result\u001B[1;34m(self)\u001B[0m\n\u001B[0;32m    612\u001B[0m             indexers[ax] \u001B[38;5;241m=\u001B[39m obj_labels\u001B[38;5;241m.\u001B[39mget_indexer(new_labels)\n\u001B[0;32m    614\u001B[0m     mgrs_indexers\u001B[38;5;241m.\u001B[39mappend((obj\u001B[38;5;241m.\u001B[39m_mgr, indexers))\n\u001B[1;32m--> 616\u001B[0m new_data \u001B[38;5;241m=\u001B[39m \u001B[43mconcatenate_managers\u001B[49m\u001B[43m(\u001B[49m\n\u001B[0;32m    617\u001B[0m \u001B[43m    \u001B[49m\u001B[43mmgrs_indexers\u001B[49m\u001B[43m,\u001B[49m\u001B[43m \u001B[49m\u001B[38;5;28;43mself\u001B[39;49m\u001B[38;5;241;43m.\u001B[39;49m\u001B[43mnew_axes\u001B[49m\u001B[43m,\u001B[49m\u001B[43m \u001B[49m\u001B[43mconcat_axis\u001B[49m\u001B[38;5;241;43m=\u001B[39;49m\u001B[38;5;28;43mself\u001B[39;49m\u001B[38;5;241;43m.\u001B[39;49m\u001B[43mbm_axis\u001B[49m\u001B[43m,\u001B[49m\u001B[43m \u001B[49m\u001B[43mcopy\u001B[49m\u001B[38;5;241;43m=\u001B[39;49m\u001B[38;5;28;43mself\u001B[39;49m\u001B[38;5;241;43m.\u001B[39;49m\u001B[43mcopy\u001B[49m\n\u001B[0;32m    618\u001B[0m \u001B[43m\u001B[49m\u001B[43m)\u001B[49m\n\u001B[0;32m    619\u001B[0m \u001B[38;5;28;01mif\u001B[39;00m \u001B[38;5;129;01mnot\u001B[39;00m \u001B[38;5;28mself\u001B[39m\u001B[38;5;241m.\u001B[39mcopy:\n\u001B[0;32m    620\u001B[0m     new_data\u001B[38;5;241m.\u001B[39m_consolidate_inplace()\n",
      "File \u001B[1;32m~\\AppData\\Local\\Programs\\Python\\Python310\\lib\\site-packages\\pandas\\core\\internals\\concat.py:223\u001B[0m, in \u001B[0;36mconcatenate_managers\u001B[1;34m(mgrs_indexers, axes, concat_axis, copy)\u001B[0m\n\u001B[0;32m    217\u001B[0m vals \u001B[38;5;241m=\u001B[39m [ju\u001B[38;5;241m.\u001B[39mblock\u001B[38;5;241m.\u001B[39mvalues \u001B[38;5;28;01mfor\u001B[39;00m ju \u001B[38;5;129;01min\u001B[39;00m join_units]\n\u001B[0;32m    219\u001B[0m \u001B[38;5;28;01mif\u001B[39;00m \u001B[38;5;129;01mnot\u001B[39;00m blk\u001B[38;5;241m.\u001B[39mis_extension:\n\u001B[0;32m    220\u001B[0m     \u001B[38;5;66;03m# _is_uniform_join_units ensures a single dtype, so\u001B[39;00m\n\u001B[0;32m    221\u001B[0m     \u001B[38;5;66;03m#  we can use np.concatenate, which is more performant\u001B[39;00m\n\u001B[0;32m    222\u001B[0m     \u001B[38;5;66;03m#  than concat_compat\u001B[39;00m\n\u001B[1;32m--> 223\u001B[0m     values \u001B[38;5;241m=\u001B[39m \u001B[43mnp\u001B[49m\u001B[38;5;241;43m.\u001B[39;49m\u001B[43mconcatenate\u001B[49m\u001B[43m(\u001B[49m\u001B[43mvals\u001B[49m\u001B[43m,\u001B[49m\u001B[43m \u001B[49m\u001B[43maxis\u001B[49m\u001B[38;5;241;43m=\u001B[39;49m\u001B[38;5;241;43m1\u001B[39;49m\u001B[43m)\u001B[49m\n\u001B[0;32m    224\u001B[0m \u001B[38;5;28;01melse\u001B[39;00m:\n\u001B[0;32m    225\u001B[0m     \u001B[38;5;66;03m# TODO(EA2D): special-casing not needed with 2D EAs\u001B[39;00m\n\u001B[0;32m    226\u001B[0m     values \u001B[38;5;241m=\u001B[39m concat_compat(vals, axis\u001B[38;5;241m=\u001B[39m\u001B[38;5;241m1\u001B[39m)\n",
      "File \u001B[1;32m<__array_function__ internals>:180\u001B[0m, in \u001B[0;36mconcatenate\u001B[1;34m(*args, **kwargs)\u001B[0m\n",
      "\u001B[1;31mKeyboardInterrupt\u001B[0m: "
     ]
    }
   ],
   "source": [
    "for i in range(3, 41):\n",
    "    createSimulation(i, ListSimulation[i-1][\"IX\"], ListSimulation[i-1][\"IY\"], ListSimulation[i-1][\"IZ\"])"
   ],
   "metadata": {
    "collapsed": false
   }
  },
  {
   "cell_type": "code",
   "execution_count": 37,
   "outputs": [
    {
     "data": {
      "text/plain": "         id age   salaire\n0         6  65  19183.50\n1        62  65  15435.00\n2        63  65  17088.75\n3        81  65  34949.25\n4        84  65  14553.00\n...     ...  ..       ...\n2869  10996  78   4800.00\n2870  10997  74   4900.00\n2871  10998  75  17800.00\n2872  10999  75   3600.00\n2873  11000  76   3000.00\n\n[2874 rows x 3 columns]",
      "text/html": "<div>\n<style scoped>\n    .dataframe tbody tr th:only-of-type {\n        vertical-align: middle;\n    }\n\n    .dataframe tbody tr th {\n        vertical-align: top;\n    }\n\n    .dataframe thead th {\n        text-align: right;\n    }\n</style>\n<table border=\"1\" class=\"dataframe\">\n  <thead>\n    <tr style=\"text-align: right;\">\n      <th></th>\n      <th>id</th>\n      <th>age</th>\n      <th>salaire</th>\n    </tr>\n  </thead>\n  <tbody>\n    <tr>\n      <th>0</th>\n      <td>6</td>\n      <td>65</td>\n      <td>19183.50</td>\n    </tr>\n    <tr>\n      <th>1</th>\n      <td>62</td>\n      <td>65</td>\n      <td>15435.00</td>\n    </tr>\n    <tr>\n      <th>2</th>\n      <td>63</td>\n      <td>65</td>\n      <td>17088.75</td>\n    </tr>\n    <tr>\n      <th>3</th>\n      <td>81</td>\n      <td>65</td>\n      <td>34949.25</td>\n    </tr>\n    <tr>\n      <th>4</th>\n      <td>84</td>\n      <td>65</td>\n      <td>14553.00</td>\n    </tr>\n    <tr>\n      <th>...</th>\n      <td>...</td>\n      <td>...</td>\n      <td>...</td>\n    </tr>\n    <tr>\n      <th>2869</th>\n      <td>10996</td>\n      <td>78</td>\n      <td>4800.00</td>\n    </tr>\n    <tr>\n      <th>2870</th>\n      <td>10997</td>\n      <td>74</td>\n      <td>4900.00</td>\n    </tr>\n    <tr>\n      <th>2871</th>\n      <td>10998</td>\n      <td>75</td>\n      <td>17800.00</td>\n    </tr>\n    <tr>\n      <th>2872</th>\n      <td>10999</td>\n      <td>75</td>\n      <td>3600.00</td>\n    </tr>\n    <tr>\n      <th>2873</th>\n      <td>11000</td>\n      <td>76</td>\n      <td>3000.00</td>\n    </tr>\n  </tbody>\n</table>\n<p>2874 rows × 3 columns</p>\n</div>"
     },
     "execution_count": 37,
     "metadata": {},
     "output_type": "execute_result"
    }
   ],
   "source": [
    "ensemble_data_frames[\"Simulation_22\"]['Retraite_2032']"
   ],
   "metadata": {
    "collapsed": false
   }
  },
  {
   "cell_type": "code",
   "execution_count": 38,
   "outputs": [
    {
     "data": {
      "text/plain": "    year TotEmp TotRet     TotCotis      TotPens       Reserve NouvRet NouvRec\n0   2023  10000   1000  94995000.00   69483000.0  2.255120e+08       0       0\n1   2024  10318   1000  97274292.00   69483000.0  2.533033e+08       0     318\n2   2025  10636   1393  97016248.20  125042700.0  2.252768e+08     393     318\n3   2026  10954   1738  92599737.60  173031690.0  1.448449e+08     345     318\n4   2027  11272   2127  87260181.60  227614890.0  4.490179e+06     389     318\n5   2028  11197   2507  82263364.80  279592410.0 -1.928389e+08     380     318\n6   2029  11170   2883  77052018.60  333149340.0 -4.489362e+08     376     318\n7   2030  11099   3252  76037937.90  395237478.0 -7.681357e+08     369     318\n8   2031  11037   3616  70995169.35  447598510.5 -1.144739e+09     364     318\n9   2032  10979   4012  65232130.68  505180101.0 -1.584687e+09     396     318\n10  2033  10928   4012  67518190.68  505180101.0 -2.022349e+09       0     318",
      "text/html": "<div>\n<style scoped>\n    .dataframe tbody tr th:only-of-type {\n        vertical-align: middle;\n    }\n\n    .dataframe tbody tr th {\n        vertical-align: top;\n    }\n\n    .dataframe thead th {\n        text-align: right;\n    }\n</style>\n<table border=\"1\" class=\"dataframe\">\n  <thead>\n    <tr style=\"text-align: right;\">\n      <th></th>\n      <th>year</th>\n      <th>TotEmp</th>\n      <th>TotRet</th>\n      <th>TotCotis</th>\n      <th>TotPens</th>\n      <th>Reserve</th>\n      <th>NouvRet</th>\n      <th>NouvRec</th>\n    </tr>\n  </thead>\n  <tbody>\n    <tr>\n      <th>0</th>\n      <td>2023</td>\n      <td>10000</td>\n      <td>1000</td>\n      <td>94995000.00</td>\n      <td>69483000.0</td>\n      <td>2.255120e+08</td>\n      <td>0</td>\n      <td>0</td>\n    </tr>\n    <tr>\n      <th>1</th>\n      <td>2024</td>\n      <td>10318</td>\n      <td>1000</td>\n      <td>97274292.00</td>\n      <td>69483000.0</td>\n      <td>2.533033e+08</td>\n      <td>0</td>\n      <td>318</td>\n    </tr>\n    <tr>\n      <th>2</th>\n      <td>2025</td>\n      <td>10636</td>\n      <td>1393</td>\n      <td>97016248.20</td>\n      <td>125042700.0</td>\n      <td>2.252768e+08</td>\n      <td>393</td>\n      <td>318</td>\n    </tr>\n    <tr>\n      <th>3</th>\n      <td>2026</td>\n      <td>10954</td>\n      <td>1738</td>\n      <td>92599737.60</td>\n      <td>173031690.0</td>\n      <td>1.448449e+08</td>\n      <td>345</td>\n      <td>318</td>\n    </tr>\n    <tr>\n      <th>4</th>\n      <td>2027</td>\n      <td>11272</td>\n      <td>2127</td>\n      <td>87260181.60</td>\n      <td>227614890.0</td>\n      <td>4.490179e+06</td>\n      <td>389</td>\n      <td>318</td>\n    </tr>\n    <tr>\n      <th>5</th>\n      <td>2028</td>\n      <td>11197</td>\n      <td>2507</td>\n      <td>82263364.80</td>\n      <td>279592410.0</td>\n      <td>-1.928389e+08</td>\n      <td>380</td>\n      <td>318</td>\n    </tr>\n    <tr>\n      <th>6</th>\n      <td>2029</td>\n      <td>11170</td>\n      <td>2883</td>\n      <td>77052018.60</td>\n      <td>333149340.0</td>\n      <td>-4.489362e+08</td>\n      <td>376</td>\n      <td>318</td>\n    </tr>\n    <tr>\n      <th>7</th>\n      <td>2030</td>\n      <td>11099</td>\n      <td>3252</td>\n      <td>76037937.90</td>\n      <td>395237478.0</td>\n      <td>-7.681357e+08</td>\n      <td>369</td>\n      <td>318</td>\n    </tr>\n    <tr>\n      <th>8</th>\n      <td>2031</td>\n      <td>11037</td>\n      <td>3616</td>\n      <td>70995169.35</td>\n      <td>447598510.5</td>\n      <td>-1.144739e+09</td>\n      <td>364</td>\n      <td>318</td>\n    </tr>\n    <tr>\n      <th>9</th>\n      <td>2032</td>\n      <td>10979</td>\n      <td>4012</td>\n      <td>65232130.68</td>\n      <td>505180101.0</td>\n      <td>-1.584687e+09</td>\n      <td>396</td>\n      <td>318</td>\n    </tr>\n    <tr>\n      <th>10</th>\n      <td>2033</td>\n      <td>10928</td>\n      <td>4012</td>\n      <td>67518190.68</td>\n      <td>505180101.0</td>\n      <td>-2.022349e+09</td>\n      <td>0</td>\n      <td>318</td>\n    </tr>\n  </tbody>\n</table>\n</div>"
     },
     "execution_count": 38,
     "metadata": {},
     "output_type": "execute_result"
    }
   ],
   "source": [
    "calculIndice(21, 62)"
   ],
   "metadata": {
    "collapsed": false
   }
  },
  {
   "cell_type": "code",
   "execution_count": 39,
   "outputs": [
    {
     "data": {
      "text/plain": "    year TotEmp TotRet      TotCotis      TotPens       Reserve NouvRet  \\\n0   2023  10000   1000  9.499500e+07   69483000.0  2.255120e+08       0   \n1   2024  10318   1000  9.727429e+07   69483000.0  2.533033e+08       0   \n2   2025  10636   1000  1.047946e+08   69483000.0  2.886149e+08       0   \n3   2026  10954   1000  1.070966e+08   69483000.0  3.262285e+08       0   \n4   2027  11272   1000  1.093986e+08   69483000.0  3.661441e+08       0   \n5   2028  11197   1393  1.039003e+08  125042700.0  3.450017e+08     393   \n6   2029  11170   1738  9.946849e+07  173031690.0  2.714385e+08     345   \n7   2030  11099   2127  9.912302e+07  230344050.0  1.402175e+08     389   \n8   2031  11037   2507  9.377010e+07  284920446.0 -5.093286e+07     380   \n9   2032  10979   2883  8.819561e+07  341155222.5 -3.038925e+08     376   \n10  2033  10928   3252  8.291016e+07  395237478.0 -6.162198e+08     369   \n\n   NouvRec  \n0        0  \n1      318  \n2      318  \n3      318  \n4      318  \n5      318  \n6      318  \n7      318  \n8      318  \n9      318  \n10     318  ",
      "text/html": "<div>\n<style scoped>\n    .dataframe tbody tr th:only-of-type {\n        vertical-align: middle;\n    }\n\n    .dataframe tbody tr th {\n        vertical-align: top;\n    }\n\n    .dataframe thead th {\n        text-align: right;\n    }\n</style>\n<table border=\"1\" class=\"dataframe\">\n  <thead>\n    <tr style=\"text-align: right;\">\n      <th></th>\n      <th>year</th>\n      <th>TotEmp</th>\n      <th>TotRet</th>\n      <th>TotCotis</th>\n      <th>TotPens</th>\n      <th>Reserve</th>\n      <th>NouvRet</th>\n      <th>NouvRec</th>\n    </tr>\n  </thead>\n  <tbody>\n    <tr>\n      <th>0</th>\n      <td>2023</td>\n      <td>10000</td>\n      <td>1000</td>\n      <td>9.499500e+07</td>\n      <td>69483000.0</td>\n      <td>2.255120e+08</td>\n      <td>0</td>\n      <td>0</td>\n    </tr>\n    <tr>\n      <th>1</th>\n      <td>2024</td>\n      <td>10318</td>\n      <td>1000</td>\n      <td>9.727429e+07</td>\n      <td>69483000.0</td>\n      <td>2.533033e+08</td>\n      <td>0</td>\n      <td>318</td>\n    </tr>\n    <tr>\n      <th>2</th>\n      <td>2025</td>\n      <td>10636</td>\n      <td>1000</td>\n      <td>1.047946e+08</td>\n      <td>69483000.0</td>\n      <td>2.886149e+08</td>\n      <td>0</td>\n      <td>318</td>\n    </tr>\n    <tr>\n      <th>3</th>\n      <td>2026</td>\n      <td>10954</td>\n      <td>1000</td>\n      <td>1.070966e+08</td>\n      <td>69483000.0</td>\n      <td>3.262285e+08</td>\n      <td>0</td>\n      <td>318</td>\n    </tr>\n    <tr>\n      <th>4</th>\n      <td>2027</td>\n      <td>11272</td>\n      <td>1000</td>\n      <td>1.093986e+08</td>\n      <td>69483000.0</td>\n      <td>3.661441e+08</td>\n      <td>0</td>\n      <td>318</td>\n    </tr>\n    <tr>\n      <th>5</th>\n      <td>2028</td>\n      <td>11197</td>\n      <td>1393</td>\n      <td>1.039003e+08</td>\n      <td>125042700.0</td>\n      <td>3.450017e+08</td>\n      <td>393</td>\n      <td>318</td>\n    </tr>\n    <tr>\n      <th>6</th>\n      <td>2029</td>\n      <td>11170</td>\n      <td>1738</td>\n      <td>9.946849e+07</td>\n      <td>173031690.0</td>\n      <td>2.714385e+08</td>\n      <td>345</td>\n      <td>318</td>\n    </tr>\n    <tr>\n      <th>7</th>\n      <td>2030</td>\n      <td>11099</td>\n      <td>2127</td>\n      <td>9.912302e+07</td>\n      <td>230344050.0</td>\n      <td>1.402175e+08</td>\n      <td>389</td>\n      <td>318</td>\n    </tr>\n    <tr>\n      <th>8</th>\n      <td>2031</td>\n      <td>11037</td>\n      <td>2507</td>\n      <td>9.377010e+07</td>\n      <td>284920446.0</td>\n      <td>-5.093286e+07</td>\n      <td>380</td>\n      <td>318</td>\n    </tr>\n    <tr>\n      <th>9</th>\n      <td>2032</td>\n      <td>10979</td>\n      <td>2883</td>\n      <td>8.819561e+07</td>\n      <td>341155222.5</td>\n      <td>-3.038925e+08</td>\n      <td>376</td>\n      <td>318</td>\n    </tr>\n    <tr>\n      <th>10</th>\n      <td>2033</td>\n      <td>10928</td>\n      <td>3252</td>\n      <td>8.291016e+07</td>\n      <td>395237478.0</td>\n      <td>-6.162198e+08</td>\n      <td>369</td>\n      <td>318</td>\n    </tr>\n  </tbody>\n</table>\n</div>"
     },
     "execution_count": 39,
     "metadata": {},
     "output_type": "execute_result"
    }
   ],
   "source": [
    "calculIndice(21, 65)"
   ],
   "metadata": {
    "collapsed": false
   }
  },
  {
   "cell_type": "code",
   "execution_count": null,
   "outputs": [],
   "source": [],
   "metadata": {
    "collapsed": false
   }
  }
 ],
 "metadata": {
  "kernelspec": {
   "display_name": "Python 3",
   "language": "python",
   "name": "python3"
  },
  "language_info": {
   "codemirror_mode": {
    "name": "ipython",
    "version": 2
   },
   "file_extension": ".py",
   "mimetype": "text/x-python",
   "name": "python",
   "nbconvert_exporter": "python",
   "pygments_lexer": "ipython2",
   "version": "2.7.6"
  }
 },
 "nbformat": 4,
 "nbformat_minor": 0
}
