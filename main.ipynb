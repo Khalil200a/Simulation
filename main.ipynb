{
 "cells": [
  {
   "cell_type": "code",
   "execution_count": 5,
   "outputs": [],
   "source": [
    "import pandas as pd\n",
    "import random"
   ],
   "metadata": {
    "collapsed": false
   }
  },
  {
   "cell_type": "code",
   "execution_count": 6,
   "outputs": [],
   "source": [
    "# Veut dire que c’est un passage par adresse des 3 variables IX, IY et IZ.\n",
    "# 3 variables entières qu’il faut initialiser avant le 1er appel de la fonction.\n",
    "# Veut dire que la fonction est typée, elle retourne un nombre réel.\n",
    "def alea(IX, IY, IZ):\n",
    "    # Déclaration d’une variable inter de type réel\n",
    "    inter = 0.0\n",
    "    # A chaque exécution de la fonction, les valeurs des 3 variables sont recalculées, d’où un passage par adresse.\n",
    "    # % : division entière\n",
    "    # // : reste de la division entière\n",
    "    IX = 171 * (IX % 177) - 2 * (IX // 177)\n",
    "    IY = 172 * (IY % 176) - 35 * (IY // 176)\n",
    "    IZ = 170 * (IZ % 178) - 63 * (IZ // 178)\n",
    "    # S’il y a un dépassement de capacité sur une variable, on ajoute un nombre très grand, pour la machine 16 bits,\n",
    "    # pour ramener à une valeur positive. Ce qui marche sur une machine 16 bits marche sur une 32 ou 64 bits.\n",
    "    if IX < 0:\n",
    "        IX = IX + 30269\n",
    "    if IY < 0:\n",
    "        IY = IY + 30307\n",
    "    if IZ < 0:\n",
    "        IZ = IZ + 30323\n",
    "    inter = ((IX / 30269) + (IY / 30307) + (IZ / 30323))\n",
    "    return [round(inter - int(inter), 4),IX, IY, IZ]"
   ],
   "metadata": {
    "collapsed": false
   }
  },
  {
   "cell_type": "code",
   "execution_count": 7,
   "outputs": [],
   "source": [
    "IX = 100\n",
    "IY = 100\n",
    "IZ = 100"
   ],
   "metadata": {
    "collapsed": false
   }
  },
  {
   "cell_type": "code",
   "execution_count": 8,
   "outputs": [],
   "source": [
    "salaire = [(40000, 30000), (30000, 20000), (20000, 15000), (15000, 10000), (10000, 7500), (7500, 5000), (5000, 3000)]\n",
    "frequenceSalaire = [5, 10, 10, 15, 20, 20, 20]\n",
    "age = [(61, 53), (52, 41), (40, 31), (30, 21)]\n",
    "frequenceAge = [30, 30, 20, 20]\n",
    "ageEmbauche = [(21, 22), (23, 24), (25, 28), (29, 32), (33, 35), (36, 40)]\n",
    "frequenceAgeEmbauche = [5, 20, 25, 25, 20, 5]\n",
    "salaire_embauche=[(32000,24000),(24000,16000),(16000,12000),(12000,8000),(8000,6000),(6000,4000),(4000,3000)]\n",
    "frequenceSalaireEmbauche=[5,5,10,20,20,20,20]\n",
    "years = [24, 25, 26, 27, 28, 29, 30, 31, 32, 33]"
   ],
   "metadata": {
    "collapsed": false
   }
  },
  {
   "cell_type": "code",
   "execution_count": 9,
   "outputs": [],
   "source": [
    "ensemble_data_frames = {}\n",
    "for j in range(1, 41):\n",
    "    data_frames = {}\n",
    "    for i in range(23, 34) :\n",
    "        data_frames['Employe_20'+str(i)] = pd.DataFrame(columns=[\"id\", \"age\", \"salaire\", \"cotisation\"])\n",
    "        data_frames['Retraite_20'+str(i)] = pd.DataFrame(columns=[\"id\", \"age\", \"salaire\"])\n",
    "        data_frames['newRecru_20'+str(i)] = pd.DataFrame(columns=[\"id\", \"age\", \"salaire\", \"cotisation\"])\n",
    "    ensemble_data_frames['Simulation_'+str(j)] = data_frames"
   ],
   "metadata": {
    "collapsed": false
   }
  },
  {
   "cell_type": "code",
   "execution_count": 10,
   "outputs": [],
   "source": [
    "data_indices = {}\n",
    "for j in range(1, 41):\n",
    "    data_indices['Simulation_'+str(j)] = pd.DataFrame(columns=[\"year\", \"TotEmp\", \"TotRet\", \"TotCotis\", \"TotPens\", \"Reserve\", \"NouvRet\", \"NouvRec\"])"
   ],
   "metadata": {
    "collapsed": false
   }
  },
  {
   "cell_type": "code",
   "execution_count": 11,
   "outputs": [],
   "source": [
    "def cumuleFrequenceIntervale(frequences):\n",
    "    cumules = []\n",
    "    index = 0\n",
    "    for i in frequences:\n",
    "        cumules.append([index, i+index])\n",
    "        index += i\n",
    "    return cumules"
   ],
   "metadata": {
    "collapsed": false
   }
  },
  {
   "cell_type": "code",
   "execution_count": 12,
   "outputs": [],
   "source": [
    "def indexFromTable(cumules, aleaNumber):\n",
    "    i = 0\n",
    "    for intervale in cumules :\n",
    "        if intervale[1] > aleaNumber*100 :\n",
    "            return i\n",
    "        i+=1\n",
    "    return i"
   ],
   "metadata": {
    "collapsed": false
   }
  },
  {
   "cell_type": "code",
   "execution_count": 13,
   "outputs": [],
   "source": [
    "def cotisation(salaire):\n",
    "    if salaire < 5000:\n",
    "        return salaire*0.05\n",
    "    elif salaire < 7000 :\n",
    "        return salaire*0.06\n",
    "    elif salaire < 100000 :\n",
    "        return salaire*0.07\n",
    "    else:\n",
    "        return salaire*0.1"
   ],
   "metadata": {
    "collapsed": false
   }
  },
  {
   "cell_type": "code",
   "execution_count": 14,
   "outputs": [],
   "source": [
    "def createEmployeRetraite(simulation, year, IX, IY, IZ):\n",
    "    dfEmploye = ensemble_data_frames[\"Simulation_\"+str(simulation)][\"Employe_20\"+str(year)]\n",
    "    dfRetraite = ensemble_data_frames[\"Simulation_\"+str(simulation)][\"Retraite_20\"+str(year)]\n",
    "    for index in range(11000):\n",
    "        if index >=1:\n",
    "            IX = alea(IX, IY, IZ)[1]\n",
    "            IY = alea(IX, IY, IZ)[2]\n",
    "            IZ = alea(IX, IY, IZ)[3]\n",
    "        salaireIndex = indexFromTable(cumuleFrequenceIntervale(frequenceSalaire), alea(IX, IY, IZ)[0])\n",
    "        ageIndex = indexFromTable(cumuleFrequenceIntervale(frequenceAge), alea(IX, IY, IZ)[0])\n",
    "        i = index+1\n",
    "        s = random.randrange(salaire[salaireIndex][1], salaire[salaireIndex][0], 100)\n",
    "        if index <10000:\n",
    "            a = random.randrange(age[ageIndex][1], age[ageIndex][0], 1)\n",
    "\n",
    "            new_row = pd.DataFrame( {\"id\" : [i], \"age\": [a], \"salaire\": [s], \"cotisation\" : [cotisation(s)]})\n",
    "            dfEmploye = pd.concat([dfEmploye, new_row], ignore_index=True)\n",
    "        else:\n",
    "            a = random.randint(65, 85)\n",
    "            new_row = pd.DataFrame( {\"id\" : [i], \"age\": [a], \"salaire\": [s]})\n",
    "            dfRetraite = pd.concat([dfRetraite, new_row], ignore_index=True)\n",
    "    ensemble_data_frames[\"Simulation_\"+str(simulation)][\"Employe_20\"+str(year)] = dfEmploye\n",
    "    ensemble_data_frames[\"Simulation_\"+str(simulation)][\"Retraite_20\"+str(year)] = dfRetraite"
   ],
   "metadata": {
    "collapsed": false
   }
  },
  {
   "cell_type": "code",
   "execution_count": 15,
   "outputs": [],
   "source": [
    "def pensionnaireFive(dfRetrait) :\n",
    "    pensionnaire65 = pd.DataFrame(columns=[\"id\", \"age\", \"salaire\", \"pension\"])\n",
    "    for index, row in dfRetrait.iterrows():\n",
    "        a = row[\"age\"]\n",
    "        s = row[\"salaire\"]\n",
    "        p = ((25*2)/100)*row[\"salaire\"]\n",
    "        new_row = pd.DataFrame( {\"id\" : row[\"id\"], \"age\": [a], \"salaire\": [s], \"pension\": [p]})\n",
    "        pensionnaire65 = pd.concat([pensionnaire65, new_row], ignore_index=True)\n",
    "    return pensionnaire65"
   ],
   "metadata": {
    "collapsed": false
   }
  },
  {
   "cell_type": "code",
   "execution_count": 16,
   "outputs": [],
   "source": [
    "def pensionnaireTwo(dfEmploye, dfRetraite):\n",
    "    pensionnaire62 = pd.DataFrame(columns=[\"id\", \"age\", \"salaire\", \"pension\"])\n",
    "    pensionnaire65 = pensionnaireFive(dfRetraite)\n",
    "    pensionnaire62 = pd.concat([pensionnaire62, pensionnaire65], ignore_index=True)\n",
    "    for index, row in dfEmploye.iterrows():\n",
    "        if row[\"age\"]>=62:\n",
    "            a = row[\"age\"]\n",
    "            s = row[\"salaire\"]\n",
    "            p = ((25*2)/100)*row[\"salaire\"]\n",
    "            new_row = pd.DataFrame( {\"id\" : row[\"id\"], \"age\": [a], \"salaire\": [s], \"pension\": [p]})\n",
    "            pensionnaire62 = pd.concat([pensionnaire62, new_row], ignore_index=True)\n",
    "    return pensionnaire62"
   ],
   "metadata": {
    "collapsed": false
   }
  },
  {
   "cell_type": "code",
   "execution_count": 17,
   "outputs": [],
   "source": [
    "def newRecrutement(IX, IY, IZ):\n",
    "    Nouveux_Recrus = pd.DataFrame(columns=[\"id\", \"age\", \"salaire\"])\n",
    "    a=alea(IX, IY, IZ)[0]\n",
    "    n = ((400 - 250) * a) + 250\n",
    "    for index in range(int(n)):\n",
    "        if index >= 0 :\n",
    "            IX = alea(IX, IY, IZ)[1]\n",
    "            IY = alea(IX, IY, IZ)[2]\n",
    "            IZ = alea(IX, IY, IZ)[3]\n",
    "        salaireIndex = indexFromTable(cumuleFrequenceIntervale(frequenceSalaireEmbauche), alea(IX, IY, IZ)[0])\n",
    "        ageIndex = indexFromTable(cumuleFrequenceIntervale(frequenceAgeEmbauche), alea(IX, IY, IZ)[0])\n",
    "        i = index+1\n",
    "        s = random.randrange(salaire_embauche[salaireIndex][1], salaire_embauche[salaireIndex][0], 100)\n",
    "        a = random.randrange(ageEmbauche[ageIndex][0], ageEmbauche[ageIndex][1], 1)\n",
    "        new_row = pd.DataFrame( {\"id\" : [i], \"age\": [a], \"salaire\": [s], \"cotisation\" : [cotisation(s)]})\n",
    "        Nouveux_Recrus = pd.concat([Nouveux_Recrus, new_row], ignore_index=True)\n",
    "    return Nouveux_Recrus"
   ],
   "metadata": {
    "collapsed": false
   }
  },
  {
   "cell_type": "code",
   "execution_count": 18,
   "outputs": [],
   "source": [
    "def calculEmployeRetraite(simulation, i, IX, IY, IZ):\n",
    "    EmployeBeta = ensemble_data_frames[\"Simulation_\"+str(simulation)]['Employe_20'+str(i-1)]\n",
    "    RetraiteBeta = ensemble_data_frames[\"Simulation_\"+str(simulation)]['Retraite_20'+str(i-1)]\n",
    "    EmployeAlpha = ensemble_data_frames[\"Simulation_\"+str(simulation)]['Employe_20'+str(i)]\n",
    "    RetraiteAlpha = ensemble_data_frames[\"Simulation_\"+str(simulation)]['Retraite_20'+str(i)]\n",
    "    for index, row in EmployeBeta.iterrows():\n",
    "        if row[\"age\"] < 64:\n",
    "            if i == 25 or i == 30:\n",
    "                s = row[\"salaire\"]*1.05\n",
    "            else :\n",
    "                s = row[\"salaire\"]\n",
    "            a = row[\"age\"]+1\n",
    "            new_row = pd.DataFrame({\"id\" : row[\"id\"], \"age\": [a], \"salaire\": [s], \"cotisation\" : [cotisation(s)]})\n",
    "            EmployeAlpha = pd.concat([EmployeAlpha, new_row], ignore_index=True)\n",
    "        else :\n",
    "            if i == 25 or i == 30:\n",
    "                s = row[\"salaire\"]*1.05\n",
    "            else :\n",
    "                s = row[\"salaire\"]\n",
    "            a = row[\"age\"]+1\n",
    "            new_row = pd.DataFrame({\"id\" : row[\"id\"], \"age\": [a], \"salaire\": [s]})\n",
    "            RetraiteAlpha = pd.concat([RetraiteAlpha, new_row], ignore_index=True)\n",
    "    for index, row in RetraiteBeta.iterrows():\n",
    "        new_row = pd.DataFrame({\"id\" : [row[\"id\"]], \"age\": [row[\"age\"]+1], \"salaire\": [row[\"salaire\"]]})\n",
    "        RetraiteAlpha = pd.concat([RetraiteAlpha, new_row], ignore_index=True)\n",
    "    newRecru = newRecrutement(IX, IY, IZ)\n",
    "    for index, row in newRecru.iterrows():\n",
    "        new_row = pd.DataFrame({\"id\" : [row[\"id\"]], \"age\": [row[\"age\"]], \"salaire\": [row[\"salaire\"]],\"cotisation\" : [row[\"cotisation\"]]})\n",
    "        EmployeAlpha = pd.concat([EmployeAlpha, new_row], ignore_index=True)\n",
    "    ensemble_data_frames[\"Simulation_\"+str(simulation)]['Employe_20'+str(i)] = EmployeAlpha\n",
    "    ensemble_data_frames[\"Simulation_\"+str(simulation)]['Retraite_20'+str(i)] = RetraiteAlpha\n",
    "    ensemble_data_frames[\"Simulation_\"+str(simulation)]['newRecru_20'+str(i)] = newRecru"
   ],
   "metadata": {
    "collapsed": false
   }
  },
  {
   "cell_type": "code",
   "execution_count": 19,
   "outputs": [],
   "source": [
    "def calculIndice(simulation, ageRetrait):\n",
    "    dfIndice = data_indices[\"Simulation_\"+str(simulation)]\n",
    "    dfEmploye =  ensemble_data_frames[\"Simulation_\"+str(simulation)]['Employe_20'+str(23)]\n",
    "    dfRetraite = ensemble_data_frames[\"Simulation_\"+str(simulation)]['Retraite_20'+str(23)]\n",
    "    TotEmp = dfEmploye.shape[0]\n",
    "    if ageRetrait == 62:\n",
    "        TotCotis = dfEmploye[dfEmploye[\"age\"]<=61][\"cotisation\"].sum()*12\n",
    "        pensionnaire = pensionnaireTwo(dfEmploye, dfRetraite)\n",
    "    else:\n",
    "         TotCotis = dfEmploye[\"cotisation\"].sum()*12\n",
    "         pensionnaire = pensionnaireFive(dfRetraite)\n",
    "    TotRet = pensionnaire.shape[0]\n",
    "    TotPens = pensionnaire[\"pension\"].sum()*12\n",
    "    Reserve = 200000000 + TotCotis - TotPens\n",
    "    NouvRet = 0\n",
    "    NouvRec = 0\n",
    "    new_row = pd.DataFrame({\"year\" : [2023], \"TotEmp\" : [TotEmp], \"TotRet\" : [TotRet], \"TotCotis\" : [TotCotis], \"TotPens\" : [TotPens], \"Reserve\" : [Reserve], \"NouvRet\" : [NouvRet], \"NouvRec\" : [NouvRec]})\n",
    "    dfIndice = pd.concat([dfIndice, new_row], ignore_index=True)\n",
    "    for year in years :\n",
    "        dfEmploye =  ensemble_data_frames[\"Simulation_\"+str(simulation)]['Employe_20'+str(year)]\n",
    "        dfRetraite = ensemble_data_frames[\"Simulation_\"+str(simulation)]['Retraite_20'+str(year)]\n",
    "        dfRecrutement = ensemble_data_frames[\"Simulation_\"+str(simulation)]['newRecru_20'+str(year)]\n",
    "        TotEmp = dfEmploye.shape[0]\n",
    "        if ageRetrait == 62:\n",
    "            TotCotis = dfEmploye[dfEmploye[\"age\"]<=61][\"cotisation\"].sum()*12\n",
    "            pensionnaire = pensionnaireTwo(dfEmploye, dfRetraite)\n",
    "        else:\n",
    "            pensionnaire = pensionnaireFive(dfRetraite)\n",
    "            TotCotis = dfEmploye[\"cotisation\"].sum()*12\n",
    "        TotPens = pensionnaire[\"pension\"].sum()*12\n",
    "        TotRet = pensionnaire.shape[0]\n",
    "        Reserve = dfIndice.iloc[year-24]['Reserve'] + TotCotis -TotPens\n",
    "        NouvRet = TotRet - dfIndice.iloc[year-24]['TotRet']\n",
    "        NouvRec =  dfRecrutement.shape[0]\n",
    "        new_row = pd.DataFrame({\"year\" : [2000+year], \"TotEmp\" : [TotEmp], \"TotRet\" : [TotRet], \"TotCotis\" : [TotCotis], \"TotPens\" : [TotPens], \"Reserve\" : [Reserve], \"NouvRet\" : [NouvRet], \"NouvRec\" : [NouvRec]})\n",
    "        dfIndice = pd.concat([dfIndice, new_row], ignore_index=True)\n",
    "    return dfIndice"
   ],
   "metadata": {
    "collapsed": false
   }
  },
  {
   "cell_type": "code",
   "execution_count": 20,
   "outputs": [],
   "source": [
    "createEmployeRetraite(1, 23, IX, IY, IZ)\n",
    "for year in years:\n",
    "    calculEmployeRetraite(1, year, IX, IY, IZ)"
   ],
   "metadata": {
    "collapsed": false
   }
  },
  {
   "cell_type": "code",
   "execution_count": 21,
   "outputs": [
    {
     "data": {
      "text/plain": "        id age   salaire  cotisation\n0        1  47   7607.25    532.5075\n1        2  61   8268.75    578.8125\n2        4  36   3748.50    187.4250\n3        5  38   4299.75    214.9875\n4        6  39   4740.75    237.0375\n...    ...  ..       ...         ...\n11260  349  29   6600.00    396.0000\n11261  350  31   4400.00    220.0000\n11262  351  34   4700.00    235.0000\n11263  352  23  19800.00   1386.0000\n11264  353  23   9300.00    651.0000\n\n[11265 rows x 4 columns]",
      "text/html": "<div>\n<style scoped>\n    .dataframe tbody tr th:only-of-type {\n        vertical-align: middle;\n    }\n\n    .dataframe tbody tr th {\n        vertical-align: top;\n    }\n\n    .dataframe thead th {\n        text-align: right;\n    }\n</style>\n<table border=\"1\" class=\"dataframe\">\n  <thead>\n    <tr style=\"text-align: right;\">\n      <th></th>\n      <th>id</th>\n      <th>age</th>\n      <th>salaire</th>\n      <th>cotisation</th>\n    </tr>\n  </thead>\n  <tbody>\n    <tr>\n      <th>0</th>\n      <td>1</td>\n      <td>47</td>\n      <td>7607.25</td>\n      <td>532.5075</td>\n    </tr>\n    <tr>\n      <th>1</th>\n      <td>2</td>\n      <td>61</td>\n      <td>8268.75</td>\n      <td>578.8125</td>\n    </tr>\n    <tr>\n      <th>2</th>\n      <td>4</td>\n      <td>36</td>\n      <td>3748.50</td>\n      <td>187.4250</td>\n    </tr>\n    <tr>\n      <th>3</th>\n      <td>5</td>\n      <td>38</td>\n      <td>4299.75</td>\n      <td>214.9875</td>\n    </tr>\n    <tr>\n      <th>4</th>\n      <td>6</td>\n      <td>39</td>\n      <td>4740.75</td>\n      <td>237.0375</td>\n    </tr>\n    <tr>\n      <th>...</th>\n      <td>...</td>\n      <td>...</td>\n      <td>...</td>\n      <td>...</td>\n    </tr>\n    <tr>\n      <th>11260</th>\n      <td>349</td>\n      <td>29</td>\n      <td>6600.00</td>\n      <td>396.0000</td>\n    </tr>\n    <tr>\n      <th>11261</th>\n      <td>350</td>\n      <td>31</td>\n      <td>4400.00</td>\n      <td>220.0000</td>\n    </tr>\n    <tr>\n      <th>11262</th>\n      <td>351</td>\n      <td>34</td>\n      <td>4700.00</td>\n      <td>235.0000</td>\n    </tr>\n    <tr>\n      <th>11263</th>\n      <td>352</td>\n      <td>23</td>\n      <td>19800.00</td>\n      <td>1386.0000</td>\n    </tr>\n    <tr>\n      <th>11264</th>\n      <td>353</td>\n      <td>23</td>\n      <td>9300.00</td>\n      <td>651.0000</td>\n    </tr>\n  </tbody>\n</table>\n<p>11265 rows × 4 columns</p>\n</div>"
     },
     "execution_count": 21,
     "metadata": {},
     "output_type": "execute_result"
    }
   ],
   "source": [
    "simulation = 1\n",
    "year = 33\n",
    "ensemble_data_frames[\"Simulation_\"+str(simulation)]['Employe_20'+str(year)]"
   ],
   "metadata": {
    "collapsed": false
   }
  },
  {
   "cell_type": "code",
   "execution_count": 22,
   "outputs": [
    {
     "data": {
      "text/plain": "         id age   salaire\n0        86  65  35390.25\n1       107  65  39910.50\n2       110  65  17970.75\n3       160  65  20286.00\n4       179  65  16427.25\n...     ...  ..       ...\n3260  10996  91   7700.00\n3261  10997  89  37400.00\n3262  10998  77   3500.00\n3263  10999  94   9800.00\n3264  11000  90  22400.00\n\n[3265 rows x 3 columns]",
      "text/html": "<div>\n<style scoped>\n    .dataframe tbody tr th:only-of-type {\n        vertical-align: middle;\n    }\n\n    .dataframe tbody tr th {\n        vertical-align: top;\n    }\n\n    .dataframe thead th {\n        text-align: right;\n    }\n</style>\n<table border=\"1\" class=\"dataframe\">\n  <thead>\n    <tr style=\"text-align: right;\">\n      <th></th>\n      <th>id</th>\n      <th>age</th>\n      <th>salaire</th>\n    </tr>\n  </thead>\n  <tbody>\n    <tr>\n      <th>0</th>\n      <td>86</td>\n      <td>65</td>\n      <td>35390.25</td>\n    </tr>\n    <tr>\n      <th>1</th>\n      <td>107</td>\n      <td>65</td>\n      <td>39910.50</td>\n    </tr>\n    <tr>\n      <th>2</th>\n      <td>110</td>\n      <td>65</td>\n      <td>17970.75</td>\n    </tr>\n    <tr>\n      <th>3</th>\n      <td>160</td>\n      <td>65</td>\n      <td>20286.00</td>\n    </tr>\n    <tr>\n      <th>4</th>\n      <td>179</td>\n      <td>65</td>\n      <td>16427.25</td>\n    </tr>\n    <tr>\n      <th>...</th>\n      <td>...</td>\n      <td>...</td>\n      <td>...</td>\n    </tr>\n    <tr>\n      <th>3260</th>\n      <td>10996</td>\n      <td>91</td>\n      <td>7700.00</td>\n    </tr>\n    <tr>\n      <th>3261</th>\n      <td>10997</td>\n      <td>89</td>\n      <td>37400.00</td>\n    </tr>\n    <tr>\n      <th>3262</th>\n      <td>10998</td>\n      <td>77</td>\n      <td>3500.00</td>\n    </tr>\n    <tr>\n      <th>3263</th>\n      <td>10999</td>\n      <td>94</td>\n      <td>9800.00</td>\n    </tr>\n    <tr>\n      <th>3264</th>\n      <td>11000</td>\n      <td>90</td>\n      <td>22400.00</td>\n    </tr>\n  </tbody>\n</table>\n<p>3265 rows × 3 columns</p>\n</div>"
     },
     "execution_count": 22,
     "metadata": {},
     "output_type": "execute_result"
    }
   ],
   "source": [
    "ensemble_data_frames[\"Simulation_\"+str(simulation)]['Retraite_20'+str(year)]"
   ],
   "metadata": {
    "collapsed": false
   }
  },
  {
   "cell_type": "code",
   "execution_count": 23,
   "outputs": [
    {
     "data": {
      "text/plain": "        id age   salaire    pension\n0       86  65  35390.25  17695.125\n1      107  65  39910.50  19955.250\n2      110  65  17970.75   8985.375\n3      160  65  20286.00  10143.000\n4      179  65  16427.25   8213.625\n...    ...  ..       ...        ...\n3979  9949  63  14222.25   7111.125\n3980  9952  64  13009.50   6504.750\n3981  9957  64  19293.75   9646.875\n3982  9986  64  16647.75   8323.875\n3983  9987  63  13560.75   6780.375\n\n[3984 rows x 4 columns]",
      "text/html": "<div>\n<style scoped>\n    .dataframe tbody tr th:only-of-type {\n        vertical-align: middle;\n    }\n\n    .dataframe tbody tr th {\n        vertical-align: top;\n    }\n\n    .dataframe thead th {\n        text-align: right;\n    }\n</style>\n<table border=\"1\" class=\"dataframe\">\n  <thead>\n    <tr style=\"text-align: right;\">\n      <th></th>\n      <th>id</th>\n      <th>age</th>\n      <th>salaire</th>\n      <th>pension</th>\n    </tr>\n  </thead>\n  <tbody>\n    <tr>\n      <th>0</th>\n      <td>86</td>\n      <td>65</td>\n      <td>35390.25</td>\n      <td>17695.125</td>\n    </tr>\n    <tr>\n      <th>1</th>\n      <td>107</td>\n      <td>65</td>\n      <td>39910.50</td>\n      <td>19955.250</td>\n    </tr>\n    <tr>\n      <th>2</th>\n      <td>110</td>\n      <td>65</td>\n      <td>17970.75</td>\n      <td>8985.375</td>\n    </tr>\n    <tr>\n      <th>3</th>\n      <td>160</td>\n      <td>65</td>\n      <td>20286.00</td>\n      <td>10143.000</td>\n    </tr>\n    <tr>\n      <th>4</th>\n      <td>179</td>\n      <td>65</td>\n      <td>16427.25</td>\n      <td>8213.625</td>\n    </tr>\n    <tr>\n      <th>...</th>\n      <td>...</td>\n      <td>...</td>\n      <td>...</td>\n      <td>...</td>\n    </tr>\n    <tr>\n      <th>3979</th>\n      <td>9949</td>\n      <td>63</td>\n      <td>14222.25</td>\n      <td>7111.125</td>\n    </tr>\n    <tr>\n      <th>3980</th>\n      <td>9952</td>\n      <td>64</td>\n      <td>13009.50</td>\n      <td>6504.750</td>\n    </tr>\n    <tr>\n      <th>3981</th>\n      <td>9957</td>\n      <td>64</td>\n      <td>19293.75</td>\n      <td>9646.875</td>\n    </tr>\n    <tr>\n      <th>3982</th>\n      <td>9986</td>\n      <td>64</td>\n      <td>16647.75</td>\n      <td>8323.875</td>\n    </tr>\n    <tr>\n      <th>3983</th>\n      <td>9987</td>\n      <td>63</td>\n      <td>13560.75</td>\n      <td>6780.375</td>\n    </tr>\n  </tbody>\n</table>\n<p>3984 rows × 4 columns</p>\n</div>"
     },
     "execution_count": 23,
     "metadata": {},
     "output_type": "execute_result"
    }
   ],
   "source": [
    "pensionnaireTwo(ensemble_data_frames[\"Simulation_\"+str(simulation)]['Employe_20'+str(year)], ensemble_data_frames[\"Simulation_\"+str(simulation)]['Retraite_20'+str(year)])"
   ],
   "metadata": {
    "collapsed": false
   }
  },
  {
   "cell_type": "code",
   "execution_count": 24,
   "outputs": [
    {
     "data": {
      "text/plain": "         id age   salaire    pension\n0        86  65  35390.25  17695.125\n1       107  65  39910.50  19955.250\n2       110  65  17970.75   8985.375\n3       160  65  20286.00  10143.000\n4       179  65  16427.25   8213.625\n...     ...  ..       ...        ...\n3260  10996  91   7700.00   3850.000\n3261  10997  89  37400.00  18700.000\n3262  10998  77   3500.00   1750.000\n3263  10999  94   9800.00   4900.000\n3264  11000  90  22400.00  11200.000\n\n[3265 rows x 4 columns]",
      "text/html": "<div>\n<style scoped>\n    .dataframe tbody tr th:only-of-type {\n        vertical-align: middle;\n    }\n\n    .dataframe tbody tr th {\n        vertical-align: top;\n    }\n\n    .dataframe thead th {\n        text-align: right;\n    }\n</style>\n<table border=\"1\" class=\"dataframe\">\n  <thead>\n    <tr style=\"text-align: right;\">\n      <th></th>\n      <th>id</th>\n      <th>age</th>\n      <th>salaire</th>\n      <th>pension</th>\n    </tr>\n  </thead>\n  <tbody>\n    <tr>\n      <th>0</th>\n      <td>86</td>\n      <td>65</td>\n      <td>35390.25</td>\n      <td>17695.125</td>\n    </tr>\n    <tr>\n      <th>1</th>\n      <td>107</td>\n      <td>65</td>\n      <td>39910.50</td>\n      <td>19955.250</td>\n    </tr>\n    <tr>\n      <th>2</th>\n      <td>110</td>\n      <td>65</td>\n      <td>17970.75</td>\n      <td>8985.375</td>\n    </tr>\n    <tr>\n      <th>3</th>\n      <td>160</td>\n      <td>65</td>\n      <td>20286.00</td>\n      <td>10143.000</td>\n    </tr>\n    <tr>\n      <th>4</th>\n      <td>179</td>\n      <td>65</td>\n      <td>16427.25</td>\n      <td>8213.625</td>\n    </tr>\n    <tr>\n      <th>...</th>\n      <td>...</td>\n      <td>...</td>\n      <td>...</td>\n      <td>...</td>\n    </tr>\n    <tr>\n      <th>3260</th>\n      <td>10996</td>\n      <td>91</td>\n      <td>7700.00</td>\n      <td>3850.000</td>\n    </tr>\n    <tr>\n      <th>3261</th>\n      <td>10997</td>\n      <td>89</td>\n      <td>37400.00</td>\n      <td>18700.000</td>\n    </tr>\n    <tr>\n      <th>3262</th>\n      <td>10998</td>\n      <td>77</td>\n      <td>3500.00</td>\n      <td>1750.000</td>\n    </tr>\n    <tr>\n      <th>3263</th>\n      <td>10999</td>\n      <td>94</td>\n      <td>9800.00</td>\n      <td>4900.000</td>\n    </tr>\n    <tr>\n      <th>3264</th>\n      <td>11000</td>\n      <td>90</td>\n      <td>22400.00</td>\n      <td>11200.000</td>\n    </tr>\n  </tbody>\n</table>\n<p>3265 rows × 4 columns</p>\n</div>"
     },
     "execution_count": 24,
     "metadata": {},
     "output_type": "execute_result"
    }
   ],
   "source": [
    "pensionnaireFive(ensemble_data_frames[\"Simulation_\"+str(simulation)]['Retraite_20'+str(year)])"
   ],
   "metadata": {
    "collapsed": false
   }
  },
  {
   "cell_type": "code",
   "execution_count": 25,
   "outputs": [
    {
     "data": {
      "text/plain": "      id age salaire  cotisation\n0      1  29    7000       490.0\n1      2  23   14400      1008.0\n2      3  36    3200       160.0\n3      4  34    3400       170.0\n4      5  34    3300       165.0\n..   ...  ..     ...         ...\n348  349  29    6600       396.0\n349  350  31    4400       220.0\n350  351  34    4700       235.0\n351  352  23   19800      1386.0\n352  353  23    9300       651.0\n\n[353 rows x 4 columns]",
      "text/html": "<div>\n<style scoped>\n    .dataframe tbody tr th:only-of-type {\n        vertical-align: middle;\n    }\n\n    .dataframe tbody tr th {\n        vertical-align: top;\n    }\n\n    .dataframe thead th {\n        text-align: right;\n    }\n</style>\n<table border=\"1\" class=\"dataframe\">\n  <thead>\n    <tr style=\"text-align: right;\">\n      <th></th>\n      <th>id</th>\n      <th>age</th>\n      <th>salaire</th>\n      <th>cotisation</th>\n    </tr>\n  </thead>\n  <tbody>\n    <tr>\n      <th>0</th>\n      <td>1</td>\n      <td>29</td>\n      <td>7000</td>\n      <td>490.0</td>\n    </tr>\n    <tr>\n      <th>1</th>\n      <td>2</td>\n      <td>23</td>\n      <td>14400</td>\n      <td>1008.0</td>\n    </tr>\n    <tr>\n      <th>2</th>\n      <td>3</td>\n      <td>36</td>\n      <td>3200</td>\n      <td>160.0</td>\n    </tr>\n    <tr>\n      <th>3</th>\n      <td>4</td>\n      <td>34</td>\n      <td>3400</td>\n      <td>170.0</td>\n    </tr>\n    <tr>\n      <th>4</th>\n      <td>5</td>\n      <td>34</td>\n      <td>3300</td>\n      <td>165.0</td>\n    </tr>\n    <tr>\n      <th>...</th>\n      <td>...</td>\n      <td>...</td>\n      <td>...</td>\n      <td>...</td>\n    </tr>\n    <tr>\n      <th>348</th>\n      <td>349</td>\n      <td>29</td>\n      <td>6600</td>\n      <td>396.0</td>\n    </tr>\n    <tr>\n      <th>349</th>\n      <td>350</td>\n      <td>31</td>\n      <td>4400</td>\n      <td>220.0</td>\n    </tr>\n    <tr>\n      <th>350</th>\n      <td>351</td>\n      <td>34</td>\n      <td>4700</td>\n      <td>235.0</td>\n    </tr>\n    <tr>\n      <th>351</th>\n      <td>352</td>\n      <td>23</td>\n      <td>19800</td>\n      <td>1386.0</td>\n    </tr>\n    <tr>\n      <th>352</th>\n      <td>353</td>\n      <td>23</td>\n      <td>9300</td>\n      <td>651.0</td>\n    </tr>\n  </tbody>\n</table>\n<p>353 rows × 4 columns</p>\n</div>"
     },
     "execution_count": 25,
     "metadata": {},
     "output_type": "execute_result"
    }
   ],
   "source": [
    "ensemble_data_frames[\"Simulation_\"+str(simulation)]['newRecru_20'+str(year)]"
   ],
   "metadata": {
    "collapsed": false
   }
  },
  {
   "cell_type": "code",
   "execution_count": 26,
   "outputs": [
    {
     "data": {
      "text/plain": "    year TotEmp TotRet     TotCotis      TotPens       Reserve NouvRet NouvRec\n0   2023  10000   1000  94662696.00   67929000.0  2.267337e+08       0       0\n1   2024  10353   1000  97037100.00   67929000.0  2.558418e+08       0     353\n2   2025  10706   1367  97509469.80  118878360.0  2.344729e+08     367     353\n3   2026  11059   1771  92046535.20  175107750.0  1.514117e+08     404     353\n4   2027  11412   2114  87566597.40  224089620.0  1.488867e+07     343     353\n5   2028  11398   2469  82855780.80  274831710.0 -1.770873e+08     355     353\n6   2029  11347   2883  77366329.80  331112760.0 -4.308337e+08     414     353\n7   2030  11357   3265  76317291.30  394224994.5 -7.487414e+08     382     353\n8   2031  11355   3638  71149336.11  448454103.0 -1.126046e+09     373     353\n9   2032  11294   3984  66561596.16  498394045.5 -1.557879e+09     346     353\n10  2033  11265   3984  68967776.16  498394045.5 -1.987305e+09       0     353",
      "text/html": "<div>\n<style scoped>\n    .dataframe tbody tr th:only-of-type {\n        vertical-align: middle;\n    }\n\n    .dataframe tbody tr th {\n        vertical-align: top;\n    }\n\n    .dataframe thead th {\n        text-align: right;\n    }\n</style>\n<table border=\"1\" class=\"dataframe\">\n  <thead>\n    <tr style=\"text-align: right;\">\n      <th></th>\n      <th>year</th>\n      <th>TotEmp</th>\n      <th>TotRet</th>\n      <th>TotCotis</th>\n      <th>TotPens</th>\n      <th>Reserve</th>\n      <th>NouvRet</th>\n      <th>NouvRec</th>\n    </tr>\n  </thead>\n  <tbody>\n    <tr>\n      <th>0</th>\n      <td>2023</td>\n      <td>10000</td>\n      <td>1000</td>\n      <td>94662696.00</td>\n      <td>67929000.0</td>\n      <td>2.267337e+08</td>\n      <td>0</td>\n      <td>0</td>\n    </tr>\n    <tr>\n      <th>1</th>\n      <td>2024</td>\n      <td>10353</td>\n      <td>1000</td>\n      <td>97037100.00</td>\n      <td>67929000.0</td>\n      <td>2.558418e+08</td>\n      <td>0</td>\n      <td>353</td>\n    </tr>\n    <tr>\n      <th>2</th>\n      <td>2025</td>\n      <td>10706</td>\n      <td>1367</td>\n      <td>97509469.80</td>\n      <td>118878360.0</td>\n      <td>2.344729e+08</td>\n      <td>367</td>\n      <td>353</td>\n    </tr>\n    <tr>\n      <th>3</th>\n      <td>2026</td>\n      <td>11059</td>\n      <td>1771</td>\n      <td>92046535.20</td>\n      <td>175107750.0</td>\n      <td>1.514117e+08</td>\n      <td>404</td>\n      <td>353</td>\n    </tr>\n    <tr>\n      <th>4</th>\n      <td>2027</td>\n      <td>11412</td>\n      <td>2114</td>\n      <td>87566597.40</td>\n      <td>224089620.0</td>\n      <td>1.488867e+07</td>\n      <td>343</td>\n      <td>353</td>\n    </tr>\n    <tr>\n      <th>5</th>\n      <td>2028</td>\n      <td>11398</td>\n      <td>2469</td>\n      <td>82855780.80</td>\n      <td>274831710.0</td>\n      <td>-1.770873e+08</td>\n      <td>355</td>\n      <td>353</td>\n    </tr>\n    <tr>\n      <th>6</th>\n      <td>2029</td>\n      <td>11347</td>\n      <td>2883</td>\n      <td>77366329.80</td>\n      <td>331112760.0</td>\n      <td>-4.308337e+08</td>\n      <td>414</td>\n      <td>353</td>\n    </tr>\n    <tr>\n      <th>7</th>\n      <td>2030</td>\n      <td>11357</td>\n      <td>3265</td>\n      <td>76317291.30</td>\n      <td>394224994.5</td>\n      <td>-7.487414e+08</td>\n      <td>382</td>\n      <td>353</td>\n    </tr>\n    <tr>\n      <th>8</th>\n      <td>2031</td>\n      <td>11355</td>\n      <td>3638</td>\n      <td>71149336.11</td>\n      <td>448454103.0</td>\n      <td>-1.126046e+09</td>\n      <td>373</td>\n      <td>353</td>\n    </tr>\n    <tr>\n      <th>9</th>\n      <td>2032</td>\n      <td>11294</td>\n      <td>3984</td>\n      <td>66561596.16</td>\n      <td>498394045.5</td>\n      <td>-1.557879e+09</td>\n      <td>346</td>\n      <td>353</td>\n    </tr>\n    <tr>\n      <th>10</th>\n      <td>2033</td>\n      <td>11265</td>\n      <td>3984</td>\n      <td>68967776.16</td>\n      <td>498394045.5</td>\n      <td>-1.987305e+09</td>\n      <td>0</td>\n      <td>353</td>\n    </tr>\n  </tbody>\n</table>\n</div>"
     },
     "execution_count": 26,
     "metadata": {},
     "output_type": "execute_result"
    }
   ],
   "source": [
    "calculIndice(1, 62)"
   ],
   "metadata": {
    "collapsed": false
   }
  },
  {
   "cell_type": "code",
   "execution_count": 27,
   "outputs": [
    {
     "data": {
      "text/plain": "    year TotEmp TotRet      TotCotis      TotPens       Reserve NouvRet  \\\n0   2023  10000   1000  9.466270e+07   67929000.0  2.267337e+08       0   \n1   2024  10353   1000  9.703710e+07   67929000.0  2.558418e+08       0   \n2   2025  10706   1000  1.046424e+08   67929000.0  2.925552e+08       0   \n3   2026  11059   1000  1.070516e+08   67929000.0  3.316777e+08       0   \n4   2027  11412   1000  1.094291e+08   67929000.0  3.731778e+08       0   \n5   2028  11398   1367  1.046892e+08  118878360.0  3.589887e+08     367   \n6   2029  11347   1771  9.920703e+07  175107750.0  2.830880e+08     404   \n7   2030  11357   2114  9.979337e+07  226538713.5  1.563426e+08     343   \n8   2031  11355   2469  9.475840e+07  279817908.0 -2.871686e+07     355   \n9   2032  11294   2883  8.888894e+07  338913010.5 -2.787409e+08     414   \n10  2033  11265   3265  8.355144e+07  394224994.5 -5.894145e+08     382   \n\n   NouvRec  \n0        0  \n1      353  \n2      353  \n3      353  \n4      353  \n5      353  \n6      353  \n7      353  \n8      353  \n9      353  \n10     353  ",
      "text/html": "<div>\n<style scoped>\n    .dataframe tbody tr th:only-of-type {\n        vertical-align: middle;\n    }\n\n    .dataframe tbody tr th {\n        vertical-align: top;\n    }\n\n    .dataframe thead th {\n        text-align: right;\n    }\n</style>\n<table border=\"1\" class=\"dataframe\">\n  <thead>\n    <tr style=\"text-align: right;\">\n      <th></th>\n      <th>year</th>\n      <th>TotEmp</th>\n      <th>TotRet</th>\n      <th>TotCotis</th>\n      <th>TotPens</th>\n      <th>Reserve</th>\n      <th>NouvRet</th>\n      <th>NouvRec</th>\n    </tr>\n  </thead>\n  <tbody>\n    <tr>\n      <th>0</th>\n      <td>2023</td>\n      <td>10000</td>\n      <td>1000</td>\n      <td>9.466270e+07</td>\n      <td>67929000.0</td>\n      <td>2.267337e+08</td>\n      <td>0</td>\n      <td>0</td>\n    </tr>\n    <tr>\n      <th>1</th>\n      <td>2024</td>\n      <td>10353</td>\n      <td>1000</td>\n      <td>9.703710e+07</td>\n      <td>67929000.0</td>\n      <td>2.558418e+08</td>\n      <td>0</td>\n      <td>353</td>\n    </tr>\n    <tr>\n      <th>2</th>\n      <td>2025</td>\n      <td>10706</td>\n      <td>1000</td>\n      <td>1.046424e+08</td>\n      <td>67929000.0</td>\n      <td>2.925552e+08</td>\n      <td>0</td>\n      <td>353</td>\n    </tr>\n    <tr>\n      <th>3</th>\n      <td>2026</td>\n      <td>11059</td>\n      <td>1000</td>\n      <td>1.070516e+08</td>\n      <td>67929000.0</td>\n      <td>3.316777e+08</td>\n      <td>0</td>\n      <td>353</td>\n    </tr>\n    <tr>\n      <th>4</th>\n      <td>2027</td>\n      <td>11412</td>\n      <td>1000</td>\n      <td>1.094291e+08</td>\n      <td>67929000.0</td>\n      <td>3.731778e+08</td>\n      <td>0</td>\n      <td>353</td>\n    </tr>\n    <tr>\n      <th>5</th>\n      <td>2028</td>\n      <td>11398</td>\n      <td>1367</td>\n      <td>1.046892e+08</td>\n      <td>118878360.0</td>\n      <td>3.589887e+08</td>\n      <td>367</td>\n      <td>353</td>\n    </tr>\n    <tr>\n      <th>6</th>\n      <td>2029</td>\n      <td>11347</td>\n      <td>1771</td>\n      <td>9.920703e+07</td>\n      <td>175107750.0</td>\n      <td>2.830880e+08</td>\n      <td>404</td>\n      <td>353</td>\n    </tr>\n    <tr>\n      <th>7</th>\n      <td>2030</td>\n      <td>11357</td>\n      <td>2114</td>\n      <td>9.979337e+07</td>\n      <td>226538713.5</td>\n      <td>1.563426e+08</td>\n      <td>343</td>\n      <td>353</td>\n    </tr>\n    <tr>\n      <th>8</th>\n      <td>2031</td>\n      <td>11355</td>\n      <td>2469</td>\n      <td>9.475840e+07</td>\n      <td>279817908.0</td>\n      <td>-2.871686e+07</td>\n      <td>355</td>\n      <td>353</td>\n    </tr>\n    <tr>\n      <th>9</th>\n      <td>2032</td>\n      <td>11294</td>\n      <td>2883</td>\n      <td>8.888894e+07</td>\n      <td>338913010.5</td>\n      <td>-2.787409e+08</td>\n      <td>414</td>\n      <td>353</td>\n    </tr>\n    <tr>\n      <th>10</th>\n      <td>2033</td>\n      <td>11265</td>\n      <td>3265</td>\n      <td>8.355144e+07</td>\n      <td>394224994.5</td>\n      <td>-5.894145e+08</td>\n      <td>382</td>\n      <td>353</td>\n    </tr>\n  </tbody>\n</table>\n</div>"
     },
     "execution_count": 27,
     "metadata": {},
     "output_type": "execute_result"
    }
   ],
   "source": [
    "calculIndice(1, 65)"
   ],
   "metadata": {
    "collapsed": false
   }
  }
 ],
 "metadata": {
  "kernelspec": {
   "display_name": "Python 3",
   "language": "python",
   "name": "python3"
  },
  "language_info": {
   "codemirror_mode": {
    "name": "ipython",
    "version": 2
   },
   "file_extension": ".py",
   "mimetype": "text/x-python",
   "name": "python",
   "nbconvert_exporter": "python",
   "pygments_lexer": "ipython2",
   "version": "2.7.6"
  }
 },
 "nbformat": 4,
 "nbformat_minor": 0
}
