{
 "cells": [
  {
   "cell_type": "code",
   "execution_count": 1,
   "outputs": [],
   "source": [
    "import pandas as pd\n",
    "import random"
   ],
   "metadata": {
    "collapsed": false
   }
  },
  {
   "cell_type": "code",
   "execution_count": 2,
   "metadata": {
    "collapsed": true
   },
   "outputs": [],
   "source": [
    "# Veut dire que c’est un passage par adresse des 3 variables IX, IY et IZ.\n",
    "# 3 variables entières qu’il faut initialiser avant le 1er appel de la fonction.\n",
    "# Veut dire que la fonction est typée, elle retourne un nombre réel.\n",
    "def alea(IX, IY, IZ):\n",
    "    # Déclaration d’une variable inter de type réel\n",
    "    inter = 0.0\n",
    "    # A chaque exécution de la fonction, les valeurs des 3 variables sont recalculées, d’où un passage par adresse.\n",
    "    # % : division entière\n",
    "    # // : reste de la division entière\n",
    "    IX = 171 * (IX % 177) - 2 * (IX // 177)\n",
    "    IY = 172 * (IY % 176) - 35 * (IY // 176)\n",
    "    IZ = 170 * (IZ % 178) - 63 * (IZ // 178)\n",
    "    # S’il y a un dépassement de capacité sur une variable, on ajoute un nombre très grand, pour la machine 16 bits,\n",
    "    # pour ramener à une valeur positive. Ce qui marche sur une machine 16 bits marche sur une 32 ou 64 bits.\n",
    "    if IX < 0:\n",
    "        IX = IX + 30269\n",
    "    if IY < 0:\n",
    "        IY = IY + 30307\n",
    "    if IZ < 0:\n",
    "        IZ = IZ + 30323\n",
    "    inter = ((IX / 30269) + (IY / 30307) + (IZ / 30323))\n",
    "    return [round(inter - int(inter), 4),IX, IY, IZ]"
   ]
  },
  {
   "cell_type": "code",
   "execution_count": 3,
   "outputs": [],
   "source": [
    "salaire = [(40000, 30000), (30000, 20000), (20000, 15000), (15000, 10000), (10000, 7500), (7500, 5000), (5000, 3000)]\n",
    "frequenceSalaire = [5, 10, 10, 15, 20, 20, 20]\n",
    "age = [(62, 53), (52, 41), (40, 31), (30, 21)]\n",
    "frequenceAge = [30, 30, 20, 20]\n",
    "ageEmbauche = [(21, 22), (23, 24), (25, 28), (29, 32), (33, 35), (36, 40)]\n",
    "frequenceAgeEmbauche = [5, 20, 25, 25, 20, 5]\n",
    "salaire_embauche=[(32000,24000),(24000,16000),(16000,12000),(12000,8000),(8000,6000),(6000,4000),(4000,3000)]\n",
    "frequenceSalaireEmbauche=[5,5,10,20,20,20,20]\n",
    "years = [24, 25, 26, 27, 28, 29, 30, 31, 32, 33]\n",
    "totEmp=10000\n",
    "totRet=1000"
   ],
   "metadata": {
    "collapsed": false
   }
  },
  {
   "cell_type": "code",
   "execution_count": 4,
   "outputs": [],
   "source": [
    "ensemble_data_frames = {}\n",
    "for j in range(1, 41):\n",
    "    data_frames = {}\n",
    "    for i in range(23, 34) :\n",
    "        data_frames['Employe_20'+str(i)] = pd.DataFrame(columns=[\"id\", \"age\", \"salaire\"])\n",
    "        data_frames['Retraite_20'+str(i)] = pd.DataFrame(columns=[\"id\", \"age\", \"salaire\"])\n",
    "        data_frames['newRecru_20'+str(i)] = pd.DataFrame(columns=[\"id\", \"age\", \"salaire\"])\n",
    "    ensemble_data_frames['Simulation_'+str(j)] = data_frames"
   ],
   "metadata": {
    "collapsed": false
   }
  },
  {
   "cell_type": "code",
   "execution_count": 5,
   "outputs": [],
   "source": [
    "def cumuleFrequenceIntervale(frequences):\n",
    "    cumules = []\n",
    "    index = 0\n",
    "    for i in frequences:\n",
    "        cumules.append([index, i+index])\n",
    "        index += i\n",
    "    return cumules"
   ],
   "metadata": {
    "collapsed": false
   }
  },
  {
   "cell_type": "code",
   "execution_count": 6,
   "outputs": [],
   "source": [
    "def indexFromTable(cumules, aleaNumber):\n",
    "    i = 0\n",
    "    for intervale in cumules :\n",
    "        if intervale[1] > aleaNumber*100 :\n",
    "            return i\n",
    "        i+=1\n",
    "    return i"
   ],
   "metadata": {
    "collapsed": false
   }
  },
  {
   "cell_type": "code",
   "execution_count": 7,
   "outputs": [],
   "source": [
    "def createEmployeRetraite(simulation, year, IX, IY, IZ):\n",
    "    dfEmploye = ensemble_data_frames[\"Simulation_\"+str(simulation)][\"Employe_20\"+str(year)]\n",
    "    dfRetraite = ensemble_data_frames[\"Simulation_\"+str(simulation)][\"Retraite_20\"+str(year)]\n",
    "    for index in range(11000):\n",
    "        if index >=1:\n",
    "            IX = alea(IX, IY, IZ)[1]\n",
    "            IY = alea(IX, IY, IZ)[2]\n",
    "            IZ = alea(IX, IY, IZ)[3]\n",
    "        salaireIndex = indexFromTable(cumuleFrequenceIntervale(frequenceSalaire), alea(IX, IY, IZ)[0])\n",
    "        ageIndex = indexFromTable(cumuleFrequenceIntervale(frequenceAge), alea(IX, IY, IZ)[0])\n",
    "        i = index+1\n",
    "        s = random.randrange(salaire[salaireIndex][1], salaire[salaireIndex][0], 100)\n",
    "        if index <10000:\n",
    "            a = random.randrange(age[ageIndex][1], age[ageIndex][0], 1)\n",
    "            new_row = pd.DataFrame( {\"id\" : [i], \"age\": [a], \"salaire\": [s]})\n",
    "            dfEmploye = pd.concat([dfEmploye, new_row], ignore_index=True)\n",
    "        else:\n",
    "            a = random.randint(66, 85)\n",
    "            new_row = pd.DataFrame( {\"id\" : [i], \"age\": [a], \"salaire\": [s]})\n",
    "            dfRetraite = pd.concat([dfRetraite, new_row], ignore_index=True)\n",
    "    ensemble_data_frames[\"Simulation_\"+str(simulation)][\"Employe_20\"+str(year)] = dfEmploye\n",
    "    ensemble_data_frames[\"Simulation_\"+str(simulation)][\"Retraite_20\"+str(year)] = dfRetraite"
   ],
   "metadata": {
    "collapsed": false
   }
  },
  {
   "cell_type": "code",
   "execution_count": 8,
   "outputs": [],
   "source": [
    "def pensionnaireFive(dfRetrait) :\n",
    "    pensionnaire65 = pd.DataFrame(columns=[\"id\", \"age\", \"salaire\", \"pension\"])\n",
    "    for index, row in dfRetrait.iterrows():\n",
    "        a = row[\"age\"]\n",
    "        s = row[\"salaire\"]\n",
    "        p = ((44*2)/100)*row[\"salaire\"]\n",
    "        new_row = pd.DataFrame( {\"id\" : row[\"id\"], \"age\": [a], \"salaire\": [s], \"pension\": [p]})\n",
    "        pensionnaire65 = pd.concat([pensionnaire65, new_row], ignore_index=True)\n",
    "    return pensionnaire65"
   ],
   "metadata": {
    "collapsed": false
   }
  },
  {
   "cell_type": "code",
   "execution_count": 10,
   "outputs": [],
   "source": [
    "def pensionnaireTwo(dfEmploye, dfRetraite):\n",
    "    pensionnaire62 = pd.DataFrame(columns=[\"id\", \"age\", \"salaire\", \"pension\"])\n",
    "    pensionnaire65 = pensionnaireFive(dfRetraite)\n",
    "    pensionnaire62 = pd.concat([pensionnaire62, pensionnaire65], ignore_index=True)\n",
    "    for index, row in dfEmploye.iterrows():\n",
    "        if row[\"age\"]>62:\n",
    "            a = row[\"age\"]\n",
    "            s = row[\"salaire\"]\n",
    "            p = ((44*2)/100)*row[\"salaire\"]\n",
    "            new_row = pd.DataFrame( {\"id\" : row[\"id\"], \"age\": [a], \"salaire\": [s], \"pension\": [p]})\n",
    "            pensionnaire62 = pd.concat([pensionnaire62, new_row], ignore_index=True)\n",
    "    return pensionnaire62"
   ],
   "metadata": {
    "collapsed": false
   }
  },
  {
   "cell_type": "code",
   "execution_count": 12,
   "outputs": [],
   "source": [
    "def newRecrutement(IX, IY, IZ):\n",
    "    Nouveux_Recrus = pd.DataFrame(columns=[\"id\", \"age\", \"salaire\"])\n",
    "    a=alea(IX, IY, IZ)[0]\n",
    "    n = ((400 - 250) * a) + 250\n",
    "    for index in range(int(n)):\n",
    "        if index >= 0 :\n",
    "            IX = alea(IX, IY, IZ)[1]\n",
    "            IY = alea(IX, IY, IZ)[2]\n",
    "            IZ = alea(IX, IY, IZ)[3]\n",
    "        salaireIndex = indexFromTable(cumuleFrequenceIntervale(frequenceSalaireEmbauche), alea(IX, IY, IZ)[0])\n",
    "        ageIndex = indexFromTable(cumuleFrequenceIntervale(frequenceAgeEmbauche), alea(IX, IY, IZ)[0])\n",
    "        i = index+1\n",
    "        s = random.randrange(salaire_embauche[salaireIndex][1], salaire_embauche[salaireIndex][0], 100)\n",
    "        a = random.randrange(ageEmbauche[ageIndex][0], ageEmbauche[ageIndex][1], 1)\n",
    "        new_row = pd.DataFrame( {\"id\" : [i], \"age\": [a], \"salaire\": [s]})\n",
    "        Nouveux_Recrus = pd.concat([Nouveux_Recrus, new_row], ignore_index=True)\n",
    "    return Nouveux_Recrus"
   ],
   "metadata": {
    "collapsed": false
   }
  },
  {
   "cell_type": "code",
   "execution_count": 13,
   "outputs": [],
   "source": [
    "def calculEmployeRetraite(simulation, i, IX, IY, IZ):\n",
    "    EmployeBeta = ensemble_data_frames[\"Simulation_\"+str(simulation)]['Employe_20'+str(i-1)]\n",
    "    RetraiteBeta = ensemble_data_frames[\"Simulation_\"+str(simulation)]['Retraite_20'+str(i-1)]\n",
    "    EmployeAlpha = ensemble_data_frames[\"Simulation_\"+str(simulation)]['Employe_20'+str(i)]\n",
    "    RetraiteAlpha = ensemble_data_frames[\"Simulation_\"+str(simulation)]['Retraite_20'+str(i)]\n",
    "    for index, row in EmployeBeta.iterrows():\n",
    "        if row[\"age\"] < 65:\n",
    "            if i == 25 or i == 30:\n",
    "                s = row[\"salaire\"]*1.05\n",
    "            else :\n",
    "                s = row[\"salaire\"]\n",
    "            a = row[\"age\"]+1\n",
    "            new_row = pd.DataFrame({\"id\" : row[\"id\"], \"age\": [a], \"salaire\": [s]})\n",
    "            EmployeAlpha = pd.concat([EmployeAlpha, new_row], ignore_index=True)\n",
    "        else :\n",
    "            if i == 25 or i == 30:\n",
    "                s = row[\"salaire\"]*1.05\n",
    "            else :\n",
    "                s = row[\"salaire\"]\n",
    "            a = row[\"age\"]+1\n",
    "            new_row = pd.DataFrame({\"id\" : row[\"id\"], \"age\": [a], \"salaire\": [s]})\n",
    "            RetraiteAlpha = pd.concat([RetraiteAlpha, new_row], ignore_index=True)\n",
    "    for index, row in RetraiteBeta.iterrows():\n",
    "        new_row = pd.DataFrame({\"id\" : [row[\"id\"]], \"age\": [row[\"age\"]+1], \"salaire\": [row[\"salaire\"]]})\n",
    "        RetraiteAlpha = pd.concat([RetraiteAlpha, new_row], ignore_index=True)\n",
    "    newRecru = newRecrutement(IX, IY, IZ)\n",
    "    for index, row in newRecru.iterrows():\n",
    "        new_row = pd.DataFrame({\"id\" : [row[\"id\"]], \"age\": [row[\"age\"]], \"salaire\": [row[\"salaire\"]]})\n",
    "        EmployeAlpha = pd.concat([EmployeAlpha, new_row], ignore_index=True)\n",
    "    ensemble_data_frames[\"Simulation_\"+str(simulation)]['Employe_20'+str(i)] = EmployeAlpha\n",
    "    ensemble_data_frames[\"Simulation_\"+str(simulation)]['Retraite_20'+str(i)] = RetraiteAlpha\n",
    "    ensemble_data_frames[\"Simulation_\"+str(simulation)]['newRecru_20'+str(i)] = newRecru"
   ],
   "metadata": {
    "collapsed": false
   }
  },
  {
   "cell_type": "code",
   "execution_count": 14,
   "outputs": [],
   "source": [
    "IX = 100\n",
    "IY = 100\n",
    "IZ = 100\n",
    "createEmployeRetraite(1, 23, IX, IY, IZ)\n",
    "for year in years:\n",
    "    calculEmployeRetraite(1, year, IX, IY, IZ)"
   ],
   "metadata": {
    "collapsed": false
   }
  },
  {
   "cell_type": "code",
   "execution_count": 18,
   "outputs": [
    {
     "data": {
      "text/plain": "        id age salaire\n0        1  32    6500\n1        2  46    8500\n2        3  54   25900\n3        4  26    3700\n4        5  30    4300\n...    ...  ..     ...\n10348  349  31    7400\n10349  350  31    4000\n10350  351  33    4100\n10351  352  23   16500\n10352  353  23    9700\n\n[10353 rows x 3 columns]",
      "text/html": "<div>\n<style scoped>\n    .dataframe tbody tr th:only-of-type {\n        vertical-align: middle;\n    }\n\n    .dataframe tbody tr th {\n        vertical-align: top;\n    }\n\n    .dataframe thead th {\n        text-align: right;\n    }\n</style>\n<table border=\"1\" class=\"dataframe\">\n  <thead>\n    <tr style=\"text-align: right;\">\n      <th></th>\n      <th>id</th>\n      <th>age</th>\n      <th>salaire</th>\n    </tr>\n  </thead>\n  <tbody>\n    <tr>\n      <th>0</th>\n      <td>1</td>\n      <td>32</td>\n      <td>6500</td>\n    </tr>\n    <tr>\n      <th>1</th>\n      <td>2</td>\n      <td>46</td>\n      <td>8500</td>\n    </tr>\n    <tr>\n      <th>2</th>\n      <td>3</td>\n      <td>54</td>\n      <td>25900</td>\n    </tr>\n    <tr>\n      <th>3</th>\n      <td>4</td>\n      <td>26</td>\n      <td>3700</td>\n    </tr>\n    <tr>\n      <th>4</th>\n      <td>5</td>\n      <td>30</td>\n      <td>4300</td>\n    </tr>\n    <tr>\n      <th>...</th>\n      <td>...</td>\n      <td>...</td>\n      <td>...</td>\n    </tr>\n    <tr>\n      <th>10348</th>\n      <td>349</td>\n      <td>31</td>\n      <td>7400</td>\n    </tr>\n    <tr>\n      <th>10349</th>\n      <td>350</td>\n      <td>31</td>\n      <td>4000</td>\n    </tr>\n    <tr>\n      <th>10350</th>\n      <td>351</td>\n      <td>33</td>\n      <td>4100</td>\n    </tr>\n    <tr>\n      <th>10351</th>\n      <td>352</td>\n      <td>23</td>\n      <td>16500</td>\n    </tr>\n    <tr>\n      <th>10352</th>\n      <td>353</td>\n      <td>23</td>\n      <td>9700</td>\n    </tr>\n  </tbody>\n</table>\n<p>10353 rows × 3 columns</p>\n</div>"
     },
     "execution_count": 18,
     "metadata": {},
     "output_type": "execute_result"
    }
   ],
   "source": [
    "simulation = 1\n",
    "year = 24\n",
    "ensemble_data_frames[\"Simulation_\"+str(simulation)]['Employe_20'+str(year)]"
   ],
   "metadata": {
    "collapsed": false
   }
  },
  {
   "cell_type": "code",
   "execution_count": 19,
   "outputs": [
    {
     "data": {
      "text/plain": "        id age salaire\n0    10001  70    5100\n1    10002  69    3700\n2    10003  81   27400\n3    10004  76   16900\n4    10005  72    6200\n..     ...  ..     ...\n995  10996  71    9900\n996  10997  67   36900\n997  10998  71    3200\n998  10999  78    9600\n999  11000  81   29400\n\n[1000 rows x 3 columns]",
      "text/html": "<div>\n<style scoped>\n    .dataframe tbody tr th:only-of-type {\n        vertical-align: middle;\n    }\n\n    .dataframe tbody tr th {\n        vertical-align: top;\n    }\n\n    .dataframe thead th {\n        text-align: right;\n    }\n</style>\n<table border=\"1\" class=\"dataframe\">\n  <thead>\n    <tr style=\"text-align: right;\">\n      <th></th>\n      <th>id</th>\n      <th>age</th>\n      <th>salaire</th>\n    </tr>\n  </thead>\n  <tbody>\n    <tr>\n      <th>0</th>\n      <td>10001</td>\n      <td>70</td>\n      <td>5100</td>\n    </tr>\n    <tr>\n      <th>1</th>\n      <td>10002</td>\n      <td>69</td>\n      <td>3700</td>\n    </tr>\n    <tr>\n      <th>2</th>\n      <td>10003</td>\n      <td>81</td>\n      <td>27400</td>\n    </tr>\n    <tr>\n      <th>3</th>\n      <td>10004</td>\n      <td>76</td>\n      <td>16900</td>\n    </tr>\n    <tr>\n      <th>4</th>\n      <td>10005</td>\n      <td>72</td>\n      <td>6200</td>\n    </tr>\n    <tr>\n      <th>...</th>\n      <td>...</td>\n      <td>...</td>\n      <td>...</td>\n    </tr>\n    <tr>\n      <th>995</th>\n      <td>10996</td>\n      <td>71</td>\n      <td>9900</td>\n    </tr>\n    <tr>\n      <th>996</th>\n      <td>10997</td>\n      <td>67</td>\n      <td>36900</td>\n    </tr>\n    <tr>\n      <th>997</th>\n      <td>10998</td>\n      <td>71</td>\n      <td>3200</td>\n    </tr>\n    <tr>\n      <th>998</th>\n      <td>10999</td>\n      <td>78</td>\n      <td>9600</td>\n    </tr>\n    <tr>\n      <th>999</th>\n      <td>11000</td>\n      <td>81</td>\n      <td>29400</td>\n    </tr>\n  </tbody>\n</table>\n<p>1000 rows × 3 columns</p>\n</div>"
     },
     "execution_count": 19,
     "metadata": {},
     "output_type": "execute_result"
    }
   ],
   "source": [
    "ensemble_data_frames[\"Simulation_\"+str(simulation)]['Retraite_20'+str(year)]"
   ],
   "metadata": {
    "collapsed": false
   }
  },
  {
   "cell_type": "code",
   "execution_count": 20,
   "outputs": [
    {
     "data": {
      "text/plain": "      id age salaire\n0      1  29    6600\n1      2  23   14800\n2      3  37    3600\n3      4  34    3800\n4      5  34    3800\n..   ...  ..     ...\n348  349  31    7400\n349  350  31    4000\n350  351  33    4100\n351  352  23   16500\n352  353  23    9700\n\n[353 rows x 3 columns]",
      "text/html": "<div>\n<style scoped>\n    .dataframe tbody tr th:only-of-type {\n        vertical-align: middle;\n    }\n\n    .dataframe tbody tr th {\n        vertical-align: top;\n    }\n\n    .dataframe thead th {\n        text-align: right;\n    }\n</style>\n<table border=\"1\" class=\"dataframe\">\n  <thead>\n    <tr style=\"text-align: right;\">\n      <th></th>\n      <th>id</th>\n      <th>age</th>\n      <th>salaire</th>\n    </tr>\n  </thead>\n  <tbody>\n    <tr>\n      <th>0</th>\n      <td>1</td>\n      <td>29</td>\n      <td>6600</td>\n    </tr>\n    <tr>\n      <th>1</th>\n      <td>2</td>\n      <td>23</td>\n      <td>14800</td>\n    </tr>\n    <tr>\n      <th>2</th>\n      <td>3</td>\n      <td>37</td>\n      <td>3600</td>\n    </tr>\n    <tr>\n      <th>3</th>\n      <td>4</td>\n      <td>34</td>\n      <td>3800</td>\n    </tr>\n    <tr>\n      <th>4</th>\n      <td>5</td>\n      <td>34</td>\n      <td>3800</td>\n    </tr>\n    <tr>\n      <th>...</th>\n      <td>...</td>\n      <td>...</td>\n      <td>...</td>\n    </tr>\n    <tr>\n      <th>348</th>\n      <td>349</td>\n      <td>31</td>\n      <td>7400</td>\n    </tr>\n    <tr>\n      <th>349</th>\n      <td>350</td>\n      <td>31</td>\n      <td>4000</td>\n    </tr>\n    <tr>\n      <th>350</th>\n      <td>351</td>\n      <td>33</td>\n      <td>4100</td>\n    </tr>\n    <tr>\n      <th>351</th>\n      <td>352</td>\n      <td>23</td>\n      <td>16500</td>\n    </tr>\n    <tr>\n      <th>352</th>\n      <td>353</td>\n      <td>23</td>\n      <td>9700</td>\n    </tr>\n  </tbody>\n</table>\n<p>353 rows × 3 columns</p>\n</div>"
     },
     "execution_count": 20,
     "metadata": {},
     "output_type": "execute_result"
    }
   ],
   "source": [
    "ensemble_data_frames[\"Simulation_\"+str(simulation)]['newRecru_20'+str(year)]"
   ],
   "metadata": {
    "collapsed": false
   }
  },
  {
   "cell_type": "code",
   "execution_count": null,
   "outputs": [],
   "source": [],
   "metadata": {
    "collapsed": false
   }
  }
 ],
 "metadata": {
  "kernelspec": {
   "display_name": "Python 3",
   "language": "python",
   "name": "python3"
  },
  "language_info": {
   "codemirror_mode": {
    "name": "ipython",
    "version": 2
   },
   "file_extension": ".py",
   "mimetype": "text/x-python",
   "name": "python",
   "nbconvert_exporter": "python",
   "pygments_lexer": "ipython2",
   "version": "2.7.6"
  }
 },
 "nbformat": 4,
 "nbformat_minor": 0
}
