{
 "cells": [
  {
   "cell_type": "code",
   "execution_count": 1,
   "outputs": [],
   "source": [
    "import pandas as pd\n",
    "import random"
   ],
   "metadata": {
    "collapsed": false
   }
  },
  {
   "cell_type": "code",
   "execution_count": 2,
   "metadata": {
    "collapsed": true
   },
   "outputs": [],
   "source": [
    "# Veut dire que c’est un passage par adresse des 3 variables IX, IY et IZ.\n",
    "# 3 variables entières qu’il faut initialiser avant le 1er appel de la fonction.\n",
    "# Veut dire que la fonction est typée, elle retourne un nombre réel.\n",
    "def alea(IX, IY, IZ):\n",
    "    # Déclaration d’une variable inter de type réel\n",
    "    inter = 0.0\n",
    "    # A chaque exécution de la fonction, les valeurs des 3 variables sont recalculées, d’où un passage par adresse.\n",
    "    # % : division entière\n",
    "    # // : reste de la division entière\n",
    "    IX = 171 * (IX % 177) - 2 * (IX // 177)\n",
    "    IY = 172 * (IY % 176) - 35 * (IY // 176)\n",
    "    IZ = 170 * (IZ % 178) - 63 * (IZ // 178)\n",
    "    # S’il y a un dépassement de capacité sur une variable, on ajoute un nombre très grand, pour la machine 16 bits,\n",
    "    # pour ramener à une valeur positive. Ce qui marche sur une machine 16 bits marche sur une 32 ou 64 bits.\n",
    "    if IX < 0:\n",
    "        IX = IX + 30269\n",
    "    if IY < 0:\n",
    "        IY = IY + 30307\n",
    "    if IZ < 0:\n",
    "        IZ = IZ + 30323\n",
    "    inter = ((IX / 30269) + (IY / 30307) + (IZ / 30323))\n",
    "    return [round(inter - int(inter), 4),IX, IY, IZ]"
   ]
  },
  {
   "cell_type": "code",
   "execution_count": 3,
   "outputs": [],
   "source": [
    "salaire = [(40000, 30000), (30000, 20000), (20000, 15000), (15000, 10000), (10000, 7500), (7500, 5000), (5000, 3000)]\n",
    "frequenceSalaire = [5, 10, 10, 15, 20, 20, 20]\n",
    "age = [(62, 53), (52, 41), (40, 31), (30, 21)]\n",
    "frequenceAge = [30, 30, 20, 20]\n",
    "ageEmbauche = [(21, 22), (23, 24), (25, 28), (29, 32), (33, 35), (36, 40)]\n",
    "frequenceAgeEmbauche = [5, 20, 25, 25, 20, 5]\n",
    "salaire_embauche=[(32000,24000),(24000,16000),(16000,12000),(12000,8000),(8000,6000),(6000,4000),(4000,3000)]\n",
    "frequenceSalaireEmbauche=[5,5,10,20,20,20,20]\n",
    "years = [24, 25, 26, 27, 28, 29, 30, 31, 32, 33]\n",
    "totEmp=10000\n",
    "totRet=1000"
   ],
   "metadata": {
    "collapsed": false
   }
  },
  {
   "cell_type": "code",
   "execution_count": 4,
   "outputs": [],
   "source": [
    "def cumuleFrequenceIntervale(frequences):\n",
    "    cumules = []\n",
    "    index = 0\n",
    "    for i in frequences:\n",
    "        cumules.append([index, i+index])\n",
    "        index += i\n",
    "    return cumules"
   ],
   "metadata": {
    "collapsed": false
   }
  },
  {
   "cell_type": "code",
   "execution_count": 5,
   "outputs": [],
   "source": [
    "def indexFromTable(cumules, aleaNumber):\n",
    "    i = 0\n",
    "    for intervale in cumules :\n",
    "        if intervale[1] > aleaNumber*100 :\n",
    "            return i\n",
    "        i+=1\n",
    "    return i"
   ],
   "metadata": {
    "collapsed": false
   }
  },
  {
   "cell_type": "code",
   "execution_count": 6,
   "outputs": [],
   "source": [
    "Employe_2023 = pd.DataFrame(columns=[\"id\", \"age\", \"salaire\"])\n",
    "Retraite_2023 = pd.DataFrame(columns=[\"id\", \"age\", \"salaire\"])"
   ],
   "metadata": {
    "collapsed": false
   }
  },
  {
   "cell_type": "code",
   "execution_count": 7,
   "outputs": [],
   "source": [
    "for index in range(11000):\n",
    "    if index == 0 :\n",
    "        IX = 100\n",
    "        IY = 100\n",
    "        IZ = 100\n",
    "    else:\n",
    "        IX = alea(IX, IY, IZ)[1]\n",
    "        IY = alea(IX, IY, IZ)[2]\n",
    "        IZ = alea(IX, IY, IZ)[3]\n",
    "    salaireIndex = indexFromTable(cumuleFrequenceIntervale(frequenceSalaire), alea(IX, IY, IZ)[0])\n",
    "    ageIndex = indexFromTable(cumuleFrequenceIntervale(frequenceAge), alea(IX, IY, IZ)[0])\n",
    "    i = index+1\n",
    "    s = random.randrange(salaire[salaireIndex][1], salaire[salaireIndex][0], 100)\n",
    "    if index <10000:\n",
    "        a = random.randrange(age[ageIndex][1], age[ageIndex][0], 1)\n",
    "        new_row = pd.DataFrame( {\"id\" : [i], \"age\": [a], \"salaire\": [s]})\n",
    "        Employe_2023 = pd.concat([Employe_2023, new_row], ignore_index=True)\n",
    "    else:\n",
    "        a = random.randint(66, 85)\n",
    "        new_row = pd.DataFrame( {\"id\" : [i], \"age\": [a], \"salaire\": [s]})\n",
    "        Retraite_2023 = pd.concat([Retraite_2023, new_row], ignore_index=True)"
   ],
   "metadata": {
    "collapsed": false
   }
  },
  {
   "cell_type": "code",
   "execution_count": 8,
   "outputs": [
    {
     "data": {
      "text/plain": "  id age salaire\n0  1  38    5600\n1  2  48    7500\n2  3  57   29500\n3  4  21    4300\n4  5  26    4900",
      "text/html": "<div>\n<style scoped>\n    .dataframe tbody tr th:only-of-type {\n        vertical-align: middle;\n    }\n\n    .dataframe tbody tr th {\n        vertical-align: top;\n    }\n\n    .dataframe thead th {\n        text-align: right;\n    }\n</style>\n<table border=\"1\" class=\"dataframe\">\n  <thead>\n    <tr style=\"text-align: right;\">\n      <th></th>\n      <th>id</th>\n      <th>age</th>\n      <th>salaire</th>\n    </tr>\n  </thead>\n  <tbody>\n    <tr>\n      <th>0</th>\n      <td>1</td>\n      <td>38</td>\n      <td>5600</td>\n    </tr>\n    <tr>\n      <th>1</th>\n      <td>2</td>\n      <td>48</td>\n      <td>7500</td>\n    </tr>\n    <tr>\n      <th>2</th>\n      <td>3</td>\n      <td>57</td>\n      <td>29500</td>\n    </tr>\n    <tr>\n      <th>3</th>\n      <td>4</td>\n      <td>21</td>\n      <td>4300</td>\n    </tr>\n    <tr>\n      <th>4</th>\n      <td>5</td>\n      <td>26</td>\n      <td>4900</td>\n    </tr>\n  </tbody>\n</table>\n</div>"
     },
     "execution_count": 8,
     "metadata": {},
     "output_type": "execute_result"
    }
   ],
   "source": [
    "Employe_2023.head()"
   ],
   "metadata": {
    "collapsed": false
   }
  },
  {
   "cell_type": "code",
   "execution_count": 9,
   "outputs": [
    {
     "data": {
      "text/plain": "      id age salaire\n0  10001  73    5900\n1  10002  84    3600\n2  10003  79   20100\n3  10004  78   18300\n4  10005  82    5900",
      "text/html": "<div>\n<style scoped>\n    .dataframe tbody tr th:only-of-type {\n        vertical-align: middle;\n    }\n\n    .dataframe tbody tr th {\n        vertical-align: top;\n    }\n\n    .dataframe thead th {\n        text-align: right;\n    }\n</style>\n<table border=\"1\" class=\"dataframe\">\n  <thead>\n    <tr style=\"text-align: right;\">\n      <th></th>\n      <th>id</th>\n      <th>age</th>\n      <th>salaire</th>\n    </tr>\n  </thead>\n  <tbody>\n    <tr>\n      <th>0</th>\n      <td>10001</td>\n      <td>73</td>\n      <td>5900</td>\n    </tr>\n    <tr>\n      <th>1</th>\n      <td>10002</td>\n      <td>84</td>\n      <td>3600</td>\n    </tr>\n    <tr>\n      <th>2</th>\n      <td>10003</td>\n      <td>79</td>\n      <td>20100</td>\n    </tr>\n    <tr>\n      <th>3</th>\n      <td>10004</td>\n      <td>78</td>\n      <td>18300</td>\n    </tr>\n    <tr>\n      <th>4</th>\n      <td>10005</td>\n      <td>82</td>\n      <td>5900</td>\n    </tr>\n  </tbody>\n</table>\n</div>"
     },
     "execution_count": 9,
     "metadata": {},
     "output_type": "execute_result"
    }
   ],
   "source": [
    "Retraite_2023.head()"
   ],
   "metadata": {
    "collapsed": false
   }
  },
  {
   "cell_type": "code",
   "execution_count": 10,
   "outputs": [],
   "source": [
    "def pensionnaireFive(dfRetrait) :\n",
    "    pensionnaire65 = pd.DataFrame(columns=[\"id\", \"age\", \"salaire\", \"pension\"])\n",
    "    for index, row in dfRetrait.iterrows():\n",
    "        a = row[\"age\"]\n",
    "        s = row[\"salaire\"]\n",
    "        p = ((44*2)/100)*row[\"salaire\"]\n",
    "        new_row = pd.DataFrame( {\"id\" : row[\"id\"], \"age\": [a], \"salaire\": [s], \"pension\": [p]})\n",
    "        pensionnaire65 = pd.concat([pensionnaire65, new_row], ignore_index=True)\n",
    "    return pensionnaire65"
   ],
   "metadata": {
    "collapsed": false
   }
  },
  {
   "cell_type": "code",
   "execution_count": 11,
   "outputs": [
    {
     "data": {
      "text/plain": "      id age salaire  pension\n0  10001  73    5900   5192.0\n1  10002  84    3600   3168.0\n2  10003  79   20100  17688.0\n3  10004  78   18300  16104.0\n4  10005  82    5900   5192.0",
      "text/html": "<div>\n<style scoped>\n    .dataframe tbody tr th:only-of-type {\n        vertical-align: middle;\n    }\n\n    .dataframe tbody tr th {\n        vertical-align: top;\n    }\n\n    .dataframe thead th {\n        text-align: right;\n    }\n</style>\n<table border=\"1\" class=\"dataframe\">\n  <thead>\n    <tr style=\"text-align: right;\">\n      <th></th>\n      <th>id</th>\n      <th>age</th>\n      <th>salaire</th>\n      <th>pension</th>\n    </tr>\n  </thead>\n  <tbody>\n    <tr>\n      <th>0</th>\n      <td>10001</td>\n      <td>73</td>\n      <td>5900</td>\n      <td>5192.0</td>\n    </tr>\n    <tr>\n      <th>1</th>\n      <td>10002</td>\n      <td>84</td>\n      <td>3600</td>\n      <td>3168.0</td>\n    </tr>\n    <tr>\n      <th>2</th>\n      <td>10003</td>\n      <td>79</td>\n      <td>20100</td>\n      <td>17688.0</td>\n    </tr>\n    <tr>\n      <th>3</th>\n      <td>10004</td>\n      <td>78</td>\n      <td>18300</td>\n      <td>16104.0</td>\n    </tr>\n    <tr>\n      <th>4</th>\n      <td>10005</td>\n      <td>82</td>\n      <td>5900</td>\n      <td>5192.0</td>\n    </tr>\n  </tbody>\n</table>\n</div>"
     },
     "execution_count": 11,
     "metadata": {},
     "output_type": "execute_result"
    }
   ],
   "source": [
    "pensionnaireFive(Retraite_2023).head()"
   ],
   "metadata": {
    "collapsed": false
   }
  },
  {
   "cell_type": "code",
   "execution_count": 32,
   "outputs": [],
   "source": [
    "def pensionnaireTwo(dfEmploye, dfRetraite):\n",
    "    pensionnaire62 = pd.DataFrame(columns=[\"id\", \"age\", \"salaire\", \"pension\"])\n",
    "    pensionnaire65 = pensionnaireFive(dfRetraite)\n",
    "    pensionnaire62 = pd.concat([pensionnaire62, pensionnaire65], ignore_index=True)\n",
    "    for index, row in dfEmploye.iterrows():\n",
    "        if row[\"age\"]>62:\n",
    "            a = row[\"age\"]\n",
    "            s = row[\"salaire\"]\n",
    "            p = ((44*2)/100)*row[\"salaire\"]\n",
    "            new_row = pd.DataFrame( {\"id\" : row[\"id\"], \"age\": [a], \"salaire\": [s], \"pension\": [p]})\n",
    "            pensionnaire62 = pd.concat([pensionnaire62, new_row], ignore_index=True)\n",
    "    return pensionnaire62"
   ],
   "metadata": {
    "collapsed": false
   }
  },
  {
   "cell_type": "code",
   "execution_count": 13,
   "outputs": [
    {
     "data": {
      "text/plain": "        id age salaire  pension\n995  10996  75    9900   8712.0\n996  10997  76   37100  32648.0\n997  10998  71    4500   3960.0\n998  10999  68    8500   7480.0\n999  11000  81   24600  21648.0",
      "text/html": "<div>\n<style scoped>\n    .dataframe tbody tr th:only-of-type {\n        vertical-align: middle;\n    }\n\n    .dataframe tbody tr th {\n        vertical-align: top;\n    }\n\n    .dataframe thead th {\n        text-align: right;\n    }\n</style>\n<table border=\"1\" class=\"dataframe\">\n  <thead>\n    <tr style=\"text-align: right;\">\n      <th></th>\n      <th>id</th>\n      <th>age</th>\n      <th>salaire</th>\n      <th>pension</th>\n    </tr>\n  </thead>\n  <tbody>\n    <tr>\n      <th>995</th>\n      <td>10996</td>\n      <td>75</td>\n      <td>9900</td>\n      <td>8712.0</td>\n    </tr>\n    <tr>\n      <th>996</th>\n      <td>10997</td>\n      <td>76</td>\n      <td>37100</td>\n      <td>32648.0</td>\n    </tr>\n    <tr>\n      <th>997</th>\n      <td>10998</td>\n      <td>71</td>\n      <td>4500</td>\n      <td>3960.0</td>\n    </tr>\n    <tr>\n      <th>998</th>\n      <td>10999</td>\n      <td>68</td>\n      <td>8500</td>\n      <td>7480.0</td>\n    </tr>\n    <tr>\n      <th>999</th>\n      <td>11000</td>\n      <td>81</td>\n      <td>24600</td>\n      <td>21648.0</td>\n    </tr>\n  </tbody>\n</table>\n</div>"
     },
     "execution_count": 13,
     "metadata": {},
     "output_type": "execute_result"
    }
   ],
   "source": [
    "pensionnaireTwo(Employe_2023, Retraite_2023).tail()"
   ],
   "metadata": {
    "collapsed": false
   }
  },
  {
   "cell_type": "code",
   "execution_count": 14,
   "outputs": [],
   "source": [
    "def newRecrutement():\n",
    "    Nouveux_Recrus = pd.DataFrame(columns=[\"id\", \"age\", \"salaire\"])\n",
    "    IX = 100\n",
    "    IY = 100\n",
    "    IZ = 100\n",
    "    a=alea(IX, IY, IZ)[0]\n",
    "    n = ((400 - 250) * a) + 250\n",
    "    for index in range(int(n)):\n",
    "        if index == 0 :\n",
    "            IX = 100\n",
    "            IY = 100\n",
    "            IZ = 100\n",
    "        else:\n",
    "            IX = alea(IX, IY, IZ)[1]\n",
    "            IY = alea(IX, IY, IZ)[2]\n",
    "            IZ = alea(IX, IY, IZ)[3]\n",
    "        salaireIndex = indexFromTable(cumuleFrequenceIntervale(frequenceSalaireEmbauche), alea(IX, IY, IZ)[0])\n",
    "        ageIndex = indexFromTable(cumuleFrequenceIntervale(frequenceAgeEmbauche), alea(IX, IY, IZ)[0])\n",
    "        i = index+1\n",
    "        s = random.randrange(salaire_embauche[salaireIndex][1], salaire_embauche[salaireIndex][0], 100)\n",
    "        a = random.randrange(ageEmbauche[ageIndex][0], ageEmbauche[ageIndex][1], 1)\n",
    "        new_row = pd.DataFrame( {\"id\" : [i], \"age\": [a], \"salaire\": [s]})\n",
    "        Nouveux_Recrus = pd.concat([Nouveux_Recrus, new_row], ignore_index=True)\n",
    "    return Nouveux_Recrus"
   ],
   "metadata": {
    "collapsed": false
   }
  },
  {
   "cell_type": "code",
   "execution_count": 15,
   "outputs": [],
   "source": [
    "data_frames = {}\n",
    "data_frames['Employe_2023'] = Employe_2023\n",
    "data_frames['Retraite_2023'] = Retraite_2023\n",
    "for i in range(24, 34) :\n",
    "    data_frames['Employe_20'+str(i)] = pd.DataFrame(columns=[\"id\", \"age\", \"salaire\"])\n",
    "    data_frames['Retraite_20'+str(i)] = pd.DataFrame(columns=[\"id\", \"age\", \"salaire\"])"
   ],
   "metadata": {
    "collapsed": false
   }
  },
  {
   "cell_type": "code",
   "execution_count": 16,
   "outputs": [],
   "source": [
    "def CalculEmployeRetraite(i):\n",
    "    EmployeBeta = data_frames['Employe_20'+str(i-1)]\n",
    "    RetraiteBeta = data_frames['Retraite_20'+str(i-1)]\n",
    "    EmployeAlpha = data_frames['Employe_20'+str(i)]\n",
    "    RetraiteAlpha = data_frames['Retraite_20'+str(i)]\n",
    "    for index, row in EmployeBeta.iterrows():\n",
    "        if row[\"age\"] < 65:\n",
    "            if i == 25 or i == 30:\n",
    "                s = row[\"salaire\"]*1.05\n",
    "            else :\n",
    "                s = row[\"salaire\"]\n",
    "            a = row[\"age\"]+1\n",
    "            new_row = pd.DataFrame({\"id\" : row[\"id\"], \"age\": [a], \"salaire\": [s]})\n",
    "            EmployeAlpha = pd.concat([EmployeAlpha, new_row], ignore_index=True)\n",
    "        else :\n",
    "            if i == 25 or i == 30:\n",
    "                s = row[\"salaire\"]*1.05\n",
    "            else :\n",
    "                s = row[\"salaire\"]\n",
    "            a = row[\"age\"]+1\n",
    "            new_row = pd.DataFrame({\"id\" : row[\"id\"], \"age\": [a], \"salaire\": [s]})\n",
    "            RetraiteAlpha = pd.concat([RetraiteAlpha, new_row], ignore_index=True)\n",
    "    for index, row in RetraiteBeta.iterrows():\n",
    "        new_row = pd.DataFrame({\"id\" : [row[\"id\"]], \"age\": [row[\"age\"]+1], \"salaire\": [row[\"salaire\"]]})\n",
    "        RetraiteAlpha = pd.concat([RetraiteAlpha, new_row], ignore_index=True)\n",
    "    newRecru = newRecrutement()\n",
    "    for index, row in newRecru.iterrows():\n",
    "        new_row = pd.DataFrame({\"id\" : [row[\"id\"]], \"age\": [row[\"age\"]], \"salaire\": [row[\"salaire\"]]})\n",
    "        EmployeAlpha = pd.concat([EmployeAlpha, new_row], ignore_index=True)\n",
    "    data_frames['Employe_20'+str(i)] = EmployeAlpha\n",
    "    data_frames['Retraite_20'+str(i)] = RetraiteAlpha"
   ],
   "metadata": {
    "collapsed": false
   }
  },
  {
   "cell_type": "code",
   "execution_count": 17,
   "outputs": [],
   "source": [
    "for year in years :\n",
    "    CalculEmployeRetraite(year)"
   ],
   "metadata": {
    "collapsed": false
   }
  },
  {
   "cell_type": "code",
   "execution_count": 19,
   "outputs": [
    {
     "data": {
      "text/plain": "         id age  salaire\n0        33  66  13450.5\n1        56  66  18301.5\n2        86  66  37044.0\n3       107  66  35059.5\n4       259  66  42997.5\n...     ...  ..      ...\n2972  10996  85   9900.0\n2973  10997  86  37100.0\n2974  10998  81   4500.0\n2975  10999  78   8500.0\n2976  11000  91  24600.0\n\n[2977 rows x 3 columns]",
      "text/html": "<div>\n<style scoped>\n    .dataframe tbody tr th:only-of-type {\n        vertical-align: middle;\n    }\n\n    .dataframe tbody tr th {\n        vertical-align: top;\n    }\n\n    .dataframe thead th {\n        text-align: right;\n    }\n</style>\n<table border=\"1\" class=\"dataframe\">\n  <thead>\n    <tr style=\"text-align: right;\">\n      <th></th>\n      <th>id</th>\n      <th>age</th>\n      <th>salaire</th>\n    </tr>\n  </thead>\n  <tbody>\n    <tr>\n      <th>0</th>\n      <td>33</td>\n      <td>66</td>\n      <td>13450.5</td>\n    </tr>\n    <tr>\n      <th>1</th>\n      <td>56</td>\n      <td>66</td>\n      <td>18301.5</td>\n    </tr>\n    <tr>\n      <th>2</th>\n      <td>86</td>\n      <td>66</td>\n      <td>37044.0</td>\n    </tr>\n    <tr>\n      <th>3</th>\n      <td>107</td>\n      <td>66</td>\n      <td>35059.5</td>\n    </tr>\n    <tr>\n      <th>4</th>\n      <td>259</td>\n      <td>66</td>\n      <td>42997.5</td>\n    </tr>\n    <tr>\n      <th>...</th>\n      <td>...</td>\n      <td>...</td>\n      <td>...</td>\n    </tr>\n    <tr>\n      <th>2972</th>\n      <td>10996</td>\n      <td>85</td>\n      <td>9900.0</td>\n    </tr>\n    <tr>\n      <th>2973</th>\n      <td>10997</td>\n      <td>86</td>\n      <td>37100.0</td>\n    </tr>\n    <tr>\n      <th>2974</th>\n      <td>10998</td>\n      <td>81</td>\n      <td>4500.0</td>\n    </tr>\n    <tr>\n      <th>2975</th>\n      <td>10999</td>\n      <td>78</td>\n      <td>8500.0</td>\n    </tr>\n    <tr>\n      <th>2976</th>\n      <td>11000</td>\n      <td>91</td>\n      <td>24600.0</td>\n    </tr>\n  </tbody>\n</table>\n<p>2977 rows × 3 columns</p>\n</div>"
     },
     "execution_count": 19,
     "metadata": {},
     "output_type": "execute_result"
    }
   ],
   "source": [
    "data_frames[\"Retraite_2033\"]"
   ],
   "metadata": {
    "collapsed": false
   }
  },
  {
   "cell_type": "code",
   "execution_count": 26,
   "outputs": [
    {
     "data": {
      "text/plain": "        id age salaire  pension\n0    10001  74    5900   5192.0\n1    10002  85    3600   3168.0\n2    10003  80   20100  17688.0\n3    10004  79   18300  16104.0\n4    10005  83    5900   5192.0\n..     ...  ..     ...      ...\n995  10996  76    9900   8712.0\n996  10997  77   37100  32648.0\n997  10998  72    4500   3960.0\n998  10999  69    8500   7480.0\n999  11000  82   24600  21648.0\n\n[1000 rows x 4 columns]",
      "text/html": "<div>\n<style scoped>\n    .dataframe tbody tr th:only-of-type {\n        vertical-align: middle;\n    }\n\n    .dataframe tbody tr th {\n        vertical-align: top;\n    }\n\n    .dataframe thead th {\n        text-align: right;\n    }\n</style>\n<table border=\"1\" class=\"dataframe\">\n  <thead>\n    <tr style=\"text-align: right;\">\n      <th></th>\n      <th>id</th>\n      <th>age</th>\n      <th>salaire</th>\n      <th>pension</th>\n    </tr>\n  </thead>\n  <tbody>\n    <tr>\n      <th>0</th>\n      <td>10001</td>\n      <td>74</td>\n      <td>5900</td>\n      <td>5192.0</td>\n    </tr>\n    <tr>\n      <th>1</th>\n      <td>10002</td>\n      <td>85</td>\n      <td>3600</td>\n      <td>3168.0</td>\n    </tr>\n    <tr>\n      <th>2</th>\n      <td>10003</td>\n      <td>80</td>\n      <td>20100</td>\n      <td>17688.0</td>\n    </tr>\n    <tr>\n      <th>3</th>\n      <td>10004</td>\n      <td>79</td>\n      <td>18300</td>\n      <td>16104.0</td>\n    </tr>\n    <tr>\n      <th>4</th>\n      <td>10005</td>\n      <td>83</td>\n      <td>5900</td>\n      <td>5192.0</td>\n    </tr>\n    <tr>\n      <th>...</th>\n      <td>...</td>\n      <td>...</td>\n      <td>...</td>\n      <td>...</td>\n    </tr>\n    <tr>\n      <th>995</th>\n      <td>10996</td>\n      <td>76</td>\n      <td>9900</td>\n      <td>8712.0</td>\n    </tr>\n    <tr>\n      <th>996</th>\n      <td>10997</td>\n      <td>77</td>\n      <td>37100</td>\n      <td>32648.0</td>\n    </tr>\n    <tr>\n      <th>997</th>\n      <td>10998</td>\n      <td>72</td>\n      <td>4500</td>\n      <td>3960.0</td>\n    </tr>\n    <tr>\n      <th>998</th>\n      <td>10999</td>\n      <td>69</td>\n      <td>8500</td>\n      <td>7480.0</td>\n    </tr>\n    <tr>\n      <th>999</th>\n      <td>11000</td>\n      <td>82</td>\n      <td>24600</td>\n      <td>21648.0</td>\n    </tr>\n  </tbody>\n</table>\n<p>1000 rows × 4 columns</p>\n</div>"
     },
     "execution_count": 26,
     "metadata": {},
     "output_type": "execute_result"
    }
   ],
   "source": [
    "pensionnaireFive(data_frames[\"Retraite_2024\"])"
   ],
   "metadata": {
    "collapsed": false
   }
  },
  {
   "cell_type": "code",
   "execution_count": 34,
   "outputs": [
    {
     "data": {
      "text/plain": "        id age   salaire   pension\n0       33  66  13450.50  11836.44\n1       56  66  18301.50  16105.32\n2       86  66  37044.00  32598.72\n3      107  66  35059.50  30852.36\n4      259  66  42997.50  37837.80\n...    ...  ..       ...       ...\n3979  9924  64  26239.50  23090.76\n3980  9926  63  28334.25  24934.14\n3981  9931  64  39690.00  34927.20\n3982  9949  65  11686.50  10284.12\n3983  9972  64  40682.25  35800.38\n\n[3984 rows x 4 columns]",
      "text/html": "<div>\n<style scoped>\n    .dataframe tbody tr th:only-of-type {\n        vertical-align: middle;\n    }\n\n    .dataframe tbody tr th {\n        vertical-align: top;\n    }\n\n    .dataframe thead th {\n        text-align: right;\n    }\n</style>\n<table border=\"1\" class=\"dataframe\">\n  <thead>\n    <tr style=\"text-align: right;\">\n      <th></th>\n      <th>id</th>\n      <th>age</th>\n      <th>salaire</th>\n      <th>pension</th>\n    </tr>\n  </thead>\n  <tbody>\n    <tr>\n      <th>0</th>\n      <td>33</td>\n      <td>66</td>\n      <td>13450.50</td>\n      <td>11836.44</td>\n    </tr>\n    <tr>\n      <th>1</th>\n      <td>56</td>\n      <td>66</td>\n      <td>18301.50</td>\n      <td>16105.32</td>\n    </tr>\n    <tr>\n      <th>2</th>\n      <td>86</td>\n      <td>66</td>\n      <td>37044.00</td>\n      <td>32598.72</td>\n    </tr>\n    <tr>\n      <th>3</th>\n      <td>107</td>\n      <td>66</td>\n      <td>35059.50</td>\n      <td>30852.36</td>\n    </tr>\n    <tr>\n      <th>4</th>\n      <td>259</td>\n      <td>66</td>\n      <td>42997.50</td>\n      <td>37837.80</td>\n    </tr>\n    <tr>\n      <th>...</th>\n      <td>...</td>\n      <td>...</td>\n      <td>...</td>\n      <td>...</td>\n    </tr>\n    <tr>\n      <th>3979</th>\n      <td>9924</td>\n      <td>64</td>\n      <td>26239.50</td>\n      <td>23090.76</td>\n    </tr>\n    <tr>\n      <th>3980</th>\n      <td>9926</td>\n      <td>63</td>\n      <td>28334.25</td>\n      <td>24934.14</td>\n    </tr>\n    <tr>\n      <th>3981</th>\n      <td>9931</td>\n      <td>64</td>\n      <td>39690.00</td>\n      <td>34927.20</td>\n    </tr>\n    <tr>\n      <th>3982</th>\n      <td>9949</td>\n      <td>65</td>\n      <td>11686.50</td>\n      <td>10284.12</td>\n    </tr>\n    <tr>\n      <th>3983</th>\n      <td>9972</td>\n      <td>64</td>\n      <td>40682.25</td>\n      <td>35800.38</td>\n    </tr>\n  </tbody>\n</table>\n<p>3984 rows × 4 columns</p>\n</div>"
     },
     "execution_count": 34,
     "metadata": {},
     "output_type": "execute_result"
    }
   ],
   "source": [
    "pensionnaireTwo(data_frames[\"Employe_2033\"], data_frames[\"Retraite_2033\"])"
   ],
   "metadata": {
    "collapsed": false
   }
  }
 ],
 "metadata": {
  "kernelspec": {
   "display_name": "Python 3",
   "language": "python",
   "name": "python3"
  },
  "language_info": {
   "codemirror_mode": {
    "name": "ipython",
    "version": 2
   },
   "file_extension": ".py",
   "mimetype": "text/x-python",
   "name": "python",
   "nbconvert_exporter": "python",
   "pygments_lexer": "ipython2",
   "version": "2.7.6"
  }
 },
 "nbformat": 4,
 "nbformat_minor": 0
}
