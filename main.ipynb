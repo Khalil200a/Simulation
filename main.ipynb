{
 "cells": [
  {
   "cell_type": "code",
   "execution_count": 40,
   "outputs": [],
   "source": [
    "import pandas as pd\n",
    "import random"
   ],
   "metadata": {
    "collapsed": false
   }
  },
  {
   "cell_type": "code",
   "execution_count": 28,
   "metadata": {
    "collapsed": true
   },
   "outputs": [],
   "source": [
    "# Veut dire que c’est un passage par adresse des 3 variables IX, IY et IZ.\n",
    "# 3 variables entières qu’il faut initialiser avant le 1er appel de la fonction.\n",
    "# Veut dire que la fonction est typée, elle retourne un nombre réel.\n",
    "def alea(IX, IY, IZ):\n",
    "    # Déclaration d’une variable inter de type réel\n",
    "    inter = 0.0\n",
    "    # A chaque exécution de la fonction, les valeurs des 3 variables sont recalculées, d’où un passage par adresse.\n",
    "    # % : division entière\n",
    "    # // : reste de la division entière\n",
    "    IX = 171 * (IX % 177) - 2 * (IX // 177)\n",
    "    IY = 172 * (IY % 176) - 35 * (IY // 176)\n",
    "    IZ = 170 * (IZ % 178) - 63 * (IZ // 178)\n",
    "    # S’il y a un dépassement de capacité sur une variable, on ajoute un nombre très grand, pour la machine 16 bits,\n",
    "    # pour ramener à une valeur positive. Ce qui marche sur une machine 16 bits marche sur une 32 ou 64 bits.\n",
    "    if IX < 0:\n",
    "        IX = IX + 30269\n",
    "    if IY < 0:\n",
    "        IY = IY + 30307\n",
    "    if IZ < 0:\n",
    "        IZ = IZ + 30323\n",
    "    inter = ((IX / 30269) + (IY / 30307) + (IZ / 30323))\n",
    "    return [round(inter - int(inter), 4),IX, IY, IZ]"
   ]
  },
  {
   "cell_type": "code",
   "execution_count": 29,
   "outputs": [],
   "source": [
    "salaire = [(40000, 30000), (30000, 20000), (20000, 15000), (15000, 10000), (10000, 7500), (7500, 5000), (5000, 3000)]\n",
    "frequenceSalaire = [5, 10, 10, 15, 20, 20, 20]\n",
    "age = [(62, 53), (52, 41), (40, 31), (30, 21)]\n",
    "frequenceAge = [30, 30, 20, 20]\n",
    "embauche = [(21, 22), (23, 24), (25, 28), (29, 32), (33, 35), (36, 40)]\n",
    "frequenceEmbauche = [5, 20, 25, 25, 20, 5]\n",
    "totEmp=10000\n",
    "totRet=1000"
   ],
   "metadata": {
    "collapsed": false
   }
  },
  {
   "cell_type": "code",
   "execution_count": 30,
   "outputs": [],
   "source": [
    "def cumuleFrequenceIntervale(frequences):\n",
    "    cumules = []\n",
    "    index = 0\n",
    "    for i in frequences:\n",
    "        cumules.append([index, i+index])\n",
    "        index += i\n",
    "    return cumules"
   ],
   "metadata": {
    "collapsed": false
   }
  },
  {
   "cell_type": "code",
   "execution_count": 31,
   "outputs": [],
   "source": [
    "def indexFromTable(cumules, aleaNumber):\n",
    "    i = 0\n",
    "    for intervale in cumules :\n",
    "        if intervale[1] > aleaNumber*100 :\n",
    "            return i\n",
    "        i+=1\n",
    "    return i"
   ],
   "metadata": {
    "collapsed": false
   }
  },
  {
   "cell_type": "code",
   "execution_count": 32,
   "outputs": [],
   "source": [
    "df = pd.DataFrame(columns=[\"id\", \"age\", \"salaire\", \"état\"], index=range(0, 11000))"
   ],
   "metadata": {
    "collapsed": false
   }
  },
  {
   "cell_type": "code",
   "execution_count": 56,
   "outputs": [],
   "source": [
    "for index, row in df.iterrows():\n",
    "    if index == 0 :\n",
    "        IX = 100\n",
    "        IY = 100\n",
    "        IZ = 100\n",
    "    else:\n",
    "        IX = alea(IX, IY, IZ)[1]\n",
    "        IY = alea(IX, IY, IZ)[2]\n",
    "        IZ = alea(IX, IY, IZ)[3]\n",
    "    salaireIndex = indexFromTable(cumuleFrequenceIntervale(frequenceSalaire), alea(IX, IY, IZ)[0])\n",
    "    ageIndex = indexFromTable(cumuleFrequenceIntervale(frequenceAge), alea(IX, IY, IZ)[0])\n",
    "    row[\"id\"] = index+1\n",
    "    row[\"salaire\"] = random.randrange(salaire[salaireIndex][1], salaire[salaireIndex][0], 100)\n",
    "    if index <10000:\n",
    "        row[\"état\"] = \"Employé\"\n",
    "        row[\"age\"] = random.randrange(age[ageIndex][1], age[ageIndex][0], 100)\n",
    "    else:\n",
    "        row [\"état\"] = \"Retraité\"\n",
    "        row[\"age\"] = random.randint(66, 85)"
   ],
   "metadata": {
    "collapsed": false
   }
  },
  {
   "cell_type": "code",
   "execution_count": 57,
   "outputs": [
    {
     "data": {
      "text/plain": "  id age salaire     état\n0  1  31    5100  Employé\n1  2  41    8200  Employé\n2  3  53   21800  Employé\n3  4  21    3500  Employé\n4  5  21    3500  Employé",
      "text/html": "<div>\n<style scoped>\n    .dataframe tbody tr th:only-of-type {\n        vertical-align: middle;\n    }\n\n    .dataframe tbody tr th {\n        vertical-align: top;\n    }\n\n    .dataframe thead th {\n        text-align: right;\n    }\n</style>\n<table border=\"1\" class=\"dataframe\">\n  <thead>\n    <tr style=\"text-align: right;\">\n      <th></th>\n      <th>id</th>\n      <th>age</th>\n      <th>salaire</th>\n      <th>état</th>\n    </tr>\n  </thead>\n  <tbody>\n    <tr>\n      <th>0</th>\n      <td>1</td>\n      <td>31</td>\n      <td>5100</td>\n      <td>Employé</td>\n    </tr>\n    <tr>\n      <th>1</th>\n      <td>2</td>\n      <td>41</td>\n      <td>8200</td>\n      <td>Employé</td>\n    </tr>\n    <tr>\n      <th>2</th>\n      <td>3</td>\n      <td>53</td>\n      <td>21800</td>\n      <td>Employé</td>\n    </tr>\n    <tr>\n      <th>3</th>\n      <td>4</td>\n      <td>21</td>\n      <td>3500</td>\n      <td>Employé</td>\n    </tr>\n    <tr>\n      <th>4</th>\n      <td>5</td>\n      <td>21</td>\n      <td>3500</td>\n      <td>Employé</td>\n    </tr>\n  </tbody>\n</table>\n</div>"
     },
     "execution_count": 57,
     "metadata": {},
     "output_type": "execute_result"
    }
   ],
   "source": [
    "df.head()"
   ],
   "metadata": {
    "collapsed": false
   }
  },
  {
   "cell_type": "code",
   "execution_count": 58,
   "outputs": [
    {
     "data": {
      "text/plain": "          id age salaire      état\n10995  10996  73    9300  Retraité\n10996  10997  80   38500  Retraité\n10997  10998  74    3200  Retraité\n10998  10999  77    8800  Retraité\n10999  11000  83   22400  Retraité",
      "text/html": "<div>\n<style scoped>\n    .dataframe tbody tr th:only-of-type {\n        vertical-align: middle;\n    }\n\n    .dataframe tbody tr th {\n        vertical-align: top;\n    }\n\n    .dataframe thead th {\n        text-align: right;\n    }\n</style>\n<table border=\"1\" class=\"dataframe\">\n  <thead>\n    <tr style=\"text-align: right;\">\n      <th></th>\n      <th>id</th>\n      <th>age</th>\n      <th>salaire</th>\n      <th>état</th>\n    </tr>\n  </thead>\n  <tbody>\n    <tr>\n      <th>10995</th>\n      <td>10996</td>\n      <td>73</td>\n      <td>9300</td>\n      <td>Retraité</td>\n    </tr>\n    <tr>\n      <th>10996</th>\n      <td>10997</td>\n      <td>80</td>\n      <td>38500</td>\n      <td>Retraité</td>\n    </tr>\n    <tr>\n      <th>10997</th>\n      <td>10998</td>\n      <td>74</td>\n      <td>3200</td>\n      <td>Retraité</td>\n    </tr>\n    <tr>\n      <th>10998</th>\n      <td>10999</td>\n      <td>77</td>\n      <td>8800</td>\n      <td>Retraité</td>\n    </tr>\n    <tr>\n      <th>10999</th>\n      <td>11000</td>\n      <td>83</td>\n      <td>22400</td>\n      <td>Retraité</td>\n    </tr>\n  </tbody>\n</table>\n</div>"
     },
     "execution_count": 58,
     "metadata": {},
     "output_type": "execute_result"
    }
   ],
   "source": [
    "df.tail()"
   ],
   "metadata": {
    "collapsed": false
   }
  },
  {
   "cell_type": "code",
   "execution_count": null,
   "outputs": [],
   "source": [
    "pensionnaire65 = pd.DataFrame(columns=[\"id\", \"age\", \"salaire\", \"pension\"])\n",
    "for index, row in df.iloc[10000:]:\n",
    "    pensionnaire65.append({\"id\":row[\"id\"], \"age\": row[\"age\"], \"salaire\": row[\"salaire\"], \"pension\": ((44*2)/100)*row[\"salaire\"]})\n"
   ],
   "metadata": {
    "collapsed": false
   }
  }
 ],
 "metadata": {
  "kernelspec": {
   "display_name": "Python 3",
   "language": "python",
   "name": "python3"
  },
  "language_info": {
   "codemirror_mode": {
    "name": "ipython",
    "version": 2
   },
   "file_extension": ".py",
   "mimetype": "text/x-python",
   "name": "python",
   "nbconvert_exporter": "python",
   "pygments_lexer": "ipython2",
   "version": "2.7.6"
  }
 },
 "nbformat": 4,
 "nbformat_minor": 0
}
