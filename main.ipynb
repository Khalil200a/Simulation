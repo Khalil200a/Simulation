{
 "cells": [
  {
   "cell_type": "code",
   "execution_count": 1,
   "outputs": [],
   "source": [
    "import pandas as pd\n",
    "import random"
   ],
   "metadata": {
    "collapsed": false
   }
  },
  {
   "cell_type": "code",
   "execution_count": 2,
   "metadata": {
    "collapsed": true
   },
   "outputs": [],
   "source": [
    "# Veut dire que c’est un passage par adresse des 3 variables IX, IY et IZ.\n",
    "# 3 variables entières qu’il faut initialiser avant le 1er appel de la fonction.\n",
    "# Veut dire que la fonction est typée, elle retourne un nombre réel.\n",
    "def alea(IX, IY, IZ):\n",
    "    # Déclaration d’une variable inter de type réel\n",
    "    inter = 0.0\n",
    "    # A chaque exécution de la fonction, les valeurs des 3 variables sont recalculées, d’où un passage par adresse.\n",
    "    # % : division entière\n",
    "    # // : reste de la division entière\n",
    "    IX = 171 * (IX % 177) - 2 * (IX // 177)\n",
    "    IY = 172 * (IY % 176) - 35 * (IY // 176)\n",
    "    IZ = 170 * (IZ % 178) - 63 * (IZ // 178)\n",
    "    # S’il y a un dépassement de capacité sur une variable, on ajoute un nombre très grand, pour la machine 16 bits,\n",
    "    # pour ramener à une valeur positive. Ce qui marche sur une machine 16 bits marche sur une 32 ou 64 bits.\n",
    "    if IX < 0:\n",
    "        IX = IX + 30269\n",
    "    if IY < 0:\n",
    "        IY = IY + 30307\n",
    "    if IZ < 0:\n",
    "        IZ = IZ + 30323\n",
    "    inter = ((IX / 30269) + (IY / 30307) + (IZ / 30323))\n",
    "    return [round(inter - int(inter), 4),IX, IY, IZ]"
   ]
  },
  {
   "cell_type": "code",
   "execution_count": 3,
   "outputs": [],
   "source": [
    "salaire = [(40000, 30000), (30000, 20000), (20000, 15000), (15000, 10000), (10000, 7500), (7500, 5000), (5000, 3000)]\n",
    "frequenceSalaire = [5, 10, 10, 15, 20, 20, 20]\n",
    "age = [(62, 53), (52, 41), (40, 31), (30, 21)]\n",
    "frequenceAge = [30, 30, 20, 20]\n",
    "ageEmbauche = [(21, 22), (23, 24), (25, 28), (29, 32), (33, 35), (36, 40)]\n",
    "frequenceAgeEmbauche = [5, 20, 25, 25, 20, 5]\n",
    "salaire_embauche=[(32000,24000),(24000,16000),(16000,12000),(12000,8000),(8000,6000),(6000,4000),(4000,3000)]\n",
    "frequenceSalaireEmbauche=[5,5,10,20,20,20,20]\n",
    "years = [2023, 2024, 2025, 2026, 2027, 2028, 2029, 2030, 2031, 2032, 2033]\n",
    "totEmp=10000\n",
    "totRet=1000"
   ],
   "metadata": {
    "collapsed": false
   }
  },
  {
   "cell_type": "code",
   "execution_count": 4,
   "outputs": [],
   "source": [
    "def cumuleFrequenceIntervale(frequences):\n",
    "    cumules = []\n",
    "    index = 0\n",
    "    for i in frequences:\n",
    "        cumules.append([index, i+index])\n",
    "        index += i\n",
    "    return cumules"
   ],
   "metadata": {
    "collapsed": false
   }
  },
  {
   "cell_type": "code",
   "execution_count": 5,
   "outputs": [],
   "source": [
    "def indexFromTable(cumules, aleaNumber):\n",
    "    i = 0\n",
    "    for intervale in cumules :\n",
    "        if intervale[1] > aleaNumber*100 :\n",
    "            return i\n",
    "        i+=1\n",
    "    return i"
   ],
   "metadata": {
    "collapsed": false
   }
  },
  {
   "cell_type": "code",
   "execution_count": 6,
   "outputs": [],
   "source": [
    "Employe = pd.DataFrame(columns=[\"id\", \"age\", \"salaire\"])\n",
    "Retraite = pd.DataFrame(columns=[\"id\", \"age\", \"salaire\"])"
   ],
   "metadata": {
    "collapsed": false
   }
  },
  {
   "cell_type": "code",
   "execution_count": 7,
   "outputs": [],
   "source": [
    "for index in range(11000):\n",
    "    if index == 0 :\n",
    "        IX = 100\n",
    "        IY = 100\n",
    "        IZ = 100\n",
    "    else:\n",
    "        IX = alea(IX, IY, IZ)[1]\n",
    "        IY = alea(IX, IY, IZ)[2]\n",
    "        IZ = alea(IX, IY, IZ)[3]\n",
    "    salaireIndex = indexFromTable(cumuleFrequenceIntervale(frequenceSalaire), alea(IX, IY, IZ)[0])\n",
    "    ageIndex = indexFromTable(cumuleFrequenceIntervale(frequenceAge), alea(IX, IY, IZ)[0])\n",
    "    i = index+1\n",
    "    s = random.randrange(salaire[salaireIndex][1], salaire[salaireIndex][0], 100)\n",
    "    if index <10000:\n",
    "        a = random.randrange(age[ageIndex][1], age[ageIndex][0], 1)\n",
    "        new_row = pd.DataFrame( {\"id\" : [i], \"age\": [a], \"salaire\": [s]})\n",
    "        Employe = pd.concat([Employe, new_row], ignore_index=True)\n",
    "    else:\n",
    "        a = random.randint(66, 85)\n",
    "        new_row = pd.DataFrame( {\"id\" : [i], \"age\": [a], \"salaire\": [s]})\n",
    "        Retraite = pd.concat([Retraite, new_row], ignore_index=True)"
   ],
   "metadata": {
    "collapsed": false
   }
  },
  {
   "cell_type": "code",
   "execution_count": 8,
   "outputs": [
    {
     "data": {
      "text/plain": "  id age salaire\n0  1  32    6400\n1  2  43    8300\n2  3  59   27100\n3  4  22    3900\n4  5  28    3200",
      "text/html": "<div>\n<style scoped>\n    .dataframe tbody tr th:only-of-type {\n        vertical-align: middle;\n    }\n\n    .dataframe tbody tr th {\n        vertical-align: top;\n    }\n\n    .dataframe thead th {\n        text-align: right;\n    }\n</style>\n<table border=\"1\" class=\"dataframe\">\n  <thead>\n    <tr style=\"text-align: right;\">\n      <th></th>\n      <th>id</th>\n      <th>age</th>\n      <th>salaire</th>\n    </tr>\n  </thead>\n  <tbody>\n    <tr>\n      <th>0</th>\n      <td>1</td>\n      <td>32</td>\n      <td>6400</td>\n    </tr>\n    <tr>\n      <th>1</th>\n      <td>2</td>\n      <td>43</td>\n      <td>8300</td>\n    </tr>\n    <tr>\n      <th>2</th>\n      <td>3</td>\n      <td>59</td>\n      <td>27100</td>\n    </tr>\n    <tr>\n      <th>3</th>\n      <td>4</td>\n      <td>22</td>\n      <td>3900</td>\n    </tr>\n    <tr>\n      <th>4</th>\n      <td>5</td>\n      <td>28</td>\n      <td>3200</td>\n    </tr>\n  </tbody>\n</table>\n</div>"
     },
     "execution_count": 8,
     "metadata": {},
     "output_type": "execute_result"
    }
   ],
   "source": [
    "Employe.head()"
   ],
   "metadata": {
    "collapsed": false
   }
  },
  {
   "cell_type": "code",
   "execution_count": 9,
   "outputs": [
    {
     "data": {
      "text/plain": "      id age salaire\n0  10001  68    5000\n1  10002  76    4900\n2  10003  83   28600\n3  10004  83   17600\n4  10005  75    5100",
      "text/html": "<div>\n<style scoped>\n    .dataframe tbody tr th:only-of-type {\n        vertical-align: middle;\n    }\n\n    .dataframe tbody tr th {\n        vertical-align: top;\n    }\n\n    .dataframe thead th {\n        text-align: right;\n    }\n</style>\n<table border=\"1\" class=\"dataframe\">\n  <thead>\n    <tr style=\"text-align: right;\">\n      <th></th>\n      <th>id</th>\n      <th>age</th>\n      <th>salaire</th>\n    </tr>\n  </thead>\n  <tbody>\n    <tr>\n      <th>0</th>\n      <td>10001</td>\n      <td>68</td>\n      <td>5000</td>\n    </tr>\n    <tr>\n      <th>1</th>\n      <td>10002</td>\n      <td>76</td>\n      <td>4900</td>\n    </tr>\n    <tr>\n      <th>2</th>\n      <td>10003</td>\n      <td>83</td>\n      <td>28600</td>\n    </tr>\n    <tr>\n      <th>3</th>\n      <td>10004</td>\n      <td>83</td>\n      <td>17600</td>\n    </tr>\n    <tr>\n      <th>4</th>\n      <td>10005</td>\n      <td>75</td>\n      <td>5100</td>\n    </tr>\n  </tbody>\n</table>\n</div>"
     },
     "execution_count": 9,
     "metadata": {},
     "output_type": "execute_result"
    }
   ],
   "source": [
    "Retraite.head()"
   ],
   "metadata": {
    "collapsed": false
   }
  },
  {
   "cell_type": "code",
   "execution_count": 10,
   "outputs": [],
   "source": [
    "def pensionnaireFive(dfRetrait) :\n",
    "    pensionnaire65 = pd.DataFrame(columns=[\"id\", \"age\", \"salaire\", \"pension\"])\n",
    "    for index, row in dfRetrait.iterrows():\n",
    "        a = row[\"age\"]\n",
    "        s = row[\"salaire\"]\n",
    "        p = ((44*2)/100)*row[\"salaire\"]\n",
    "        new_row = pd.DataFrame( {\"id\" : row[\"id\"], \"age\": [a], \"salaire\": [s], \"pension\": [p]})\n",
    "        pensionnaire65 = pd.concat([pensionnaire65, new_row], ignore_index=True)\n",
    "    return pensionnaire65"
   ],
   "metadata": {
    "collapsed": false
   }
  },
  {
   "cell_type": "code",
   "execution_count": 11,
   "outputs": [
    {
     "data": {
      "text/plain": "      id age salaire  pension\n0  10001  68    5000   4400.0\n1  10002  76    4900   4312.0\n2  10003  83   28600  25168.0\n3  10004  83   17600  15488.0\n4  10005  75    5100   4488.0",
      "text/html": "<div>\n<style scoped>\n    .dataframe tbody tr th:only-of-type {\n        vertical-align: middle;\n    }\n\n    .dataframe tbody tr th {\n        vertical-align: top;\n    }\n\n    .dataframe thead th {\n        text-align: right;\n    }\n</style>\n<table border=\"1\" class=\"dataframe\">\n  <thead>\n    <tr style=\"text-align: right;\">\n      <th></th>\n      <th>id</th>\n      <th>age</th>\n      <th>salaire</th>\n      <th>pension</th>\n    </tr>\n  </thead>\n  <tbody>\n    <tr>\n      <th>0</th>\n      <td>10001</td>\n      <td>68</td>\n      <td>5000</td>\n      <td>4400.0</td>\n    </tr>\n    <tr>\n      <th>1</th>\n      <td>10002</td>\n      <td>76</td>\n      <td>4900</td>\n      <td>4312.0</td>\n    </tr>\n    <tr>\n      <th>2</th>\n      <td>10003</td>\n      <td>83</td>\n      <td>28600</td>\n      <td>25168.0</td>\n    </tr>\n    <tr>\n      <th>3</th>\n      <td>10004</td>\n      <td>83</td>\n      <td>17600</td>\n      <td>15488.0</td>\n    </tr>\n    <tr>\n      <th>4</th>\n      <td>10005</td>\n      <td>75</td>\n      <td>5100</td>\n      <td>4488.0</td>\n    </tr>\n  </tbody>\n</table>\n</div>"
     },
     "execution_count": 11,
     "metadata": {},
     "output_type": "execute_result"
    }
   ],
   "source": [
    "pensionnaireFive(Retraite).head()"
   ],
   "metadata": {
    "collapsed": false
   }
  },
  {
   "cell_type": "code",
   "execution_count": 12,
   "outputs": [],
   "source": [
    "def pensionnaireTwo(dfEmploye, dfRetraite):\n",
    "    pensionnaire62 = pd.DataFrame(columns=[\"id\", \"age\", \"salaire\", \"pension\"])\n",
    "    pensionnaire65 = pensionnaireFive(dfRetraite)\n",
    "    pensionnaire62 = pd.concat([pensionnaire62, pensionnaire65], ignore_index=True)\n",
    "    for index, row in dfEmploye.iterrows():\n",
    "        if row[\"age\"]>62:\n",
    "            a = row[\"age\"]\n",
    "            s = row[\"salaire\"]\n",
    "            p = ((44*2)/100)*row[\"salaire\"]\n",
    "            new_row = pd.DataFrame( {\"id\" : row[\"id\"], \"age\": [a], \"salaire\": [s], \"pension\": [p]})\n",
    "            pensionnaire65 = pd.concat([pensionnaire65, new_row], ignore_index=True)\n",
    "    return pensionnaire62"
   ],
   "metadata": {
    "collapsed": false
   }
  },
  {
   "cell_type": "code",
   "execution_count": 13,
   "outputs": [
    {
     "data": {
      "text/plain": "        id age salaire  pension\n995  10996  67    8700   7656.0\n996  10997  79   34500  30360.0\n997  10998  76    4800   4224.0\n998  10999  78    8600   7568.0\n999  11000  76   21600  19008.0",
      "text/html": "<div>\n<style scoped>\n    .dataframe tbody tr th:only-of-type {\n        vertical-align: middle;\n    }\n\n    .dataframe tbody tr th {\n        vertical-align: top;\n    }\n\n    .dataframe thead th {\n        text-align: right;\n    }\n</style>\n<table border=\"1\" class=\"dataframe\">\n  <thead>\n    <tr style=\"text-align: right;\">\n      <th></th>\n      <th>id</th>\n      <th>age</th>\n      <th>salaire</th>\n      <th>pension</th>\n    </tr>\n  </thead>\n  <tbody>\n    <tr>\n      <th>995</th>\n      <td>10996</td>\n      <td>67</td>\n      <td>8700</td>\n      <td>7656.0</td>\n    </tr>\n    <tr>\n      <th>996</th>\n      <td>10997</td>\n      <td>79</td>\n      <td>34500</td>\n      <td>30360.0</td>\n    </tr>\n    <tr>\n      <th>997</th>\n      <td>10998</td>\n      <td>76</td>\n      <td>4800</td>\n      <td>4224.0</td>\n    </tr>\n    <tr>\n      <th>998</th>\n      <td>10999</td>\n      <td>78</td>\n      <td>8600</td>\n      <td>7568.0</td>\n    </tr>\n    <tr>\n      <th>999</th>\n      <td>11000</td>\n      <td>76</td>\n      <td>21600</td>\n      <td>19008.0</td>\n    </tr>\n  </tbody>\n</table>\n</div>"
     },
     "execution_count": 13,
     "metadata": {},
     "output_type": "execute_result"
    }
   ],
   "source": [
    "pensionnaireTwo(Employe, Retraite).tail()"
   ],
   "metadata": {
    "collapsed": false
   }
  },
  {
   "cell_type": "code",
   "execution_count": 14,
   "outputs": [],
   "source": [
    "def newRecru():\n",
    "    Nouveux_Recrus = pd.DataFrame(columns=[\"id\", \"age\", \"salaire\"])\n",
    "    IX = 100\n",
    "    IY = 100\n",
    "    IZ = 100\n",
    "    a=alea(IX, IY, IZ)[0]\n",
    "    n = ((400 - 250) * a) + 250\n",
    "    for index in range(int(n)):\n",
    "        if index == 0 :\n",
    "            IX = 100\n",
    "            IY = 100\n",
    "            IZ = 100\n",
    "        else:\n",
    "            IX = alea(IX, IY, IZ)[1]\n",
    "            IY = alea(IX, IY, IZ)[2]\n",
    "            IZ = alea(IX, IY, IZ)[3]\n",
    "        salaireIndex = indexFromTable(cumuleFrequenceIntervale(frequenceSalaireEmbauche), alea(IX, IY, IZ)[0])\n",
    "        ageIndex = indexFromTable(cumuleFrequenceIntervale(frequenceAgeEmbauche), alea(IX, IY, IZ)[0])\n",
    "        i = index+1\n",
    "        s = random.randrange(salaire_embauche[salaireIndex][1], salaire_embauche[salaireIndex][0], 100)\n",
    "        a = random.randrange(ageEmbauche[ageIndex][0], ageEmbauche[ageIndex][1], 1)\n",
    "        new_row = pd.DataFrame( {\"id\" : [i], \"age\": [a], \"salaire\": [s]})\n",
    "        Nouveux_Recrus = pd.concat([Nouveux_Recrus, new_row], ignore_index=True)\n",
    "    return Nouveux_Recrus"
   ],
   "metadata": {
    "collapsed": false
   }
  },
  {
   "cell_type": "code",
   "execution_count": 15,
   "outputs": [
    {
     "data": {
      "text/plain": "  id age salaire\n0  1  29    4900\n1  2  30    6500\n2  3  23   15800\n3  4  38    3000\n4  5  33    3800",
      "text/html": "<div>\n<style scoped>\n    .dataframe tbody tr th:only-of-type {\n        vertical-align: middle;\n    }\n\n    .dataframe tbody tr th {\n        vertical-align: top;\n    }\n\n    .dataframe thead th {\n        text-align: right;\n    }\n</style>\n<table border=\"1\" class=\"dataframe\">\n  <thead>\n    <tr style=\"text-align: right;\">\n      <th></th>\n      <th>id</th>\n      <th>age</th>\n      <th>salaire</th>\n    </tr>\n  </thead>\n  <tbody>\n    <tr>\n      <th>0</th>\n      <td>1</td>\n      <td>29</td>\n      <td>4900</td>\n    </tr>\n    <tr>\n      <th>1</th>\n      <td>2</td>\n      <td>30</td>\n      <td>6500</td>\n    </tr>\n    <tr>\n      <th>2</th>\n      <td>3</td>\n      <td>23</td>\n      <td>15800</td>\n    </tr>\n    <tr>\n      <th>3</th>\n      <td>4</td>\n      <td>38</td>\n      <td>3000</td>\n    </tr>\n    <tr>\n      <th>4</th>\n      <td>5</td>\n      <td>33</td>\n      <td>3800</td>\n    </tr>\n  </tbody>\n</table>\n</div>"
     },
     "execution_count": 15,
     "metadata": {},
     "output_type": "execute_result"
    }
   ],
   "source": [
    "newRecru().head()"
   ],
   "metadata": {
    "collapsed": false
   }
  },
  {
   "cell_type": "code",
   "execution_count": 15,
   "outputs": [],
   "source": [
    "for i in range(24, 34) :\n",
    "    locals()['Employe_20'+str(i)] = pd.DataFrame(columns=[\"id\", \"age\", \"salaire\"])\n",
    "    locals()['Retraite_20'+str(i)] = pd.DataFrame(columns=[\"id\", \"age\", \"salaire\"])"
   ],
   "metadata": {
    "collapsed": false
   }
  }
 ],
 "metadata": {
  "kernelspec": {
   "display_name": "Python 3",
   "language": "python",
   "name": "python3"
  },
  "language_info": {
   "codemirror_mode": {
    "name": "ipython",
    "version": 2
   },
   "file_extension": ".py",
   "mimetype": "text/x-python",
   "name": "python",
   "nbconvert_exporter": "python",
   "pygments_lexer": "ipython2",
   "version": "2.7.6"
  }
 },
 "nbformat": 4,
 "nbformat_minor": 0
}
