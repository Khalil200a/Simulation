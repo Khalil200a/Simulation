{
 "cells": [
  {
   "cell_type": "code",
   "execution_count": 1,
   "outputs": [],
   "source": [
    "import pandas as pd\n",
    "import random"
   ],
   "metadata": {
    "collapsed": false
   }
  },
  {
   "cell_type": "code",
   "execution_count": 2,
   "outputs": [],
   "source": [
    "# Veut dire que c’est un passage par adresse des 3 variables IX, IY et IZ.\n",
    "# 3 variables entières qu’il faut initialiser avant le 1er appel de la fonction.\n",
    "# Veut dire que la fonction est typée, elle retourne un nombre réel.\n",
    "def alea(IX, IY, IZ):\n",
    "    # Déclaration d’une variable inter de type réel\n",
    "    inter = 0.0\n",
    "    # A chaque exécution de la fonction, les valeurs des 3 variables sont recalculées, d’où un passage par adresse.\n",
    "    # % : division entière\n",
    "    # // : reste de la division entière\n",
    "    IX = 171 * (IX % 177) - 2 * (IX // 177)\n",
    "    IY = 172 * (IY % 176) - 35 * (IY // 176)\n",
    "    IZ = 170 * (IZ % 178) - 63 * (IZ // 178)\n",
    "    # S’il y a un dépassement de capacité sur une variable, on ajoute un nombre très grand, pour la machine 16 bits,\n",
    "    # pour ramener à une valeur positive. Ce qui marche sur une machine 16 bits marche sur une 32 ou 64 bits.\n",
    "    if IX < 0:\n",
    "        IX = IX + 30269\n",
    "    if IY < 0:\n",
    "        IY = IY + 30307\n",
    "    if IZ < 0:\n",
    "        IZ = IZ + 30323\n",
    "    inter = ((IX / 30269) + (IY / 30307) + (IZ / 30323))\n",
    "    return [round(inter - int(inter), 4),IX, IY, IZ]"
   ],
   "metadata": {
    "collapsed": false
   }
  },
  {
   "cell_type": "code",
   "execution_count": 3,
   "outputs": [],
   "source": [
    "IX = 100\n",
    "IY = 100\n",
    "IZ = 100"
   ],
   "metadata": {
    "collapsed": false
   }
  },
  {
   "cell_type": "code",
   "execution_count": 4,
   "outputs": [],
   "source": [
    "salaire = [(40000, 30000), (30000, 20000), (20000, 15000), (15000, 10000), (10000, 7500), (7500, 5000), (5000, 3000)]\n",
    "frequenceSalaire = [5, 10, 10, 15, 20, 20, 20]\n",
    "age = [(61, 53), (52, 41), (40, 31), (30, 21)]\n",
    "frequenceAge = [30, 30, 20, 20]\n",
    "ageEmbauche = [(21, 22), (23, 24), (25, 28), (29, 32), (33, 35), (36, 40)]\n",
    "frequenceAgeEmbauche = [5, 20, 25, 25, 20, 5]\n",
    "salaire_embauche=[(32000,24000),(24000,16000),(16000,12000),(12000,8000),(8000,6000),(6000,4000),(4000,3000)]\n",
    "frequenceSalaireEmbauche=[5,5,10,20,20,20,20]\n",
    "years = [24, 25, 26, 27, 28, 29, 30, 31, 32, 33]"
   ],
   "metadata": {
    "collapsed": false
   }
  },
  {
   "cell_type": "code",
   "execution_count": 5,
   "outputs": [],
   "source": [
    "ensemble_data_frames = {}\n",
    "for j in range(1, 41):\n",
    "    data_frames = {}\n",
    "    for i in range(23, 34) :\n",
    "        data_frames['Employe_20'+str(i)] = pd.DataFrame(columns=[\"id\", \"age\", \"salaire\", \"cotisation\"])\n",
    "        data_frames['Retraite_20'+str(i)] = pd.DataFrame(columns=[\"id\", \"age\", \"salaire\"])\n",
    "        data_frames['newRecru_20'+str(i)] = pd.DataFrame(columns=[\"id\", \"age\", \"salaire\", \"cotisation\"])\n",
    "    ensemble_data_frames['Simulation_'+str(j)] = data_frames"
   ],
   "metadata": {
    "collapsed": false
   }
  },
  {
   "cell_type": "code",
   "execution_count": 6,
   "outputs": [],
   "source": [
    "data_indices = {}\n",
    "for j in range(1, 41):\n",
    "    data_indices['Simulation_'+str(j)] = pd.DataFrame(columns=[\"year\", \"TotEmp\", \"TotRet\", \"TotCotis\", \"TotPens\", \"Reserve\", \"NouvRet\", \"NouvRec\"])"
   ],
   "metadata": {
    "collapsed": false
   }
  },
  {
   "cell_type": "code",
   "execution_count": 7,
   "outputs": [],
   "source": [
    "def cumuleFrequenceIntervale(frequences):\n",
    "    cumules = []\n",
    "    indexisation = 0\n",
    "    for i in frequences:\n",
    "        cumules.append([indexisation, i+indexisation])\n",
    "        indexisation += i\n",
    "    return cumules"
   ],
   "metadata": {
    "collapsed": false
   }
  },
  {
   "cell_type": "code",
   "execution_count": 8,
   "outputs": [],
   "source": [
    "def indexFromTable(cumules, aleaNumber):\n",
    "    i = 0\n",
    "    for intervale in cumules :\n",
    "        if intervale[1] > aleaNumber*100 :\n",
    "            return i\n",
    "        i+=1\n",
    "    return i-1"
   ],
   "metadata": {
    "collapsed": false
   }
  },
  {
   "cell_type": "code",
   "execution_count": 9,
   "outputs": [],
   "source": [
    "def cotisation(salaire):\n",
    "    if salaire < 5000:\n",
    "        return salaire*0.05\n",
    "    elif salaire < 7000 :\n",
    "        return salaire*0.06\n",
    "    elif salaire < 100000 :\n",
    "        return salaire*0.07\n",
    "    else:\n",
    "        return salaire*0.1"
   ],
   "metadata": {
    "collapsed": false
   }
  },
  {
   "cell_type": "code",
   "execution_count": 10,
   "outputs": [],
   "source": [
    "def createEmployeRetraite(simulation, year, IX, IY, IZ):\n",
    "    dfEmploye = ensemble_data_frames[\"Simulation_\"+str(simulation)][\"Employe_20\"+str(year)]\n",
    "    dfRetraite = ensemble_data_frames[\"Simulation_\"+str(simulation)][\"Retraite_20\"+str(year)]\n",
    "    for index in range(11000):\n",
    "        if index >=1:\n",
    "            IX = alea(IX, IY, IZ)[1]\n",
    "            IY = alea(IX, IY, IZ)[2]\n",
    "            IZ = alea(IX, IY, IZ)[3]\n",
    "        salaireIndex = indexFromTable(cumuleFrequenceIntervale(frequenceSalaire), alea(IX, IY, IZ)[0])\n",
    "        ageIndex = indexFromTable(cumuleFrequenceIntervale(frequenceAge), alea(IX, IY, IZ)[0])\n",
    "        i = index+1\n",
    "        s = random.randrange(salaire[salaireIndex][1], salaire[salaireIndex][0], 100)\n",
    "        if index <10000:\n",
    "            a = random.randrange(age[ageIndex][1], age[ageIndex][0], 1)\n",
    "\n",
    "            new_row = pd.DataFrame( {\"id\" : [i], \"age\": [a], \"salaire\": [s], \"cotisation\" : [cotisation(s)]})\n",
    "            dfEmploye = pd.concat([dfEmploye, new_row], ignore_index=True)\n",
    "        else:\n",
    "            a = random.randint(65, 85)\n",
    "            new_row = pd.DataFrame( {\"id\" : [i], \"age\": [a], \"salaire\": [s]})\n",
    "            dfRetraite = pd.concat([dfRetraite, new_row], ignore_index=True)\n",
    "    ensemble_data_frames[\"Simulation_\"+str(simulation)][\"Employe_20\"+str(year)] = dfEmploye\n",
    "    ensemble_data_frames[\"Simulation_\"+str(simulation)][\"Retraite_20\"+str(year)] = dfRetraite"
   ],
   "metadata": {
    "collapsed": false
   }
  },
  {
   "cell_type": "code",
   "execution_count": 11,
   "outputs": [],
   "source": [
    "def pensionnaireFive(dfRetrait) :\n",
    "    pensionnaire65 = pd.DataFrame(columns=[\"id\", \"age\", \"salaire\", \"pension\"])\n",
    "    for index, row in dfRetrait.iterrows():\n",
    "        a = row[\"age\"]\n",
    "        s = row[\"salaire\"]\n",
    "        p = ((25*2)/100)*row[\"salaire\"]\n",
    "        new_row = pd.DataFrame( {\"id\" : row[\"id\"], \"age\": [a], \"salaire\": [s], \"pension\": [p]})\n",
    "        pensionnaire65 = pd.concat([pensionnaire65, new_row], ignore_index=True)\n",
    "    return pensionnaire65"
   ],
   "metadata": {
    "collapsed": false
   }
  },
  {
   "cell_type": "code",
   "execution_count": 12,
   "outputs": [],
   "source": [
    "def pensionnaireTwo(dfEmploye, dfRetraite):\n",
    "    pensionnaire62 = pd.DataFrame(columns=[\"id\", \"age\", \"salaire\", \"pension\"])\n",
    "    pensionnaire65 = pensionnaireFive(dfRetraite)\n",
    "    pensionnaire62 = pd.concat([pensionnaire62, pensionnaire65], ignore_index=True)\n",
    "    for index, row in dfEmploye.iterrows():\n",
    "        if row[\"age\"]>=62:\n",
    "            a = row[\"age\"]\n",
    "            s = row[\"salaire\"]\n",
    "            p = ((25*2)/100)*row[\"salaire\"]\n",
    "            new_row = pd.DataFrame( {\"id\" : row[\"id\"], \"age\": [a], \"salaire\": [s], \"pension\": [p]})\n",
    "            pensionnaire62 = pd.concat([pensionnaire62, new_row], ignore_index=True)\n",
    "    return pensionnaire62"
   ],
   "metadata": {
    "collapsed": false
   }
  },
  {
   "cell_type": "code",
   "execution_count": 13,
   "outputs": [],
   "source": [
    "def newRecrutement(IX, IY, IZ):\n",
    "    Nouveux_Recrus = pd.DataFrame(columns=[\"id\", \"age\", \"salaire\"])\n",
    "    a=alea(IX, IY, IZ)[0]\n",
    "    n = ((400 - 250) * (random.uniform(0, 1)*a)) + 250\n",
    "    for index in range(int(n)):\n",
    "        if index >= 0 :\n",
    "            IX = alea(IX, IY, IZ)[1]\n",
    "            IY = alea(IX, IY, IZ)[2]\n",
    "            IZ = alea(IX, IY, IZ)[3]\n",
    "        salaireIndex = indexFromTable(cumuleFrequenceIntervale(frequenceSalaireEmbauche), alea(IX, IY, IZ)[0])\n",
    "        ageIndex = indexFromTable(cumuleFrequenceIntervale(frequenceAgeEmbauche), alea(IX, IY, IZ)[0])\n",
    "        i = index+1\n",
    "        s = random.randrange(salaire_embauche[salaireIndex][1], salaire_embauche[salaireIndex][0], 100)\n",
    "        a = random.randrange(ageEmbauche[ageIndex][0], ageEmbauche[ageIndex][1], 1)\n",
    "        new_row = pd.DataFrame( {\"id\" : [i], \"age\": [a], \"salaire\": [s], \"cotisation\" : [cotisation(s)]})\n",
    "        Nouveux_Recrus = pd.concat([Nouveux_Recrus, new_row], ignore_index=True)\n",
    "    return Nouveux_Recrus"
   ],
   "metadata": {
    "collapsed": false
   }
  },
  {
   "cell_type": "code",
   "execution_count": 14,
   "outputs": [],
   "source": [
    "def calculEmployeRetraite(simulation, i, IX, IY, IZ):\n",
    "    EmployeBeta = ensemble_data_frames[\"Simulation_\"+str(simulation)]['Employe_20'+str(i-1)]\n",
    "    RetraiteBeta = ensemble_data_frames[\"Simulation_\"+str(simulation)]['Retraite_20'+str(i-1)]\n",
    "    EmployeAlpha = ensemble_data_frames[\"Simulation_\"+str(simulation)]['Employe_20'+str(i)]\n",
    "    RetraiteAlpha = ensemble_data_frames[\"Simulation_\"+str(simulation)]['Retraite_20'+str(i)]\n",
    "    for index, row in EmployeBeta.iterrows():\n",
    "        if row[\"age\"] < 64:\n",
    "            if i == 25 or i == 30:\n",
    "                s = row[\"salaire\"]*1.05\n",
    "            else :\n",
    "                s = row[\"salaire\"]\n",
    "            a = row[\"age\"]+1\n",
    "            new_row = pd.DataFrame({\"id\" : row[\"id\"], \"age\": [a], \"salaire\": [s], \"cotisation\" : [cotisation(s)]})\n",
    "            EmployeAlpha = pd.concat([EmployeAlpha, new_row], ignore_index=True)\n",
    "        else :\n",
    "            if i == 25 or i == 30:\n",
    "                s = row[\"salaire\"]*1.05\n",
    "            else :\n",
    "                s = row[\"salaire\"]\n",
    "            a = row[\"age\"]+1\n",
    "            new_row = pd.DataFrame({\"id\" : row[\"id\"], \"age\": [a], \"salaire\": [s]})\n",
    "            RetraiteAlpha = pd.concat([RetraiteAlpha, new_row], ignore_index=True)\n",
    "    for index, row in RetraiteBeta.iterrows():\n",
    "        new_row = pd.DataFrame({\"id\" : [row[\"id\"]], \"age\": [row[\"age\"]+1], \"salaire\": [row[\"salaire\"]]})\n",
    "        RetraiteAlpha = pd.concat([RetraiteAlpha, new_row], ignore_index=True)\n",
    "    newRecru = newRecrutement(IX, IY, IZ)\n",
    "    for index, row in newRecru.iterrows():\n",
    "        new_row = pd.DataFrame({\"id\" : [row[\"id\"]], \"age\": [row[\"age\"]], \"salaire\": [row[\"salaire\"]],\"cotisation\" : [row[\"cotisation\"]]})\n",
    "        EmployeAlpha = pd.concat([EmployeAlpha, new_row], ignore_index=True)\n",
    "    ensemble_data_frames[\"Simulation_\"+str(simulation)]['Employe_20'+str(i)] = EmployeAlpha\n",
    "    ensemble_data_frames[\"Simulation_\"+str(simulation)]['Retraite_20'+str(i)] = RetraiteAlpha\n",
    "    ensemble_data_frames[\"Simulation_\"+str(simulation)]['newRecru_20'+str(i)] = newRecru"
   ],
   "metadata": {
    "collapsed": false
   }
  },
  {
   "cell_type": "code",
   "execution_count": 15,
   "outputs": [],
   "source": [
    "def calculIndice(simulation, ageRetrait):\n",
    "    dfIndice = data_indices[\"Simulation_\"+str(simulation)]\n",
    "    dfEmploye =  ensemble_data_frames[\"Simulation_\"+str(simulation)]['Employe_20'+str(23)]\n",
    "    dfRetraite = ensemble_data_frames[\"Simulation_\"+str(simulation)]['Retraite_20'+str(23)]\n",
    "    TotEmp = dfEmploye.shape[0]\n",
    "    if ageRetrait == 62:\n",
    "        TotCotis = dfEmploye[dfEmploye[\"age\"]<=61][\"cotisation\"].sum()*12\n",
    "        pensionnaire = pensionnaireTwo(dfEmploye, dfRetraite)\n",
    "    else:\n",
    "         TotCotis = dfEmploye[\"cotisation\"].sum()*12\n",
    "         pensionnaire = pensionnaireFive(dfRetraite)\n",
    "    TotRet = pensionnaire.shape[0]\n",
    "    TotPens = pensionnaire[\"pension\"].sum()*12\n",
    "    Reserve = 200000000 + TotCotis - TotPens\n",
    "    NouvRet = 0\n",
    "    NouvRec = 0\n",
    "    new_row = pd.DataFrame({\"year\" : [2023], \"TotEmp\" : [TotEmp], \"TotRet\" : [TotRet], \"TotCotis\" : [TotCotis], \"TotPens\" : [TotPens], \"Reserve\" : [Reserve], \"NouvRet\" : [NouvRet], \"NouvRec\" : [NouvRec]})\n",
    "    dfIndice = pd.concat([dfIndice, new_row], ignore_index=True)\n",
    "    for year in years :\n",
    "        dfEmploye =  ensemble_data_frames[\"Simulation_\"+str(simulation)]['Employe_20'+str(year)]\n",
    "        dfRetraite = ensemble_data_frames[\"Simulation_\"+str(simulation)]['Retraite_20'+str(year)]\n",
    "        dfRecrutement = ensemble_data_frames[\"Simulation_\"+str(simulation)]['newRecru_20'+str(year)]\n",
    "        TotEmp = dfEmploye.shape[0]\n",
    "        if ageRetrait == 62:\n",
    "            TotCotis = dfEmploye[dfEmploye[\"age\"]<=61][\"cotisation\"].sum()*12\n",
    "            pensionnaire = pensionnaireTwo(dfEmploye, dfRetraite)\n",
    "        else:\n",
    "            pensionnaire = pensionnaireFive(dfRetraite)\n",
    "            TotCotis = dfEmploye[\"cotisation\"].sum()*12\n",
    "        TotPens = pensionnaire[\"pension\"].sum()*12\n",
    "        TotRet = pensionnaire.shape[0]\n",
    "        Reserve = dfIndice.iloc[year-24]['Reserve'] + TotCotis -TotPens\n",
    "        NouvRet = TotRet - dfIndice.iloc[year-24]['TotRet']\n",
    "        NouvRec =  dfRecrutement.shape[0]\n",
    "        new_row = pd.DataFrame({\"year\" : [2000+year], \"TotEmp\" : [TotEmp], \"TotRet\" : [TotRet], \"TotCotis\" : [TotCotis], \"TotPens\" : [TotPens], \"Reserve\" : [Reserve], \"NouvRet\" : [NouvRet], \"NouvRec\" : [NouvRec]})\n",
    "        dfIndice = pd.concat([dfIndice, new_row], ignore_index=True)\n",
    "    return dfIndice"
   ],
   "metadata": {
    "collapsed": false
   }
  },
  {
   "cell_type": "code",
   "execution_count": 16,
   "outputs": [],
   "source": [
    "createEmployeRetraite(1, 23, IX, IY, IZ)\n",
    "for year in years:\n",
    "    calculEmployeRetraite(1, year, IX, IY, IZ)"
   ],
   "metadata": {
    "collapsed": false
   }
  },
  {
   "cell_type": "code",
   "execution_count": 17,
   "outputs": [
    {
     "data": {
      "text/plain": "        id age   salaire  cotisation\n0        1  41   6835.50    410.1300\n1        2  52  10694.25    748.5975\n2        4  38   3528.00    176.4000\n3        5  31   4299.75    214.9875\n4        6  31   4740.75    237.0375\n...    ...  ..       ...         ...\n10809  330  27   9200.00    644.0000\n10810  331  23  12200.00    854.0000\n10811  332  26   6800.00    408.0000\n10812  333  26   8300.00    581.0000\n10813  334  25  11600.00    812.0000\n\n[10814 rows x 4 columns]",
      "text/html": "<div>\n<style scoped>\n    .dataframe tbody tr th:only-of-type {\n        vertical-align: middle;\n    }\n\n    .dataframe tbody tr th {\n        vertical-align: top;\n    }\n\n    .dataframe thead th {\n        text-align: right;\n    }\n</style>\n<table border=\"1\" class=\"dataframe\">\n  <thead>\n    <tr style=\"text-align: right;\">\n      <th></th>\n      <th>id</th>\n      <th>age</th>\n      <th>salaire</th>\n      <th>cotisation</th>\n    </tr>\n  </thead>\n  <tbody>\n    <tr>\n      <th>0</th>\n      <td>1</td>\n      <td>41</td>\n      <td>6835.50</td>\n      <td>410.1300</td>\n    </tr>\n    <tr>\n      <th>1</th>\n      <td>2</td>\n      <td>52</td>\n      <td>10694.25</td>\n      <td>748.5975</td>\n    </tr>\n    <tr>\n      <th>2</th>\n      <td>4</td>\n      <td>38</td>\n      <td>3528.00</td>\n      <td>176.4000</td>\n    </tr>\n    <tr>\n      <th>3</th>\n      <td>5</td>\n      <td>31</td>\n      <td>4299.75</td>\n      <td>214.9875</td>\n    </tr>\n    <tr>\n      <th>4</th>\n      <td>6</td>\n      <td>31</td>\n      <td>4740.75</td>\n      <td>237.0375</td>\n    </tr>\n    <tr>\n      <th>...</th>\n      <td>...</td>\n      <td>...</td>\n      <td>...</td>\n      <td>...</td>\n    </tr>\n    <tr>\n      <th>10809</th>\n      <td>330</td>\n      <td>27</td>\n      <td>9200.00</td>\n      <td>644.0000</td>\n    </tr>\n    <tr>\n      <th>10810</th>\n      <td>331</td>\n      <td>23</td>\n      <td>12200.00</td>\n      <td>854.0000</td>\n    </tr>\n    <tr>\n      <th>10811</th>\n      <td>332</td>\n      <td>26</td>\n      <td>6800.00</td>\n      <td>408.0000</td>\n    </tr>\n    <tr>\n      <th>10812</th>\n      <td>333</td>\n      <td>26</td>\n      <td>8300.00</td>\n      <td>581.0000</td>\n    </tr>\n    <tr>\n      <th>10813</th>\n      <td>334</td>\n      <td>25</td>\n      <td>11600.00</td>\n      <td>812.0000</td>\n    </tr>\n  </tbody>\n</table>\n<p>10814 rows × 4 columns</p>\n</div>"
     },
     "execution_count": 17,
     "metadata": {},
     "output_type": "execute_result"
    }
   ],
   "source": [
    "simulation = 1\n",
    "year = 33\n",
    "ensemble_data_frames[\"Simulation_\"+str(simulation)]['Employe_20'+str(year)]"
   ],
   "metadata": {
    "collapsed": false
   }
  },
  {
   "cell_type": "code",
   "execution_count": 18,
   "outputs": [
    {
     "data": {
      "text/plain": "         id age   salaire\n0         3  65  29326.50\n1        48  65  11907.00\n2        64  65  13230.00\n3        86  65  42005.25\n4        95  65  13119.75\n...     ...  ..       ...\n3223  10996  82   9600.00\n3224  10997  89  37000.00\n3225  10998  82   3700.00\n3226  10999  91   7800.00\n3227  11000  78  23700.00\n\n[3228 rows x 3 columns]",
      "text/html": "<div>\n<style scoped>\n    .dataframe tbody tr th:only-of-type {\n        vertical-align: middle;\n    }\n\n    .dataframe tbody tr th {\n        vertical-align: top;\n    }\n\n    .dataframe thead th {\n        text-align: right;\n    }\n</style>\n<table border=\"1\" class=\"dataframe\">\n  <thead>\n    <tr style=\"text-align: right;\">\n      <th></th>\n      <th>id</th>\n      <th>age</th>\n      <th>salaire</th>\n    </tr>\n  </thead>\n  <tbody>\n    <tr>\n      <th>0</th>\n      <td>3</td>\n      <td>65</td>\n      <td>29326.50</td>\n    </tr>\n    <tr>\n      <th>1</th>\n      <td>48</td>\n      <td>65</td>\n      <td>11907.00</td>\n    </tr>\n    <tr>\n      <th>2</th>\n      <td>64</td>\n      <td>65</td>\n      <td>13230.00</td>\n    </tr>\n    <tr>\n      <th>3</th>\n      <td>86</td>\n      <td>65</td>\n      <td>42005.25</td>\n    </tr>\n    <tr>\n      <th>4</th>\n      <td>95</td>\n      <td>65</td>\n      <td>13119.75</td>\n    </tr>\n    <tr>\n      <th>...</th>\n      <td>...</td>\n      <td>...</td>\n      <td>...</td>\n    </tr>\n    <tr>\n      <th>3223</th>\n      <td>10996</td>\n      <td>82</td>\n      <td>9600.00</td>\n    </tr>\n    <tr>\n      <th>3224</th>\n      <td>10997</td>\n      <td>89</td>\n      <td>37000.00</td>\n    </tr>\n    <tr>\n      <th>3225</th>\n      <td>10998</td>\n      <td>82</td>\n      <td>3700.00</td>\n    </tr>\n    <tr>\n      <th>3226</th>\n      <td>10999</td>\n      <td>91</td>\n      <td>7800.00</td>\n    </tr>\n    <tr>\n      <th>3227</th>\n      <td>11000</td>\n      <td>78</td>\n      <td>23700.00</td>\n    </tr>\n  </tbody>\n</table>\n<p>3228 rows × 3 columns</p>\n</div>"
     },
     "execution_count": 18,
     "metadata": {},
     "output_type": "execute_result"
    }
   ],
   "source": [
    "ensemble_data_frames[\"Simulation_\"+str(simulation)]['Retraite_20'+str(year)]"
   ],
   "metadata": {
    "collapsed": false
   }
  },
  {
   "cell_type": "code",
   "execution_count": 19,
   "outputs": [
    {
     "data": {
      "text/plain": "        id age   salaire    pension\n0        3  65  29326.50  14663.250\n1       48  65  11907.00   5953.500\n2       64  65  13230.00   6615.000\n3       86  65  42005.25  21002.625\n4       95  65  13119.75   6559.875\n...    ...  ..       ...        ...\n3979  9885  63  19955.25   9977.625\n3980  9918  64  21168.00  10584.000\n3981  9949  64  11466.00   5733.000\n3982  9987  64  13781.25   6890.625\n3983  9998  64  25137.00  12568.500\n\n[3984 rows x 4 columns]",
      "text/html": "<div>\n<style scoped>\n    .dataframe tbody tr th:only-of-type {\n        vertical-align: middle;\n    }\n\n    .dataframe tbody tr th {\n        vertical-align: top;\n    }\n\n    .dataframe thead th {\n        text-align: right;\n    }\n</style>\n<table border=\"1\" class=\"dataframe\">\n  <thead>\n    <tr style=\"text-align: right;\">\n      <th></th>\n      <th>id</th>\n      <th>age</th>\n      <th>salaire</th>\n      <th>pension</th>\n    </tr>\n  </thead>\n  <tbody>\n    <tr>\n      <th>0</th>\n      <td>3</td>\n      <td>65</td>\n      <td>29326.50</td>\n      <td>14663.250</td>\n    </tr>\n    <tr>\n      <th>1</th>\n      <td>48</td>\n      <td>65</td>\n      <td>11907.00</td>\n      <td>5953.500</td>\n    </tr>\n    <tr>\n      <th>2</th>\n      <td>64</td>\n      <td>65</td>\n      <td>13230.00</td>\n      <td>6615.000</td>\n    </tr>\n    <tr>\n      <th>3</th>\n      <td>86</td>\n      <td>65</td>\n      <td>42005.25</td>\n      <td>21002.625</td>\n    </tr>\n    <tr>\n      <th>4</th>\n      <td>95</td>\n      <td>65</td>\n      <td>13119.75</td>\n      <td>6559.875</td>\n    </tr>\n    <tr>\n      <th>...</th>\n      <td>...</td>\n      <td>...</td>\n      <td>...</td>\n      <td>...</td>\n    </tr>\n    <tr>\n      <th>3979</th>\n      <td>9885</td>\n      <td>63</td>\n      <td>19955.25</td>\n      <td>9977.625</td>\n    </tr>\n    <tr>\n      <th>3980</th>\n      <td>9918</td>\n      <td>64</td>\n      <td>21168.00</td>\n      <td>10584.000</td>\n    </tr>\n    <tr>\n      <th>3981</th>\n      <td>9949</td>\n      <td>64</td>\n      <td>11466.00</td>\n      <td>5733.000</td>\n    </tr>\n    <tr>\n      <th>3982</th>\n      <td>9987</td>\n      <td>64</td>\n      <td>13781.25</td>\n      <td>6890.625</td>\n    </tr>\n    <tr>\n      <th>3983</th>\n      <td>9998</td>\n      <td>64</td>\n      <td>25137.00</td>\n      <td>12568.500</td>\n    </tr>\n  </tbody>\n</table>\n<p>3984 rows × 4 columns</p>\n</div>"
     },
     "execution_count": 19,
     "metadata": {},
     "output_type": "execute_result"
    }
   ],
   "source": [
    "pensionnaireTwo(ensemble_data_frames[\"Simulation_\"+str(simulation)]['Employe_20'+str(year)], ensemble_data_frames[\"Simulation_\"+str(simulation)]['Retraite_20'+str(year)])"
   ],
   "metadata": {
    "collapsed": false
   }
  },
  {
   "cell_type": "code",
   "execution_count": 20,
   "outputs": [
    {
     "data": {
      "text/plain": "         id age   salaire    pension\n0         3  65  29326.50  14663.250\n1        48  65  11907.00   5953.500\n2        64  65  13230.00   6615.000\n3        86  65  42005.25  21002.625\n4        95  65  13119.75   6559.875\n...     ...  ..       ...        ...\n3223  10996  82   9600.00   4800.000\n3224  10997  89  37000.00  18500.000\n3225  10998  82   3700.00   1850.000\n3226  10999  91   7800.00   3900.000\n3227  11000  78  23700.00  11850.000\n\n[3228 rows x 4 columns]",
      "text/html": "<div>\n<style scoped>\n    .dataframe tbody tr th:only-of-type {\n        vertical-align: middle;\n    }\n\n    .dataframe tbody tr th {\n        vertical-align: top;\n    }\n\n    .dataframe thead th {\n        text-align: right;\n    }\n</style>\n<table border=\"1\" class=\"dataframe\">\n  <thead>\n    <tr style=\"text-align: right;\">\n      <th></th>\n      <th>id</th>\n      <th>age</th>\n      <th>salaire</th>\n      <th>pension</th>\n    </tr>\n  </thead>\n  <tbody>\n    <tr>\n      <th>0</th>\n      <td>3</td>\n      <td>65</td>\n      <td>29326.50</td>\n      <td>14663.250</td>\n    </tr>\n    <tr>\n      <th>1</th>\n      <td>48</td>\n      <td>65</td>\n      <td>11907.00</td>\n      <td>5953.500</td>\n    </tr>\n    <tr>\n      <th>2</th>\n      <td>64</td>\n      <td>65</td>\n      <td>13230.00</td>\n      <td>6615.000</td>\n    </tr>\n    <tr>\n      <th>3</th>\n      <td>86</td>\n      <td>65</td>\n      <td>42005.25</td>\n      <td>21002.625</td>\n    </tr>\n    <tr>\n      <th>4</th>\n      <td>95</td>\n      <td>65</td>\n      <td>13119.75</td>\n      <td>6559.875</td>\n    </tr>\n    <tr>\n      <th>...</th>\n      <td>...</td>\n      <td>...</td>\n      <td>...</td>\n      <td>...</td>\n    </tr>\n    <tr>\n      <th>3223</th>\n      <td>10996</td>\n      <td>82</td>\n      <td>9600.00</td>\n      <td>4800.000</td>\n    </tr>\n    <tr>\n      <th>3224</th>\n      <td>10997</td>\n      <td>89</td>\n      <td>37000.00</td>\n      <td>18500.000</td>\n    </tr>\n    <tr>\n      <th>3225</th>\n      <td>10998</td>\n      <td>82</td>\n      <td>3700.00</td>\n      <td>1850.000</td>\n    </tr>\n    <tr>\n      <th>3226</th>\n      <td>10999</td>\n      <td>91</td>\n      <td>7800.00</td>\n      <td>3900.000</td>\n    </tr>\n    <tr>\n      <th>3227</th>\n      <td>11000</td>\n      <td>78</td>\n      <td>23700.00</td>\n      <td>11850.000</td>\n    </tr>\n  </tbody>\n</table>\n<p>3228 rows × 4 columns</p>\n</div>"
     },
     "execution_count": 20,
     "metadata": {},
     "output_type": "execute_result"
    }
   ],
   "source": [
    "pensionnaireFive(ensemble_data_frames[\"Simulation_\"+str(simulation)]['Retraite_20'+str(year)])"
   ],
   "metadata": {
    "collapsed": false
   }
  },
  {
   "cell_type": "code",
   "execution_count": 21,
   "outputs": [
    {
     "data": {
      "text/plain": "      id age salaire  cotisation\n0      1  31    6000       360.0\n1      2  23   14200       994.0\n2      3  36    3400       170.0\n3      4  33    3900       195.0\n4      5  34    3300       165.0\n..   ...  ..     ...         ...\n329  330  27    9200       644.0\n330  331  23   12200       854.0\n331  332  26    6800       408.0\n332  333  26    8300       581.0\n333  334  25   11600       812.0\n\n[334 rows x 4 columns]",
      "text/html": "<div>\n<style scoped>\n    .dataframe tbody tr th:only-of-type {\n        vertical-align: middle;\n    }\n\n    .dataframe tbody tr th {\n        vertical-align: top;\n    }\n\n    .dataframe thead th {\n        text-align: right;\n    }\n</style>\n<table border=\"1\" class=\"dataframe\">\n  <thead>\n    <tr style=\"text-align: right;\">\n      <th></th>\n      <th>id</th>\n      <th>age</th>\n      <th>salaire</th>\n      <th>cotisation</th>\n    </tr>\n  </thead>\n  <tbody>\n    <tr>\n      <th>0</th>\n      <td>1</td>\n      <td>31</td>\n      <td>6000</td>\n      <td>360.0</td>\n    </tr>\n    <tr>\n      <th>1</th>\n      <td>2</td>\n      <td>23</td>\n      <td>14200</td>\n      <td>994.0</td>\n    </tr>\n    <tr>\n      <th>2</th>\n      <td>3</td>\n      <td>36</td>\n      <td>3400</td>\n      <td>170.0</td>\n    </tr>\n    <tr>\n      <th>3</th>\n      <td>4</td>\n      <td>33</td>\n      <td>3900</td>\n      <td>195.0</td>\n    </tr>\n    <tr>\n      <th>4</th>\n      <td>5</td>\n      <td>34</td>\n      <td>3300</td>\n      <td>165.0</td>\n    </tr>\n    <tr>\n      <th>...</th>\n      <td>...</td>\n      <td>...</td>\n      <td>...</td>\n      <td>...</td>\n    </tr>\n    <tr>\n      <th>329</th>\n      <td>330</td>\n      <td>27</td>\n      <td>9200</td>\n      <td>644.0</td>\n    </tr>\n    <tr>\n      <th>330</th>\n      <td>331</td>\n      <td>23</td>\n      <td>12200</td>\n      <td>854.0</td>\n    </tr>\n    <tr>\n      <th>331</th>\n      <td>332</td>\n      <td>26</td>\n      <td>6800</td>\n      <td>408.0</td>\n    </tr>\n    <tr>\n      <th>332</th>\n      <td>333</td>\n      <td>26</td>\n      <td>8300</td>\n      <td>581.0</td>\n    </tr>\n    <tr>\n      <th>333</th>\n      <td>334</td>\n      <td>25</td>\n      <td>11600</td>\n      <td>812.0</td>\n    </tr>\n  </tbody>\n</table>\n<p>334 rows × 4 columns</p>\n</div>"
     },
     "execution_count": 21,
     "metadata": {},
     "output_type": "execute_result"
    }
   ],
   "source": [
    "ensemble_data_frames[\"Simulation_\"+str(simulation)]['newRecru_20'+str(year)]"
   ],
   "metadata": {
    "collapsed": false
   }
  },
  {
   "cell_type": "code",
   "execution_count": 22,
   "outputs": [
    {
     "data": {
      "text/plain": "    year TotEmp TotRet     TotCotis      TotPens       Reserve NouvRet NouvRec\n0   2023  10000   1000  94609572.00   67734600.0  2.268750e+08       0       0\n1   2024  10345   1000  96953208.00   67734600.0  2.560936e+08       0     345\n2   2025  10672   1352  97379748.00  117471840.0  2.360015e+08     352     327\n3   2026  10935   1731  91711569.00  170766690.0  1.569464e+08     379     263\n4   2027  11253   2097  86897206.20  220520310.0  2.332326e+07     366     318\n5   2028  11173   2470  81350661.60  273165000.0 -1.684911e+08     373     272\n6   2029  11078   2857  75591634.80  327757020.0 -4.206565e+08     387     284\n7   2030  11026   3228  74717632.65  387289531.5 -7.332284e+08     371     314\n8   2031  10988   3613  69008892.69  444599245.5 -1.108819e+09     385     335\n9   2032  10851   3984  63188355.75  498348766.5 -1.543979e+09     371     250\n10  2033  10814   3984  65469927.75  498348766.5 -1.976858e+09       0     334",
      "text/html": "<div>\n<style scoped>\n    .dataframe tbody tr th:only-of-type {\n        vertical-align: middle;\n    }\n\n    .dataframe tbody tr th {\n        vertical-align: top;\n    }\n\n    .dataframe thead th {\n        text-align: right;\n    }\n</style>\n<table border=\"1\" class=\"dataframe\">\n  <thead>\n    <tr style=\"text-align: right;\">\n      <th></th>\n      <th>year</th>\n      <th>TotEmp</th>\n      <th>TotRet</th>\n      <th>TotCotis</th>\n      <th>TotPens</th>\n      <th>Reserve</th>\n      <th>NouvRet</th>\n      <th>NouvRec</th>\n    </tr>\n  </thead>\n  <tbody>\n    <tr>\n      <th>0</th>\n      <td>2023</td>\n      <td>10000</td>\n      <td>1000</td>\n      <td>94609572.00</td>\n      <td>67734600.0</td>\n      <td>2.268750e+08</td>\n      <td>0</td>\n      <td>0</td>\n    </tr>\n    <tr>\n      <th>1</th>\n      <td>2024</td>\n      <td>10345</td>\n      <td>1000</td>\n      <td>96953208.00</td>\n      <td>67734600.0</td>\n      <td>2.560936e+08</td>\n      <td>0</td>\n      <td>345</td>\n    </tr>\n    <tr>\n      <th>2</th>\n      <td>2025</td>\n      <td>10672</td>\n      <td>1352</td>\n      <td>97379748.00</td>\n      <td>117471840.0</td>\n      <td>2.360015e+08</td>\n      <td>352</td>\n      <td>327</td>\n    </tr>\n    <tr>\n      <th>3</th>\n      <td>2026</td>\n      <td>10935</td>\n      <td>1731</td>\n      <td>91711569.00</td>\n      <td>170766690.0</td>\n      <td>1.569464e+08</td>\n      <td>379</td>\n      <td>263</td>\n    </tr>\n    <tr>\n      <th>4</th>\n      <td>2027</td>\n      <td>11253</td>\n      <td>2097</td>\n      <td>86897206.20</td>\n      <td>220520310.0</td>\n      <td>2.332326e+07</td>\n      <td>366</td>\n      <td>318</td>\n    </tr>\n    <tr>\n      <th>5</th>\n      <td>2028</td>\n      <td>11173</td>\n      <td>2470</td>\n      <td>81350661.60</td>\n      <td>273165000.0</td>\n      <td>-1.684911e+08</td>\n      <td>373</td>\n      <td>272</td>\n    </tr>\n    <tr>\n      <th>6</th>\n      <td>2029</td>\n      <td>11078</td>\n      <td>2857</td>\n      <td>75591634.80</td>\n      <td>327757020.0</td>\n      <td>-4.206565e+08</td>\n      <td>387</td>\n      <td>284</td>\n    </tr>\n    <tr>\n      <th>7</th>\n      <td>2030</td>\n      <td>11026</td>\n      <td>3228</td>\n      <td>74717632.65</td>\n      <td>387289531.5</td>\n      <td>-7.332284e+08</td>\n      <td>371</td>\n      <td>314</td>\n    </tr>\n    <tr>\n      <th>8</th>\n      <td>2031</td>\n      <td>10988</td>\n      <td>3613</td>\n      <td>69008892.69</td>\n      <td>444599245.5</td>\n      <td>-1.108819e+09</td>\n      <td>385</td>\n      <td>335</td>\n    </tr>\n    <tr>\n      <th>9</th>\n      <td>2032</td>\n      <td>10851</td>\n      <td>3984</td>\n      <td>63188355.75</td>\n      <td>498348766.5</td>\n      <td>-1.543979e+09</td>\n      <td>371</td>\n      <td>250</td>\n    </tr>\n    <tr>\n      <th>10</th>\n      <td>2033</td>\n      <td>10814</td>\n      <td>3984</td>\n      <td>65469927.75</td>\n      <td>498348766.5</td>\n      <td>-1.976858e+09</td>\n      <td>0</td>\n      <td>334</td>\n    </tr>\n  </tbody>\n</table>\n</div>"
     },
     "execution_count": 22,
     "metadata": {},
     "output_type": "execute_result"
    }
   ],
   "source": [
    "calculIndice(1, 62)"
   ],
   "metadata": {
    "collapsed": false
   }
  },
  {
   "cell_type": "code",
   "execution_count": 23,
   "outputs": [
    {
     "data": {
      "text/plain": "    year TotEmp TotRet      TotCotis      TotPens       Reserve NouvRet  \\\n0   2023  10000   1000  9.460957e+07   67734600.0  2.268750e+08       0   \n1   2024  10345   1000  9.695321e+07   67734600.0  2.560936e+08       0   \n2   2025  10672   1000  1.043430e+08   67734600.0  2.927019e+08       0   \n3   2026  10935   1000  1.061361e+08   67734600.0  3.311034e+08       0   \n4   2027  11253   1000  1.082872e+08   67734600.0  3.716560e+08       0   \n5   2028  11173   1352  1.031477e+08  117471840.0  3.573319e+08     352   \n6   2029  11078   1731  9.757028e+07  170766690.0  2.841355e+08     379   \n7   2030  11026   2097  9.771705e+07  223007991.0  1.588445e+08     366   \n8   2031  10988   2470  9.229290e+07  278284915.5 -2.714750e+07     373   \n9   2032  10851   2857  8.597227e+07  335606536.5 -2.767818e+08     387   \n10  2033  10814   3228  8.101822e+07  387289531.5 -5.830531e+08     371   \n\n   NouvRec  \n0        0  \n1      345  \n2      327  \n3      263  \n4      318  \n5      272  \n6      284  \n7      314  \n8      335  \n9      250  \n10     334  ",
      "text/html": "<div>\n<style scoped>\n    .dataframe tbody tr th:only-of-type {\n        vertical-align: middle;\n    }\n\n    .dataframe tbody tr th {\n        vertical-align: top;\n    }\n\n    .dataframe thead th {\n        text-align: right;\n    }\n</style>\n<table border=\"1\" class=\"dataframe\">\n  <thead>\n    <tr style=\"text-align: right;\">\n      <th></th>\n      <th>year</th>\n      <th>TotEmp</th>\n      <th>TotRet</th>\n      <th>TotCotis</th>\n      <th>TotPens</th>\n      <th>Reserve</th>\n      <th>NouvRet</th>\n      <th>NouvRec</th>\n    </tr>\n  </thead>\n  <tbody>\n    <tr>\n      <th>0</th>\n      <td>2023</td>\n      <td>10000</td>\n      <td>1000</td>\n      <td>9.460957e+07</td>\n      <td>67734600.0</td>\n      <td>2.268750e+08</td>\n      <td>0</td>\n      <td>0</td>\n    </tr>\n    <tr>\n      <th>1</th>\n      <td>2024</td>\n      <td>10345</td>\n      <td>1000</td>\n      <td>9.695321e+07</td>\n      <td>67734600.0</td>\n      <td>2.560936e+08</td>\n      <td>0</td>\n      <td>345</td>\n    </tr>\n    <tr>\n      <th>2</th>\n      <td>2025</td>\n      <td>10672</td>\n      <td>1000</td>\n      <td>1.043430e+08</td>\n      <td>67734600.0</td>\n      <td>2.927019e+08</td>\n      <td>0</td>\n      <td>327</td>\n    </tr>\n    <tr>\n      <th>3</th>\n      <td>2026</td>\n      <td>10935</td>\n      <td>1000</td>\n      <td>1.061361e+08</td>\n      <td>67734600.0</td>\n      <td>3.311034e+08</td>\n      <td>0</td>\n      <td>263</td>\n    </tr>\n    <tr>\n      <th>4</th>\n      <td>2027</td>\n      <td>11253</td>\n      <td>1000</td>\n      <td>1.082872e+08</td>\n      <td>67734600.0</td>\n      <td>3.716560e+08</td>\n      <td>0</td>\n      <td>318</td>\n    </tr>\n    <tr>\n      <th>5</th>\n      <td>2028</td>\n      <td>11173</td>\n      <td>1352</td>\n      <td>1.031477e+08</td>\n      <td>117471840.0</td>\n      <td>3.573319e+08</td>\n      <td>352</td>\n      <td>272</td>\n    </tr>\n    <tr>\n      <th>6</th>\n      <td>2029</td>\n      <td>11078</td>\n      <td>1731</td>\n      <td>9.757028e+07</td>\n      <td>170766690.0</td>\n      <td>2.841355e+08</td>\n      <td>379</td>\n      <td>284</td>\n    </tr>\n    <tr>\n      <th>7</th>\n      <td>2030</td>\n      <td>11026</td>\n      <td>2097</td>\n      <td>9.771705e+07</td>\n      <td>223007991.0</td>\n      <td>1.588445e+08</td>\n      <td>366</td>\n      <td>314</td>\n    </tr>\n    <tr>\n      <th>8</th>\n      <td>2031</td>\n      <td>10988</td>\n      <td>2470</td>\n      <td>9.229290e+07</td>\n      <td>278284915.5</td>\n      <td>-2.714750e+07</td>\n      <td>373</td>\n      <td>335</td>\n    </tr>\n    <tr>\n      <th>9</th>\n      <td>2032</td>\n      <td>10851</td>\n      <td>2857</td>\n      <td>8.597227e+07</td>\n      <td>335606536.5</td>\n      <td>-2.767818e+08</td>\n      <td>387</td>\n      <td>250</td>\n    </tr>\n    <tr>\n      <th>10</th>\n      <td>2033</td>\n      <td>10814</td>\n      <td>3228</td>\n      <td>8.101822e+07</td>\n      <td>387289531.5</td>\n      <td>-5.830531e+08</td>\n      <td>371</td>\n      <td>334</td>\n    </tr>\n  </tbody>\n</table>\n</div>"
     },
     "execution_count": 23,
     "metadata": {},
     "output_type": "execute_result"
    }
   ],
   "source": [
    "calculIndice(1, 65)"
   ],
   "metadata": {
    "collapsed": false
   }
  },
  {
   "cell_type": "code",
   "execution_count": 24,
   "outputs": [],
   "source": [
    "ListSimulation = []\n",
    "for i in range (40):\n",
    "    if i == 0 :\n",
    "        ListSimulation.append({\"IX\": 100, \"IY\" : 100, \"IZ\": 100})\n",
    "    else :\n",
    "        ListSimulation.append({\"IX\": ListSimulation[i-1][\"IX\"] + 10, \"IY\": ListSimulation[i-1][\"IY\"] + 20, \"IZ\": ListSimulation[i-1][\"IZ\"] + 30})"
   ],
   "metadata": {
    "collapsed": false
   }
  },
  {
   "cell_type": "code",
   "execution_count": 25,
   "outputs": [],
   "source": [
    "def createSimulation(Simulation, X, Y, Z) :\n",
    "    createEmployeRetraite(Simulation, 23, X, Y, Z)\n",
    "    for year in years:\n",
    "        calculEmployeRetraite(Simulation, year, X, Y, Z)"
   ],
   "metadata": {
    "collapsed": false
   }
  },
  {
   "cell_type": "code",
   "execution_count": 26,
   "outputs": [],
   "source": [
    "createSimulation(2, ListSimulation[1][\"IX\"], ListSimulation[1][\"IY\"], ListSimulation[1][\"IZ\"])"
   ],
   "metadata": {
    "collapsed": false
   }
  },
  {
   "cell_type": "code",
   "execution_count": null,
   "outputs": [],
   "source": [
    "for i in range(3, 41):\n",
    "    createSimulation(i, ListSimulation[i-1][\"IX\"], ListSimulation[i-1][\"IY\"], ListSimulation[i-1][\"IZ\"])"
   ],
   "metadata": {
    "collapsed": false,
    "pycharm": {
     "is_executing": true
    }
   }
  },
  {
   "cell_type": "code",
   "execution_count": null,
   "outputs": [],
   "source": [
    "ensemble_data_frames[\"Simulation_22\"]['Retraite_2032']"
   ],
   "metadata": {
    "collapsed": false,
    "pycharm": {
     "is_executing": true
    }
   }
  },
  {
   "cell_type": "code",
   "execution_count": null,
   "outputs": [],
   "source": [
    "calculIndice(21, 62)"
   ],
   "metadata": {
    "collapsed": false,
    "pycharm": {
     "is_executing": true
    }
   }
  },
  {
   "cell_type": "code",
   "execution_count": null,
   "outputs": [],
   "source": [
    "calculIndice(21, 65)"
   ],
   "metadata": {
    "collapsed": false,
    "pycharm": {
     "is_executing": true
    }
   }
  },
  {
   "cell_type": "code",
   "execution_count": null,
   "outputs": [],
   "source": [],
   "metadata": {
    "collapsed": false,
    "pycharm": {
     "is_executing": true
    }
   }
  }
 ],
 "metadata": {
  "kernelspec": {
   "display_name": "Python 3",
   "language": "python",
   "name": "python3"
  },
  "language_info": {
   "codemirror_mode": {
    "name": "ipython",
    "version": 2
   },
   "file_extension": ".py",
   "mimetype": "text/x-python",
   "name": "python",
   "nbconvert_exporter": "python",
   "pygments_lexer": "ipython2",
   "version": "2.7.6"
  }
 },
 "nbformat": 4,
 "nbformat_minor": 0
}
